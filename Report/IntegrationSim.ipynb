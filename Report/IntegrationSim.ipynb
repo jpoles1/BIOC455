{
 "cells": [
  {
   "cell_type": "code",
   "execution_count": 1,
   "metadata": {
    "collapsed": true
   },
   "outputs": [],
   "source": [
    "from sympy import *\n",
    "import numpy as np\n",
    "from IPython.display import display\n",
    "init_printing()\n",
    "%matplotlib inline\n",
    "from ipywidgets import widgets, interact\n",
    "#bokeh\n",
    "from bokeh.plotting import Figure, output_notebook, show\n",
    "from bokeh.layouts import widgetbox, column\n",
    "from bokeh.models import CustomJS, ColumnDataSource, Slider"
   ]
  },
  {
   "cell_type": "code",
   "execution_count": 3,
   "metadata": {
    "collapsed": false
   },
   "outputs": [
    {
     "data": {
      "image/png": "[encoded data removed]",
      "text/latex": [
       "$$\\dot{[cro]} = - [cro] \\gamma + \\frac{\\alpha_{cro}}{\\left(\\frac{[cI]^{2}}{c_{cI}^{2}} + 1\\right)^{2}}$$"
      ],
      "text/plain": [
       "                            α_cro    \n",
       "\\dot{[cro]} = -[cro]⋅γ + ────────────\n",
       "                                    2\n",
       "                         ⎛    2    ⎞ \n",
       "                         ⎜[cI]     ⎟ \n",
       "                         ⎜───── + 1⎟ \n",
       "                         ⎜    2    ⎟ \n",
       "                         ⎝c_cI     ⎠ "
      ]
     },
     "metadata": {},
     "output_type": "display_data"
    },
    {
     "data": {
      "image/png": "[encoded data removed]",
      "text/latex": [
       "$$\\dot{[cI]} = - [cI] \\gamma + \\frac{\\alpha_{cI}}{\\frac{[cro]^{2}}{c_{cro}^{2}} + 1}$$"
      ],
      "text/plain": [
       "                          α_cI   \n",
       "\\dot{[cI]} = -[cI]⋅γ + ──────────\n",
       "                            2    \n",
       "                       [cro]     \n",
       "                       ────── + 1\n",
       "                            2    \n",
       "                       c_cro     "
      ]
     },
     "metadata": {},
     "output_type": "display_data"
    }
   ],
   "source": [
    "cro, cI, a_cro, a_cI, c_cro, c_cI, gamma, t = symbols(\"[cro] [cI] alpha_cro alpha_cI c_cro c_cI gamma t\", positive=1)\n",
    "dot_cro = a_cro/(1+(cI/c_cI)**2)**2 - gamma*cro\n",
    "dot_cI = a_cI/(1+(cro/c_cro)**2) - gamma*cI\n",
    "display(Eq(Symbol(\"\\dot{[cro]}\"), dot_cro), Eq(Symbol(\"\\dot{[cI]}\"), dot_cI))"
   ]
  },
  {
   "cell_type": "code",
   "execution_count": 21,
   "metadata": {
    "collapsed": false
   },
   "outputs": [],
   "source": [
    "class Cell:\n",
    "    alpha_cro=.2\n",
    "    alpha_cI=.1\n",
    "    rep_cro=1\n",
    "    rep_cI=1\n",
    "    conc_cro = 100;\n",
    "    conc_cI = 20\n",
    "    subs_cro = dot_cro.subs([(a_cro, alpha_cro), (c_cI, rep_cI), (gamma, .2)])\n",
    "    subs_cI = dot_cI.subs([(a_cI, alpha_cI), (c_cro, rep_cro), (gamma, .25)])\n",
    "    newcro = conc_cro + integrate(subs_cro.subs(conc_cI, cI), (t, 0, 1))                  \n",
    "        return (cro, newcro)\n",
    "integral_step()"
   ]
  }
 ],
 "metadata": {
  "kernelspec": {
   "display_name": "Python 3",
   "language": "python",
   "name": "python3"
  },
  "language_info": {
   "codemirror_mode": {
    "name": "ipython",
    "version": 3
   },
   "file_extension": ".py",
   "mimetype": "text/x-python",
   "name": "python",
   "nbconvert_exporter": "python",
   "pygments_lexer": "ipython3",
   "version": "3.5.2"
  },
  "widgets": {
   "state": {},
   "version": "1.1.0"
  }
 },
 "nbformat": 4,
 "nbformat_minor": 0
}
