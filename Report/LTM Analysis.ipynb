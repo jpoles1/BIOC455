{
 "cells": [
  {
   "cell_type": "code",
   "execution_count": 14,
   "metadata": {
    "collapsed": true
   },
   "outputs": [],
   "source": [
    "from sympy import *\n",
    "import numpy as np\n",
    "from IPython.display import display\n",
    "init_printing()\n",
    "%matplotlib inline\n",
    "#bokeh\n",
    "from bokeh.plotting import Figure, output_notebook, show\n",
    "from bokeh.layouts import widgetbox, column\n",
    "from bokeh.models import CustomJS, ColumnDataSource, Slider"
   ]
  },
  {
   "cell_type": "code",
   "execution_count": 2,
   "metadata": {
    "collapsed": false
   },
   "outputs": [
    {
     "data": {
      "image/png": "[encoded data removed]",
      "text/latex": [
       "$$\\dot{u} = \\frac{\\alpha_{1}}{v^{\\beta} + 1} - u$$"
      ],
      "text/plain": [
       "            α₁      \n",
       "\\dot{u} = ────── - u\n",
       "           β        \n",
       "          v  + 1    "
      ]
     },
     "metadata": {},
     "output_type": "display_data"
    },
    {
     "data": {
      "image/png": "[encoded data removed]",
      "text/latex": [
       "$$\\dot{v} = \\frac{\\alpha_{2}}{u^{\\gamma} + 1} - v$$"
      ],
      "text/plain": [
       "            α₂      \n",
       "\\dot{v} = ────── - v\n",
       "           γ        \n",
       "          u  + 1    "
      ]
     },
     "metadata": {},
     "output_type": "display_data"
    }
   ],
   "source": [
    "u, v, a1, a2, beta, gamma = symbols(\"u v alpha_1 alpha_2 beta gamma\", positive=1)\n",
    "dotu = a1/(1+v**beta) - u\n",
    "du = Symbol(\"\\dot{u}\")\n",
    "dotv = a2/(1+u**gamma) - v\n",
    "dv = Symbol(\"\\dot{v}\")\n",
    "display(Eq(du, dotu), Eq(dv, dotv))"
   ]
  },
  {
   "cell_type": "code",
   "execution_count": 3,
   "metadata": {
    "collapsed": false
   },
   "outputs": [
    {
     "data": {
      "image/png": "[encoded data removed]",
      "text/plain": [
       "<matplotlib.figure.Figure at 0x7f3867ee6438>"
      ]
     },
     "metadata": {},
     "output_type": "display_data"
    },
    {
     "data": {
      "text/plain": [
       "<sympy.plotting.plot.Plot at 0x7f3867edfb70>"
      ]
     },
     "execution_count": 3,
     "metadata": {},
     "output_type": "execute_result"
    }
   ],
   "source": [
    "plot(v, v**2, v**3, (v, -5, 5))"
   ]
  },
  {
   "cell_type": "code",
   "execution_count": 4,
   "metadata": {
    "collapsed": false
   },
   "outputs": [
    {
     "data": {
      "image/png": "[encoded data removed]",
      "text/latex": [
       "$$\\frac{\\alpha_{1} u}{v^{\\beta} + 1} - \\frac{u^{2}}{2}$$"
      ],
      "text/plain": [
       "          2\n",
       " α₁⋅u    u \n",
       "────── - ──\n",
       " β       2 \n",
       "v  + 1     "
      ]
     },
     "execution_count": 4,
     "metadata": {},
     "output_type": "execute_result"
    }
   ],
   "source": [
    "integrate(dotu, u)"
   ]
  },
  {
   "cell_type": "code",
   "execution_count": 15,
   "metadata": {
    "collapsed": false
   },
   "outputs": [
    {
     "data": {
      "text/html": [
       "\n",
       "    <div class=\"bk-root\">\n",
       "        <a href=\"http://bokeh.pydata.org\" target=\"_blank\" class=\"bk-logo bk-logo-small bk-logo-notebook\"></a>\n",
       "        <span id=\"bee749f9-dbce-4921-b48b-b7795d0854ce\">Loading BokehJS ...</span>\n",
       "    </div>"
      ]
     },
     "metadata": {},
     "output_type": "display_data"
    },
    {
     "data": {
      "application/javascript": [
       "\n",
       "(function(global) {\n",
       "  function now() {\n",
       "    return new Date();\n",
       "  }\n",
       "\n",
       "  var force = \"1\";\n",
       "\n",
       "  if (typeof (window._bokeh_onload_callbacks) === \"undefined\" || force !== \"\") {\n",
       "    window._bokeh_onload_callbacks = [];\n",
       "    window._bokeh_is_loading = undefined;\n",
       "  }\n",
       "\n",
       "\n",
       "  \n",
       "  if (typeof (window._bokeh_timeout) === \"undefined\" || force !== \"\") {\n",
       "    window._bokeh_timeout = Date.now() + 5000;\n",
       "    window._bokeh_failed_load = false;\n",
       "  }\n",
       "\n",
       "  var NB_LOAD_WARNING = {'data': {'text/html':\n",
       "     \"<div style='background-color: #fdd'>\\n\"+\n",
       "     \"<p>\\n\"+\n",
       "     \"BokehJS does not appear to have successfully loaded. If loading BokehJS from CDN, this \\n\"+\n",
       "     \"may be due to a slow or bad network connection. Possible fixes:\\n\"+\n",
       "     \"</p>\\n\"+\n",
       "     \"<ul>\\n\"+\n",
       "     \"<li>re-rerun `output_notebook()` to attempt to load from CDN again, or</li>\\n\"+\n",
       "     \"<li>use INLINE resources instead, as so:</li>\\n\"+\n",
       "     \"</ul>\\n\"+\n",
       "     \"<code>\\n\"+\n",
       "     \"from bokeh.resources import INLINE\\n\"+\n",
       "     \"output_notebook(resources=INLINE)\\n\"+\n",
       "     \"</code>\\n\"+\n",
       "     \"</div>\"}};\n",
       "\n",
       "  function display_loaded() {\n",
       "    if (window.Bokeh !== undefined) {\n",
       "      Bokeh.$(\"#bee749f9-dbce-4921-b48b-b7795d0854ce\").text(\"BokehJS successfully loaded.\");\n",
       "    } else if (Date.now() < window._bokeh_timeout) {\n",
       "      setTimeout(display_loaded, 100)\n",
       "    }\n",
       "  }\n",
       "\n",
       "  function run_callbacks() {\n",
       "    window._bokeh_onload_callbacks.forEach(function(callback) { callback() });\n",
       "    delete window._bokeh_onload_callbacks\n",
       "    console.info(\"Bokeh: all callbacks have finished\");\n",
       "  }\n",
       "\n",
       "  function load_libs(js_urls, callback) {\n",
       "    window._bokeh_onload_callbacks.push(callback);\n",
       "    if (window._bokeh_is_loading > 0) {\n",
       "      console.log(\"Bokeh: BokehJS is being loaded, scheduling callback at\", now());\n",
       "      return null;\n",
       "    }\n",
       "    if (js_urls == null || js_urls.length === 0) {\n",
       "      run_callbacks();\n",
       "      return null;\n",
       "    }\n",
       "    console.log(\"Bokeh: BokehJS not loaded, scheduling load and callback at\", now());\n",
       "    window._bokeh_is_loading = js_urls.length;\n",
       "    for (var i = 0; i < js_urls.length; i++) {\n",
       "      var url = js_urls[i];\n",
       "      var s = document.createElement('script');\n",
       "      s.src = url;\n",
       "      s.async = false;\n",
       "      s.onreadystatechange = s.onload = function() {\n",
       "        window._bokeh_is_loading--;\n",
       "        if (window._bokeh_is_loading === 0) {\n",
       "          console.log(\"Bokeh: all BokehJS libraries loaded\");\n",
       "          run_callbacks()\n",
       "        }\n",
       "      };\n",
       "      s.onerror = function() {\n",
       "        console.warn(\"failed to load library \" + url);\n",
       "      };\n",
       "      console.log(\"Bokeh: injecting script tag for BokehJS library: \", url);\n",
       "      document.getElementsByTagName(\"head\")[0].appendChild(s);\n",
       "    }\n",
       "  };var element = document.getElementById(\"bee749f9-dbce-4921-b48b-b7795d0854ce\");\n",
       "  if (element == null) {\n",
       "    console.log(\"Bokeh: ERROR: autoload.js configured with elementid 'bee749f9-dbce-4921-b48b-b7795d0854ce' but no matching script tag was found. \")\n",
       "    return false;\n",
       "  }\n",
       "\n",
       "  var js_urls = ['https://cdn.pydata.org/bokeh/release/bokeh-0.12.3.min.js', 'https://cdn.pydata.org/bokeh/release/bokeh-widgets-0.12.3.min.js'];\n",
       "\n",
       "  var inline_js = [\n",
       "    function(Bokeh) {\n",
       "      Bokeh.set_log_level(\"info\");\n",
       "    },\n",
       "    \n",
       "    function(Bokeh) {\n",
       "      \n",
       "      Bokeh.$(\"#bee749f9-dbce-4921-b48b-b7795d0854ce\").text(\"BokehJS is loading...\");\n",
       "    },\n",
       "    function(Bokeh) {\n",
       "      console.log(\"Bokeh: injecting CSS: https://cdn.pydata.org/bokeh/release/bokeh-0.12.3.min.css\");\n",
       "      Bokeh.embed.inject_css(\"https://cdn.pydata.org/bokeh/release/bokeh-0.12.3.min.css\");\n",
       "      console.log(\"Bokeh: injecting CSS: https://cdn.pydata.org/bokeh/release/bokeh-widgets-0.12.3.min.css\");\n",
       "      Bokeh.embed.inject_css(\"https://cdn.pydata.org/bokeh/release/bokeh-widgets-0.12.3.min.css\");\n",
       "    }\n",
       "  ];\n",
       "\n",
       "  function run_inline_js() {\n",
       "    \n",
       "    if ((window.Bokeh !== undefined) || (force === \"1\")) {\n",
       "      for (var i = 0; i < inline_js.length; i++) {\n",
       "        inline_js[i](window.Bokeh);\n",
       "      }if (force === \"1\") {\n",
       "        display_loaded();\n",
       "      }} else if (Date.now() < window._bokeh_timeout) {\n",
       "      setTimeout(run_inline_js, 100);\n",
       "    } else if (!window._bokeh_failed_load) {\n",
       "      console.log(\"Bokeh: BokehJS failed to load within specified timeout.\");\n",
       "      window._bokeh_failed_load = true;\n",
       "    } else if (!force) {\n",
       "      var cell = $(\"#bee749f9-dbce-4921-b48b-b7795d0854ce\").parents('.cell').data().cell;\n",
       "      cell.output_area.append_execute_result(NB_LOAD_WARNING)\n",
       "    }\n",
       "\n",
       "  }\n",
       "\n",
       "  if (window._bokeh_is_loading === 0) {\n",
       "    console.log(\"Bokeh: BokehJS loaded, going straight to plotting\");\n",
       "    run_inline_js();\n",
       "  } else {\n",
       "    load_libs(js_urls, function() {\n",
       "      console.log(\"Bokeh: BokehJS plotting callback run at\", now());\n",
       "      run_inline_js();\n",
       "    });\n",
       "  }\n",
       "}(this));"
      ]
     },
     "metadata": {},
     "output_type": "display_data"
    },
    {
     "data": {
      "text/html": [
       "\n",
       "\n",
       "    <div class=\"bk-root\">\n",
       "        <div class=\"plotdiv\" id=\"334d9f74-1178-4157-a219-03ad08b6d569\"></div>\n",
       "    </div>\n",
       "<script type=\"text/javascript\">\n",
       "  \n",
       "  (function(global) {\n",
       "    function now() {\n",
       "      return new Date();\n",
       "    }\n",
       "  \n",
       "    var force = \"\";\n",
       "  \n",
       "    if (typeof (window._bokeh_onload_callbacks) === \"undefined\" || force !== \"\") {\n",
       "      window._bokeh_onload_callbacks = [];\n",
       "      window._bokeh_is_loading = undefined;\n",
       "    }\n",
       "  \n",
       "  \n",
       "    \n",
       "    if (typeof (window._bokeh_timeout) === \"undefined\" || force !== \"\") {\n",
       "      window._bokeh_timeout = Date.now() + 0;\n",
       "      window._bokeh_failed_load = false;\n",
       "    }\n",
       "  \n",
       "    var NB_LOAD_WARNING = {'data': {'text/html':\n",
       "       \"<div style='background-color: #fdd'>\\n\"+\n",
       "       \"<p>\\n\"+\n",
       "       \"BokehJS does not appear to have successfully loaded. If loading BokehJS from CDN, this \\n\"+\n",
       "       \"may be due to a slow or bad network connection. Possible fixes:\\n\"+\n",
       "       \"</p>\\n\"+\n",
       "       \"<ul>\\n\"+\n",
       "       \"<li>re-rerun `output_notebook()` to attempt to load from CDN again, or</li>\\n\"+\n",
       "       \"<li>use INLINE resources instead, as so:</li>\\n\"+\n",
       "       \"</ul>\\n\"+\n",
       "       \"<code>\\n\"+\n",
       "       \"from bokeh.resources import INLINE\\n\"+\n",
       "       \"output_notebook(resources=INLINE)\\n\"+\n",
       "       \"</code>\\n\"+\n",
       "       \"</div>\"}};\n",
       "  \n",
       "    function display_loaded() {\n",
       "      if (window.Bokeh !== undefined) {\n",
       "        Bokeh.$(\"#334d9f74-1178-4157-a219-03ad08b6d569\").text(\"BokehJS successfully loaded.\");\n",
       "      } else if (Date.now() < window._bokeh_timeout) {\n",
       "        setTimeout(display_loaded, 100)\n",
       "      }\n",
       "    }\n",
       "  \n",
       "    function run_callbacks() {\n",
       "      window._bokeh_onload_callbacks.forEach(function(callback) { callback() });\n",
       "      delete window._bokeh_onload_callbacks\n",
       "      console.info(\"Bokeh: all callbacks have finished\");\n",
       "    }\n",
       "  \n",
       "    function load_libs(js_urls, callback) {\n",
       "      window._bokeh_onload_callbacks.push(callback);\n",
       "      if (window._bokeh_is_loading > 0) {\n",
       "        console.log(\"Bokeh: BokehJS is being loaded, scheduling callback at\", now());\n",
       "        return null;\n",
       "      }\n",
       "      if (js_urls == null || js_urls.length === 0) {\n",
       "        run_callbacks();\n",
       "        return null;\n",
       "      }\n",
       "      console.log(\"Bokeh: BokehJS not loaded, scheduling load and callback at\", now());\n",
       "      window._bokeh_is_loading = js_urls.length;\n",
       "      for (var i = 0; i < js_urls.length; i++) {\n",
       "        var url = js_urls[i];\n",
       "        var s = document.createElement('script');\n",
       "        s.src = url;\n",
       "        s.async = false;\n",
       "        s.onreadystatechange = s.onload = function() {\n",
       "          window._bokeh_is_loading--;\n",
       "          if (window._bokeh_is_loading === 0) {\n",
       "            console.log(\"Bokeh: all BokehJS libraries loaded\");\n",
       "            run_callbacks()\n",
       "          }\n",
       "        };\n",
       "        s.onerror = function() {\n",
       "          console.warn(\"failed to load library \" + url);\n",
       "        };\n",
       "        console.log(\"Bokeh: injecting script tag for BokehJS library: \", url);\n",
       "        document.getElementsByTagName(\"head\")[0].appendChild(s);\n",
       "      }\n",
       "    };var element = document.getElementById(\"334d9f74-1178-4157-a219-03ad08b6d569\");\n",
       "    if (element == null) {\n",
       "      console.log(\"Bokeh: ERROR: autoload.js configured with elementid '334d9f74-1178-4157-a219-03ad08b6d569' but no matching script tag was found. \")\n",
       "      return false;\n",
       "    }\n",
       "  \n",
       "    var js_urls = [];\n",
       "  \n",
       "    var inline_js = [\n",
       "      function(Bokeh) {\n",
       "        Bokeh.$(function() {\n",
       "            var docs_json = {\"d8f1cd34-88b4-4142-893b-bbff536b778a\":{\"roots\":{\"references\":[{\"attributes\":{\"plot\":null,\"text\":null},\"id\":\"4457cffb-ef22-4020-a9aa-d4aae776a9dd\",\"type\":\"Title\"},{\"attributes\":{},\"id\":\"a51a7c2c-ef8d-43cf-9211-8bdebf7d024a\",\"type\":\"BasicTickFormatter\"},{\"attributes\":{\"callback\":null},\"id\":\"d9d6d14e-a880-4ab2-abbe-fe98d1a02f9c\",\"type\":\"DataRange1d\"},{\"attributes\":{},\"id\":\"79da00c6-00cf-4004-8e3a-f5e395363957\",\"type\":\"ToolEvents\"},{\"attributes\":{\"callback\":null},\"id\":\"db7ad6c1-e5fb-401c-855a-6853d9d17870\",\"type\":\"DataRange1d\"},{\"attributes\":{\"dimension\":1,\"plot\":{\"id\":\"d2e8448c-f82e-489e-b332-a5f108b164ce\",\"subtype\":\"Figure\",\"type\":\"Plot\"},\"ticker\":{\"id\":\"aad371cc-d14c-4600-95d0-ac01a851d2b2\",\"type\":\"BasicTicker\"}},\"id\":\"a5cd5b12-7574-4518-8966-455077611e6e\",\"type\":\"Grid\"},{\"attributes\":{\"below\":[{\"id\":\"895deccf-49d4-483f-a390-10d951a9528f\",\"type\":\"LinearAxis\"}],\"left\":[{\"id\":\"9ad270d8-a898-405e-a1d2-d1fc30d8bedc\",\"type\":\"LinearAxis\"}],\"plot_height\":400,\"plot_width\":400,\"renderers\":[{\"id\":\"895deccf-49d4-483f-a390-10d951a9528f\",\"type\":\"LinearAxis\"},{\"id\":\"72100ce9-bafc-44b0-b1ba-5682784d5e30\",\"type\":\"Grid\"},{\"id\":\"9ad270d8-a898-405e-a1d2-d1fc30d8bedc\",\"type\":\"LinearAxis\"},{\"id\":\"a5cd5b12-7574-4518-8966-455077611e6e\",\"type\":\"Grid\"},{\"id\":\"d6710f6a-0d6c-4024-a3d9-d6cc232761e0\",\"type\":\"BoxAnnotation\"},{\"id\":\"2f715fdd-4f86-4d19-a5d0-2e8f48d35d0c\",\"type\":\"GlyphRenderer\"}],\"title\":{\"id\":\"4457cffb-ef22-4020-a9aa-d4aae776a9dd\",\"type\":\"Title\"},\"tool_events\":{\"id\":\"79da00c6-00cf-4004-8e3a-f5e395363957\",\"type\":\"ToolEvents\"},\"toolbar\":{\"id\":\"604da6ab-3eb3-4110-ab24-9ebd87d9435f\",\"type\":\"Toolbar\"},\"x_range\":{\"id\":\"d9d6d14e-a880-4ab2-abbe-fe98d1a02f9c\",\"type\":\"DataRange1d\"},\"y_range\":{\"id\":\"db7ad6c1-e5fb-401c-855a-6853d9d17870\",\"type\":\"DataRange1d\"}},\"id\":\"d2e8448c-f82e-489e-b332-a5f108b164ce\",\"subtype\":\"Figure\",\"type\":\"Plot\"},{\"attributes\":{\"children\":[{\"id\":\"106bbec7-0d71-4ef7-8880-2005ffeaa7ad\",\"type\":\"Slider\"}]},\"id\":\"3d8a36a4-f4dd-49f4-afb7-9a58bcef361c\",\"type\":\"WidgetBox\"},{\"attributes\":{\"line_alpha\":{\"value\":0.6},\"line_color\":{\"value\":\"#1f77b4\"},\"line_width\":{\"value\":3},\"x\":{\"field\":\"x\"},\"y\":{\"field\":\"y\"}},\"id\":\"d5fb4cea-c8b4-4ce9-8c55-22de77d44a25\",\"type\":\"Line\"},{\"attributes\":{\"active_drag\":\"auto\",\"active_scroll\":\"auto\",\"active_tap\":\"auto\",\"tools\":[{\"id\":\"c008bfa4-bed8-4261-ba85-5520ed516bb7\",\"type\":\"PanTool\"},{\"id\":\"740c69d7-eb4c-4505-9136-dca01c2d7e0e\",\"type\":\"WheelZoomTool\"},{\"id\":\"f2ebde60-b551-4b56-b07a-c3816a2c0b98\",\"type\":\"BoxZoomTool\"},{\"id\":\"a1724cd8-dbf7-4caf-a3c1-cb6d3ea9fd54\",\"type\":\"SaveTool\"},{\"id\":\"907385e7-d9b6-48fb-9aa2-7cbe57999c92\",\"type\":\"ResetTool\"},{\"id\":\"c67ced7b-eee7-43fe-bc8c-7c36e4543c8d\",\"type\":\"HelpTool\"}]},\"id\":\"604da6ab-3eb3-4110-ab24-9ebd87d9435f\",\"type\":\"Toolbar\"},{\"attributes\":{\"plot\":{\"id\":\"d2e8448c-f82e-489e-b332-a5f108b164ce\",\"subtype\":\"Figure\",\"type\":\"Plot\"}},\"id\":\"740c69d7-eb4c-4505-9136-dca01c2d7e0e\",\"type\":\"WheelZoomTool\"},{\"attributes\":{\"plot\":{\"id\":\"d2e8448c-f82e-489e-b332-a5f108b164ce\",\"subtype\":\"Figure\",\"type\":\"Plot\"},\"ticker\":{\"id\":\"3f594b49-1f40-4e54-aaf1-c980f980da9f\",\"type\":\"BasicTicker\"}},\"id\":\"72100ce9-bafc-44b0-b1ba-5682784d5e30\",\"type\":\"Grid\"},{\"attributes\":{\"plot\":{\"id\":\"d2e8448c-f82e-489e-b332-a5f108b164ce\",\"subtype\":\"Figure\",\"type\":\"Plot\"}},\"id\":\"c67ced7b-eee7-43fe-bc8c-7c36e4543c8d\",\"type\":\"HelpTool\"},{\"attributes\":{\"bottom_units\":\"screen\",\"fill_alpha\":{\"value\":0.5},\"fill_color\":{\"value\":\"lightgrey\"},\"left_units\":\"screen\",\"level\":\"overlay\",\"line_alpha\":{\"value\":1.0},\"line_color\":{\"value\":\"black\"},\"line_dash\":[4,4],\"line_width\":{\"value\":2},\"plot\":null,\"render_mode\":\"css\",\"right_units\":\"screen\",\"top_units\":\"screen\"},\"id\":\"d6710f6a-0d6c-4024-a3d9-d6cc232761e0\",\"type\":\"BoxAnnotation\"},{\"attributes\":{\"formatter\":{\"id\":\"aea9cceb-900a-4aa7-a1b5-4d125ba7b076\",\"type\":\"BasicTickFormatter\"},\"plot\":{\"id\":\"d2e8448c-f82e-489e-b332-a5f108b164ce\",\"subtype\":\"Figure\",\"type\":\"Plot\"},\"ticker\":{\"id\":\"3f594b49-1f40-4e54-aaf1-c980f980da9f\",\"type\":\"BasicTicker\"}},\"id\":\"895deccf-49d4-483f-a390-10d951a9528f\",\"type\":\"LinearAxis\"},{\"attributes\":{\"children\":[{\"id\":\"3d8a36a4-f4dd-49f4-afb7-9a58bcef361c\",\"type\":\"WidgetBox\"},{\"id\":\"d2e8448c-f82e-489e-b332-a5f108b164ce\",\"subtype\":\"Figure\",\"type\":\"Plot\"}]},\"id\":\"9906b8f1-4094-4bda-9b82-bb8bffe96f3e\",\"type\":\"Column\"},{\"attributes\":{\"callback\":{\"id\":\"9932ce18-b5f8-4141-8c56-4e10fd0b0a7b\",\"type\":\"CustomJS\"},\"end\":4,\"start\":0.1,\"title\":\"power\",\"value\":1},\"id\":\"106bbec7-0d71-4ef7-8880-2005ffeaa7ad\",\"type\":\"Slider\"},{\"attributes\":{\"plot\":{\"id\":\"d2e8448c-f82e-489e-b332-a5f108b164ce\",\"subtype\":\"Figure\",\"type\":\"Plot\"}},\"id\":\"c008bfa4-bed8-4261-ba85-5520ed516bb7\",\"type\":\"PanTool\"},{\"attributes\":{\"callback\":null,\"column_names\":[\"x\",\"y\"],\"data\":{\"x\":[0.0,0.005,0.01,0.015,0.02,0.025,0.03,0.035,0.04,0.045,0.05,0.055,0.06,0.065,0.07,0.075,0.08,0.085,0.09,0.095,0.1,0.105,0.11,0.115,0.12,0.125,0.13,0.135,0.14,0.145,0.15,0.155,0.16,0.165,0.17,0.17500000000000002,0.18,0.185,0.19,0.195,0.2,0.20500000000000002,0.21,0.215,0.22,0.225,0.23,0.23500000000000001,0.24,0.245,0.25,0.255,0.26,0.265,0.27,0.275,0.28,0.28500000000000003,0.29,0.295,0.3,0.305,0.31,0.315,0.32,0.325,0.33,0.335,0.34,0.34500000000000003,0.35000000000000003,0.355,0.36,0.365,0.37,0.375,0.38,0.385,0.39,0.395,0.4,0.405,0.41000000000000003,0.41500000000000004,0.42,0.425,0.43,0.435,0.44,0.445,0.45,0.455,0.46,0.465,0.47000000000000003,0.47500000000000003,0.48,0.485,0.49,0.495,0.5,0.505,0.51,0.515,0.52,0.525,0.53,0.535,0.54,0.545,0.55,0.555,0.56,0.5650000000000001,0.5700000000000001,0.5750000000000001,0.58,0.585,0.59,0.595,0.6,0.605,0.61,0.615,0.62,0.625,0.63,0.635,0.64,0.645,0.65,0.655,0.66,0.665,0.67,0.675,0.68,0.685,0.6900000000000001,0.6950000000000001,0.7000000000000001,0.705,0.71,0.715,0.72,0.725,0.73,0.735,0.74,0.745,0.75,0.755,0.76,0.765,0.77,0.775,0.78,0.785,0.79,0.795,0.8,0.805,0.81,0.8150000000000001,0.8200000000000001,0.8250000000000001,0.8300000000000001,0.835,0.84,0.845,0.85,0.855,0.86,0.865,0.87,0.875,0.88,0.885,0.89,0.895,0.9,0.905,0.91,0.915,0.92,0.925,0.93,0.935,0.9400000000000001,0.9450000000000001,0.9500000000000001,0.9550000000000001,0.96,0.965,0.97,0.975,0.98,0.985,0.99,0.995],\"y\":[0.0,0.005,0.01,0.015,0.02,0.025,0.03,0.035,0.04,0.045,0.05,0.055,0.06,0.065,0.07,0.075,0.08,0.085,0.09,0.095,0.1,0.105,0.11,0.115,0.12,0.125,0.13,0.135,0.14,0.145,0.15,0.155,0.16,0.165,0.17,0.17500000000000002,0.18,0.185,0.19,0.195,0.2,0.20500000000000002,0.21,0.215,0.22,0.225,0.23,0.23500000000000001,0.24,0.245,0.25,0.255,0.26,0.265,0.27,0.275,0.28,0.28500000000000003,0.29,0.295,0.3,0.305,0.31,0.315,0.32,0.325,0.33,0.335,0.34,0.34500000000000003,0.35000000000000003,0.355,0.36,0.365,0.37,0.375,0.38,0.385,0.39,0.395,0.4,0.405,0.41000000000000003,0.41500000000000004,0.42,0.425,0.43,0.435,0.44,0.445,0.45,0.455,0.46,0.465,0.47000000000000003,0.47500000000000003,0.48,0.485,0.49,0.495,0.5,0.505,0.51,0.515,0.52,0.525,0.53,0.535,0.54,0.545,0.55,0.555,0.56,0.5650000000000001,0.5700000000000001,0.5750000000000001,0.58,0.585,0.59,0.595,0.6,0.605,0.61,0.615,0.62,0.625,0.63,0.635,0.64,0.645,0.65,0.655,0.66,0.665,0.67,0.675,0.68,0.685,0.6900000000000001,0.6950000000000001,0.7000000000000001,0.705,0.71,0.715,0.72,0.725,0.73,0.735,0.74,0.745,0.75,0.755,0.76,0.765,0.77,0.775,0.78,0.785,0.79,0.795,0.8,0.805,0.81,0.8150000000000001,0.8200000000000001,0.8250000000000001,0.8300000000000001,0.835,0.84,0.845,0.85,0.855,0.86,0.865,0.87,0.875,0.88,0.885,0.89,0.895,0.9,0.905,0.91,0.915,0.92,0.925,0.93,0.935,0.9400000000000001,0.9450000000000001,0.9500000000000001,0.9550000000000001,0.96,0.965,0.97,0.975,0.98,0.985,0.99,0.995]}},\"id\":\"ce3a53b8-5620-41a8-b63b-a354ddb46879\",\"type\":\"ColumnDataSource\"},{\"attributes\":{\"plot\":{\"id\":\"d2e8448c-f82e-489e-b332-a5f108b164ce\",\"subtype\":\"Figure\",\"type\":\"Plot\"}},\"id\":\"a1724cd8-dbf7-4caf-a3c1-cb6d3ea9fd54\",\"type\":\"SaveTool\"},{\"attributes\":{\"plot\":{\"id\":\"d2e8448c-f82e-489e-b332-a5f108b164ce\",\"subtype\":\"Figure\",\"type\":\"Plot\"}},\"id\":\"907385e7-d9b6-48fb-9aa2-7cbe57999c92\",\"type\":\"ResetTool\"},{\"attributes\":{\"args\":{\"source\":{\"id\":\"ce3a53b8-5620-41a8-b63b-a354ddb46879\",\"type\":\"ColumnDataSource\"}},\"code\":\"\\n        var data = source.data;\\n        var f = cb_obj.value\\n        x = data['x']\\n        y = data['y']\\n        for (i = 0; i < x.length; i++) {\\n            y[i] = Math.pow(x[i], f)\\n        }\\n        source.trigger('change');\\n    \"},\"id\":\"9932ce18-b5f8-4141-8c56-4e10fd0b0a7b\",\"type\":\"CustomJS\"},{\"attributes\":{\"overlay\":{\"id\":\"d6710f6a-0d6c-4024-a3d9-d6cc232761e0\",\"type\":\"BoxAnnotation\"},\"plot\":{\"id\":\"d2e8448c-f82e-489e-b332-a5f108b164ce\",\"subtype\":\"Figure\",\"type\":\"Plot\"}},\"id\":\"f2ebde60-b551-4b56-b07a-c3816a2c0b98\",\"type\":\"BoxZoomTool\"},{\"attributes\":{},\"id\":\"aad371cc-d14c-4600-95d0-ac01a851d2b2\",\"type\":\"BasicTicker\"},{\"attributes\":{\"data_source\":{\"id\":\"ce3a53b8-5620-41a8-b63b-a354ddb46879\",\"type\":\"ColumnDataSource\"},\"glyph\":{\"id\":\"d5fb4cea-c8b4-4ce9-8c55-22de77d44a25\",\"type\":\"Line\"},\"hover_glyph\":null,\"nonselection_glyph\":{\"id\":\"9b8a0fd4-31a7-44a6-b36d-64d1a1af6ba1\",\"type\":\"Line\"},\"selection_glyph\":null},\"id\":\"2f715fdd-4f86-4d19-a5d0-2e8f48d35d0c\",\"type\":\"GlyphRenderer\"},{\"attributes\":{\"line_alpha\":{\"value\":0.1},\"line_color\":{\"value\":\"#1f77b4\"},\"line_width\":{\"value\":3},\"x\":{\"field\":\"x\"},\"y\":{\"field\":\"y\"}},\"id\":\"9b8a0fd4-31a7-44a6-b36d-64d1a1af6ba1\",\"type\":\"Line\"},{\"attributes\":{},\"id\":\"3f594b49-1f40-4e54-aaf1-c980f980da9f\",\"type\":\"BasicTicker\"},{\"attributes\":{},\"id\":\"aea9cceb-900a-4aa7-a1b5-4d125ba7b076\",\"type\":\"BasicTickFormatter\"},{\"attributes\":{\"formatter\":{\"id\":\"a51a7c2c-ef8d-43cf-9211-8bdebf7d024a\",\"type\":\"BasicTickFormatter\"},\"plot\":{\"id\":\"d2e8448c-f82e-489e-b332-a5f108b164ce\",\"subtype\":\"Figure\",\"type\":\"Plot\"},\"ticker\":{\"id\":\"aad371cc-d14c-4600-95d0-ac01a851d2b2\",\"type\":\"BasicTicker\"}},\"id\":\"9ad270d8-a898-405e-a1d2-d1fc30d8bedc\",\"type\":\"LinearAxis\"}],\"root_ids\":[\"9906b8f1-4094-4bda-9b82-bb8bffe96f3e\"]},\"title\":\"Bokeh Application\",\"version\":\"0.12.3\"}};\n",
       "            var render_items = [{\"docid\":\"d8f1cd34-88b4-4142-893b-bbff536b778a\",\"elementid\":\"334d9f74-1178-4157-a219-03ad08b6d569\",\"modelid\":\"9906b8f1-4094-4bda-9b82-bb8bffe96f3e\"}];\n",
       "            \n",
       "            Bokeh.embed.embed_items(docs_json, render_items);\n",
       "        });\n",
       "      },\n",
       "      function(Bokeh) {\n",
       "      }\n",
       "    ];\n",
       "  \n",
       "    function run_inline_js() {\n",
       "      \n",
       "      if ((window.Bokeh !== undefined) || (force === \"1\")) {\n",
       "        for (var i = 0; i < inline_js.length; i++) {\n",
       "          inline_js[i](window.Bokeh);\n",
       "        }if (force === \"1\") {\n",
       "          display_loaded();\n",
       "        }} else if (Date.now() < window._bokeh_timeout) {\n",
       "        setTimeout(run_inline_js, 100);\n",
       "      } else if (!window._bokeh_failed_load) {\n",
       "        console.log(\"Bokeh: BokehJS failed to load within specified timeout.\");\n",
       "        window._bokeh_failed_load = true;\n",
       "      } else if (!force) {\n",
       "        var cell = $(\"#334d9f74-1178-4157-a219-03ad08b6d569\").parents('.cell').data().cell;\n",
       "        cell.output_area.append_execute_result(NB_LOAD_WARNING)\n",
       "      }\n",
       "  \n",
       "    }\n",
       "  \n",
       "    if (window._bokeh_is_loading === 0) {\n",
       "      console.log(\"Bokeh: BokehJS loaded, going straight to plotting\");\n",
       "      run_inline_js();\n",
       "    } else {\n",
       "      load_libs(js_urls, function() {\n",
       "        console.log(\"Bokeh: BokehJS plotting callback run at\", now());\n",
       "        run_inline_js();\n",
       "      });\n",
       "    }\n",
       "  }(this));\n",
       "</script>"
      ]
     },
     "metadata": {},
     "output_type": "display_data"
    }
   ],
   "source": [
    "output_notebook() \n",
    "x = [x*0.005 for x in range(0, 200)]\n",
    "y = x\n",
    "\n",
    "source = ColumnDataSource(data=dict(x=x, y=y))\n",
    "\n",
    "plot = Figure(plot_width=400, plot_height=400)\n",
    "plot.line('x', 'y', source=source, line_width=3, line_alpha=0.6)\n",
    "\n",
    "callback = CustomJS(args=dict(source=source), code=\"\"\"\n",
    "        var data = source.data;\n",
    "        var f = cb_obj.value\n",
    "        x = data['x']\n",
    "        y = data['y']\n",
    "        for (i = 0; i < x.length; i++) {\n",
    "            y[i] = Math.pow(x[i], f)\n",
    "        }\n",
    "        source.trigger('change');\n",
    "    \"\"\")\n",
    "\n",
    "slider = Slider(start=0.1, end=4, value=1, step=.1, title=\"power\", callback=callback)\n",
    "\n",
    "layout = column(slider, plot)\n",
    "\n",
    "show(layout)"
   ]
  },
  {
   "cell_type": "code",
   "execution_count": null,
   "metadata": {
    "collapsed": true
   },
   "outputs": [],
   "source": []
  }
 ],
 "metadata": {
  "kernelspec": {
   "display_name": "Python 3",
   "language": "python",
   "name": "python3"
  },
  "language_info": {
   "codemirror_mode": {
    "name": "ipython",
    "version": 3
   },
   "file_extension": ".py",
   "mimetype": "text/x-python",
   "name": "python",
   "nbconvert_exporter": "python",
   "pygments_lexer": "ipython3",
   "version": "3.5.2"
  }
 },
 "nbformat": 4,
 "nbformat_minor": 0
}
