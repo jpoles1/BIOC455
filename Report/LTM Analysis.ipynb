{
 "cells": [
  {
   "cell_type": "markdown",
   "metadata": {
    "slideshow": {
     "slide_type": "-"
    }
   },
   "source": [
    "# Analysis of the LTM Toggle Switch\n",
    "\n",
    "Below we will analyze the LTM toggle switch introduced by Kotula et al. in their 2004 PNAS paper:\n",
    "\n",
    "http://www.pnas.org/content/111/13/4838.full.pdf\n",
    "\n"
   ]
  },
  {
   "cell_type": "code",
   "execution_count": 1,
   "metadata": {
    "collapsed": false
   },
   "outputs": [],
   "source": [
    "from sympy import *\n",
    "import numpy as np\n",
    "from IPython.display import display\n",
    "init_printing()\n",
    "%matplotlib inline\n",
    "from ipywidgets import widgets, interact\n",
    "#bokeh\n",
    "from bokeh.plotting import Figure, output_notebook, show\n",
    "from bokeh.layouts import widgetbox, column\n",
    "from bokeh.models import CustomJS, ColumnDataSource, Slider"
   ]
  },
  {
   "cell_type": "markdown",
   "metadata": {},
   "source": [
    "## Dilution Rate Analysis\n",
    "\n",
    "We will first examine the dilution rate of an arbitrary protein in an E. coli cell undergoing division at a rate of one division per hour.\n",
    "\n",
    "Dilution Rate = 1 binary division/60 min\n",
    "\n",
    "$\n",
    "x(t) = x_0 (1/2)^{t/60}\n",
    "$\n",
    "\n",
    "In absence of production, a given protein will decay as follows:"
   ]
  },
  {
   "cell_type": "code",
   "execution_count": 28,
   "metadata": {
    "collapsed": false,
    "scrolled": true
   },
   "outputs": [
    {
     "data": {
      "image/png": "[encoded data removed]",
      "text/plain": [
       "<matplotlib.figure.Figure at 0x7fadc8800b38>"
      ]
     },
     "metadata": {},
     "output_type": "display_data"
    }
   ],
   "source": [
    "t = symbols(\"t\", positive=1)\n",
    "def plot_decay(duration=60):\n",
    "    plot((1/2)**(t/duration), (t, 0, 1000))\n",
    "plt=interact(plot_decay, duration=(1, 120, 5))"
   ]
  },
  {
   "cell_type": "markdown",
   "metadata": {},
   "source": [
    "## Bistability Analysis\n",
    "Below we perform bistability analysis akin to that performed by Gardner et al. (2000). We provide interactivity, in order to allow a greater degree of understanding of the geometric relationship between these equations. We demonstrate below the power of the hill-style equation to contend with cooperativity of binding, or multiple binding sites. Here we demonstrate a case of non-cooperative binding with 3 regulatory sites per promoter."
   ]
  },
  {
   "cell_type": "code",
   "execution_count": 3,
   "metadata": {
    "collapsed": false
   },
   "outputs": [
    {
     "data": {
      "image/png": "[encoded data removed]",
      "text/latex": [
       "$$\\dot{u} = \\frac{\\alpha_{1}}{v^{\\beta_{1}} + 1} - \\gamma u$$"
      ],
      "text/plain": [
       "             α₁        \n",
       "\\dot{u} = ─────── - γ⋅u\n",
       "           β₁          \n",
       "          v   + 1      "
      ]
     },
     "metadata": {},
     "output_type": "display_data"
    },
    {
     "data": {
      "image/png": "[encoded data removed]",
      "text/latex": [
       "$$\\dot{v} = \\frac{\\alpha_{2}}{u^{\\beta_{2}} + 1} - \\gamma v$$"
      ],
      "text/plain": [
       "             α₂        \n",
       "\\dot{v} = ─────── - γ⋅v\n",
       "           β₂          \n",
       "          u   + 1      "
      ]
     },
     "metadata": {},
     "output_type": "display_data"
    }
   ],
   "source": [
    "u, v, a1, a2, b1, b2, gamma, t = symbols(\"u v alpha_1 alpha_2 beta_1 beta_2 gamma t\", positive=1)\n",
    "dotu = a1/(1+v**b1) - gamma*u\n",
    "dotv = a2/(1+u**b2) - gamma*v\n",
    "display(Eq(Symbol(\"\\dot{u}\"), dotu), Eq(Symbol(\"\\dot{v}\"), dotv))"
   ]
  },
  {
   "cell_type": "code",
   "execution_count": 4,
   "metadata": {
    "collapsed": false
   },
   "outputs": [
    {
     "data": {
      "image/png": "[encoded data removed]",
      "text/latex": [
       "$$u_{s} = \\frac{\\alpha_{1}}{\\gamma \\left(v^{\\beta_{1}} + 1\\right)}$$"
      ],
      "text/plain": [
       "          α₁    \n",
       "uₛ = ───────────\n",
       "       ⎛ β₁    ⎞\n",
       "     γ⋅⎝v   + 1⎠"
      ]
     },
     "metadata": {},
     "output_type": "display_data"
    },
    {
     "data": {
      "image/png": "[encoded data removed]",
      "text/latex": [
       "$$v_{s} = \\frac{\\alpha_{2}}{\\gamma \\left(u^{\\beta_{2}} + 1\\right)}$$"
      ],
      "text/plain": [
       "          α₂    \n",
       "vₛ = ───────────\n",
       "       ⎛ β₂    ⎞\n",
       "     γ⋅⎝u   + 1⎠"
      ]
     },
     "metadata": {},
     "output_type": "display_data"
    }
   ],
   "source": [
    "ustable = solve(dotu, u)[0]\n",
    "display(Eq(Symbol(\"u_s\"), ustable))\n",
    "vstable = solve(dotv, v)[0]\n",
    "display(Eq(Symbol(\"v_s\"), vstable))"
   ]
  },
  {
   "cell_type": "code",
   "execution_count": 5,
   "metadata": {
    "collapsed": false
   },
   "outputs": [
    {
     "data": {
      "text/html": [
       "\n",
       "    <div class=\"bk-root\">\n",
       "        <a href=\"http://bokeh.pydata.org\" target=\"_blank\" class=\"bk-logo bk-logo-small bk-logo-notebook\"></a>\n",
       "        <span id=\"c6d923c4-a9bf-43a3-9390-887803a960c0\">Loading BokehJS ...</span>\n",
       "    </div>"
      ]
     },
     "metadata": {},
     "output_type": "display_data"
    },
    {
     "data": {
      "application/javascript": [
       "\n",
       "(function(global) {\n",
       "  function now() {\n",
       "    return new Date();\n",
       "  }\n",
       "\n",
       "  var force = \"1\";\n",
       "\n",
       "  if (typeof (window._bokeh_onload_callbacks) === \"undefined\" || force !== \"\") {\n",
       "    window._bokeh_onload_callbacks = [];\n",
       "    window._bokeh_is_loading = undefined;\n",
       "  }\n",
       "\n",
       "\n",
       "  \n",
       "  if (typeof (window._bokeh_timeout) === \"undefined\" || force !== \"\") {\n",
       "    window._bokeh_timeout = Date.now() + 5000;\n",
       "    window._bokeh_failed_load = false;\n",
       "  }\n",
       "\n",
       "  var NB_LOAD_WARNING = {'data': {'text/html':\n",
       "     \"<div style='background-color: #fdd'>\\n\"+\n",
       "     \"<p>\\n\"+\n",
       "     \"BokehJS does not appear to have successfully loaded. If loading BokehJS from CDN, this \\n\"+\n",
       "     \"may be due to a slow or bad network connection. Possible fixes:\\n\"+\n",
       "     \"</p>\\n\"+\n",
       "     \"<ul>\\n\"+\n",
       "     \"<li>re-rerun `output_notebook()` to attempt to load from CDN again, or</li>\\n\"+\n",
       "     \"<li>use INLINE resources instead, as so:</li>\\n\"+\n",
       "     \"</ul>\\n\"+\n",
       "     \"<code>\\n\"+\n",
       "     \"from bokeh.resources import INLINE\\n\"+\n",
       "     \"output_notebook(resources=INLINE)\\n\"+\n",
       "     \"</code>\\n\"+\n",
       "     \"</div>\"}};\n",
       "\n",
       "  function display_loaded() {\n",
       "    if (window.Bokeh !== undefined) {\n",
       "      Bokeh.$(\"#c6d923c4-a9bf-43a3-9390-887803a960c0\").text(\"BokehJS successfully loaded.\");\n",
       "    } else if (Date.now() < window._bokeh_timeout) {\n",
       "      setTimeout(display_loaded, 100)\n",
       "    }\n",
       "  }\n",
       "\n",
       "  function run_callbacks() {\n",
       "    window._bokeh_onload_callbacks.forEach(function(callback) { callback() });\n",
       "    delete window._bokeh_onload_callbacks\n",
       "    console.info(\"Bokeh: all callbacks have finished\");\n",
       "  }\n",
       "\n",
       "  function load_libs(js_urls, callback) {\n",
       "    window._bokeh_onload_callbacks.push(callback);\n",
       "    if (window._bokeh_is_loading > 0) {\n",
       "      console.log(\"Bokeh: BokehJS is being loaded, scheduling callback at\", now());\n",
       "      return null;\n",
       "    }\n",
       "    if (js_urls == null || js_urls.length === 0) {\n",
       "      run_callbacks();\n",
       "      return null;\n",
       "    }\n",
       "    console.log(\"Bokeh: BokehJS not loaded, scheduling load and callback at\", now());\n",
       "    window._bokeh_is_loading = js_urls.length;\n",
       "    for (var i = 0; i < js_urls.length; i++) {\n",
       "      var url = js_urls[i];\n",
       "      var s = document.createElement('script');\n",
       "      s.src = url;\n",
       "      s.async = false;\n",
       "      s.onreadystatechange = s.onload = function() {\n",
       "        window._bokeh_is_loading--;\n",
       "        if (window._bokeh_is_loading === 0) {\n",
       "          console.log(\"Bokeh: all BokehJS libraries loaded\");\n",
       "          run_callbacks()\n",
       "        }\n",
       "      };\n",
       "      s.onerror = function() {\n",
       "        console.warn(\"failed to load library \" + url);\n",
       "      };\n",
       "      console.log(\"Bokeh: injecting script tag for BokehJS library: \", url);\n",
       "      document.getElementsByTagName(\"head\")[0].appendChild(s);\n",
       "    }\n",
       "  };var element = document.getElementById(\"c6d923c4-a9bf-43a3-9390-887803a960c0\");\n",
       "  if (element == null) {\n",
       "    console.log(\"Bokeh: ERROR: autoload.js configured with elementid 'c6d923c4-a9bf-43a3-9390-887803a960c0' but no matching script tag was found. \")\n",
       "    return false;\n",
       "  }\n",
       "\n",
       "  var js_urls = ['https://cdn.pydata.org/bokeh/release/bokeh-0.12.3.min.js', 'https://cdn.pydata.org/bokeh/release/bokeh-widgets-0.12.3.min.js'];\n",
       "\n",
       "  var inline_js = [\n",
       "    function(Bokeh) {\n",
       "      Bokeh.set_log_level(\"info\");\n",
       "    },\n",
       "    \n",
       "    function(Bokeh) {\n",
       "      \n",
       "      Bokeh.$(\"#c6d923c4-a9bf-43a3-9390-887803a960c0\").text(\"BokehJS is loading...\");\n",
       "    },\n",
       "    function(Bokeh) {\n",
       "      console.log(\"Bokeh: injecting CSS: https://cdn.pydata.org/bokeh/release/bokeh-0.12.3.min.css\");\n",
       "      Bokeh.embed.inject_css(\"https://cdn.pydata.org/bokeh/release/bokeh-0.12.3.min.css\");\n",
       "      console.log(\"Bokeh: injecting CSS: https://cdn.pydata.org/bokeh/release/bokeh-widgets-0.12.3.min.css\");\n",
       "      Bokeh.embed.inject_css(\"https://cdn.pydata.org/bokeh/release/bokeh-widgets-0.12.3.min.css\");\n",
       "    }\n",
       "  ];\n",
       "\n",
       "  function run_inline_js() {\n",
       "    \n",
       "    if ((window.Bokeh !== undefined) || (force === \"1\")) {\n",
       "      for (var i = 0; i < inline_js.length; i++) {\n",
       "        inline_js[i](window.Bokeh);\n",
       "      }if (force === \"1\") {\n",
       "        display_loaded();\n",
       "      }} else if (Date.now() < window._bokeh_timeout) {\n",
       "      setTimeout(run_inline_js, 100);\n",
       "    } else if (!window._bokeh_failed_load) {\n",
       "      console.log(\"Bokeh: BokehJS failed to load within specified timeout.\");\n",
       "      window._bokeh_failed_load = true;\n",
       "    } else if (!force) {\n",
       "      var cell = $(\"#c6d923c4-a9bf-43a3-9390-887803a960c0\").parents('.cell').data().cell;\n",
       "      cell.output_area.append_execute_result(NB_LOAD_WARNING)\n",
       "    }\n",
       "\n",
       "  }\n",
       "\n",
       "  if (window._bokeh_is_loading === 0) {\n",
       "    console.log(\"Bokeh: BokehJS loaded, going straight to plotting\");\n",
       "    run_inline_js();\n",
       "  } else {\n",
       "    load_libs(js_urls, function() {\n",
       "      console.log(\"Bokeh: BokehJS plotting callback run at\", now());\n",
       "      run_inline_js();\n",
       "    });\n",
       "  }\n",
       "}(this));"
      ]
     },
     "metadata": {},
     "output_type": "display_data"
    },
    {
     "data": {
      "text/html": [
       "\n",
       "\n",
       "    <div class=\"bk-root\">\n",
       "        <div class=\"plotdiv\" id=\"da3d5b76-4c03-4691-8ecc-367406d13646\"></div>\n",
       "    </div>\n",
       "<script type=\"text/javascript\">\n",
       "  \n",
       "  (function(global) {\n",
       "    function now() {\n",
       "      return new Date();\n",
       "    }\n",
       "  \n",
       "    var force = \"\";\n",
       "  \n",
       "    if (typeof (window._bokeh_onload_callbacks) === \"undefined\" || force !== \"\") {\n",
       "      window._bokeh_onload_callbacks = [];\n",
       "      window._bokeh_is_loading = undefined;\n",
       "    }\n",
       "  \n",
       "  \n",
       "    \n",
       "    if (typeof (window._bokeh_timeout) === \"undefined\" || force !== \"\") {\n",
       "      window._bokeh_timeout = Date.now() + 0;\n",
       "      window._bokeh_failed_load = false;\n",
       "    }\n",
       "  \n",
       "    var NB_LOAD_WARNING = {'data': {'text/html':\n",
       "       \"<div style='background-color: #fdd'>\\n\"+\n",
       "       \"<p>\\n\"+\n",
       "       \"BokehJS does not appear to have successfully loaded. If loading BokehJS from CDN, this \\n\"+\n",
       "       \"may be due to a slow or bad network connection. Possible fixes:\\n\"+\n",
       "       \"</p>\\n\"+\n",
       "       \"<ul>\\n\"+\n",
       "       \"<li>re-rerun `output_notebook()` to attempt to load from CDN again, or</li>\\n\"+\n",
       "       \"<li>use INLINE resources instead, as so:</li>\\n\"+\n",
       "       \"</ul>\\n\"+\n",
       "       \"<code>\\n\"+\n",
       "       \"from bokeh.resources import INLINE\\n\"+\n",
       "       \"output_notebook(resources=INLINE)\\n\"+\n",
       "       \"</code>\\n\"+\n",
       "       \"</div>\"}};\n",
       "  \n",
       "    function display_loaded() {\n",
       "      if (window.Bokeh !== undefined) {\n",
       "        Bokeh.$(\"#da3d5b76-4c03-4691-8ecc-367406d13646\").text(\"BokehJS successfully loaded.\");\n",
       "      } else if (Date.now() < window._bokeh_timeout) {\n",
       "        setTimeout(display_loaded, 100)\n",
       "      }\n",
       "    }\n",
       "  \n",
       "    function run_callbacks() {\n",
       "      window._bokeh_onload_callbacks.forEach(function(callback) { callback() });\n",
       "      delete window._bokeh_onload_callbacks\n",
       "      console.info(\"Bokeh: all callbacks have finished\");\n",
       "    }\n",
       "  \n",
       "    function load_libs(js_urls, callback) {\n",
       "      window._bokeh_onload_callbacks.push(callback);\n",
       "      if (window._bokeh_is_loading > 0) {\n",
       "        console.log(\"Bokeh: BokehJS is being loaded, scheduling callback at\", now());\n",
       "        return null;\n",
       "      }\n",
       "      if (js_urls == null || js_urls.length === 0) {\n",
       "        run_callbacks();\n",
       "        return null;\n",
       "      }\n",
       "      console.log(\"Bokeh: BokehJS not loaded, scheduling load and callback at\", now());\n",
       "      window._bokeh_is_loading = js_urls.length;\n",
       "      for (var i = 0; i < js_urls.length; i++) {\n",
       "        var url = js_urls[i];\n",
       "        var s = document.createElement('script');\n",
       "        s.src = url;\n",
       "        s.async = false;\n",
       "        s.onreadystatechange = s.onload = function() {\n",
       "          window._bokeh_is_loading--;\n",
       "          if (window._bokeh_is_loading === 0) {\n",
       "            console.log(\"Bokeh: all BokehJS libraries loaded\");\n",
       "            run_callbacks()\n",
       "          }\n",
       "        };\n",
       "        s.onerror = function() {\n",
       "          console.warn(\"failed to load library \" + url);\n",
       "        };\n",
       "        console.log(\"Bokeh: injecting script tag for BokehJS library: \", url);\n",
       "        document.getElementsByTagName(\"head\")[0].appendChild(s);\n",
       "      }\n",
       "    };var element = document.getElementById(\"da3d5b76-4c03-4691-8ecc-367406d13646\");\n",
       "    if (element == null) {\n",
       "      console.log(\"Bokeh: ERROR: autoload.js configured with elementid 'da3d5b76-4c03-4691-8ecc-367406d13646' but no matching script tag was found. \")\n",
       "      return false;\n",
       "    }\n",
       "  \n",
       "    var js_urls = [];\n",
       "  \n",
       "    var inline_js = [\n",
       "      function(Bokeh) {\n",
       "        Bokeh.$(function() {\n",
       "            var docs_json = {\"cc4a20fd-e8f2-4744-a6f1-f68efcd4d647\":{\"roots\":{\"references\":[{\"attributes\":{\"plot\":{\"id\":\"be75834d-8665-4a42-bb88-87785cdb714d\",\"subtype\":\"Figure\",\"type\":\"Plot\"}},\"id\":\"72749545-8e8b-43fc-a031-f561d6945603\",\"type\":\"SaveTool\"},{\"attributes\":{\"plot\":{\"id\":\"be75834d-8665-4a42-bb88-87785cdb714d\",\"subtype\":\"Figure\",\"type\":\"Plot\"}},\"id\":\"d1dfd4b2-1a49-4bbe-82c4-3ee8757a693b\",\"type\":\"WheelZoomTool\"},{\"attributes\":{\"formatter\":{\"id\":\"03ae94b7-7546-4c14-9d48-5aa0e062d022\",\"type\":\"BasicTickFormatter\"},\"plot\":{\"id\":\"be75834d-8665-4a42-bb88-87785cdb714d\",\"subtype\":\"Figure\",\"type\":\"Plot\"},\"ticker\":{\"id\":\"8258735b-fcb6-4473-bb50-991b5b60b4c6\",\"type\":\"BasicTicker\"}},\"id\":\"44266f99-dfe7-4f46-a771-e518c289ceb8\",\"type\":\"LinearAxis\"},{\"attributes\":{},\"id\":\"8dd9d383-8d3f-4aae-9ae4-295fb76bbcf6\",\"type\":\"ToolEvents\"},{\"attributes\":{},\"id\":\"03ae94b7-7546-4c14-9d48-5aa0e062d022\",\"type\":\"BasicTickFormatter\"},{\"attributes\":{\"plot\":{\"id\":\"be75834d-8665-4a42-bb88-87785cdb714d\",\"subtype\":\"Figure\",\"type\":\"Plot\"}},\"id\":\"6e3a60dd-11b1-4c5f-bd74-65e2f0e4bca8\",\"type\":\"ResetTool\"},{\"attributes\":{\"data_source\":{\"id\":\"f8c91aef-26a2-4108-a76c-d3162555b437\",\"type\":\"ColumnDataSource\"},\"glyph\":{\"id\":\"c5d1956d-32d6-49ce-a85f-1c21c9cbcd2c\",\"type\":\"Line\"},\"hover_glyph\":null,\"nonselection_glyph\":{\"id\":\"7af5cfef-14cf-4bcc-a91b-8cd9ebebe0aa\",\"type\":\"Line\"},\"selection_glyph\":null},\"id\":\"e857d41b-4e18-49a1-9e05-58ab9c71d3b6\",\"type\":\"GlyphRenderer\"},{\"attributes\":{\"data_source\":{\"id\":\"f8c91aef-26a2-4108-a76c-d3162555b437\",\"type\":\"ColumnDataSource\"},\"glyph\":{\"id\":\"efca7a40-8c64-43e7-af40-cb1a150d18ea\",\"type\":\"Line\"},\"hover_glyph\":null,\"nonselection_glyph\":{\"id\":\"860e4894-8798-4c1a-87cf-1ad66ecb942b\",\"type\":\"Line\"},\"selection_glyph\":null},\"id\":\"7d62a1e7-5a9e-4430-a9f8-c5763b15b54a\",\"type\":\"GlyphRenderer\"},{\"attributes\":{\"below\":[{\"id\":\"fc3103dc-cb17-4dca-b74b-3d771f5d9906\",\"type\":\"LinearAxis\"}],\"left\":[{\"id\":\"44266f99-dfe7-4f46-a771-e518c289ceb8\",\"type\":\"LinearAxis\"}],\"plot_height\":400,\"plot_width\":400,\"renderers\":[{\"id\":\"fc3103dc-cb17-4dca-b74b-3d771f5d9906\",\"type\":\"LinearAxis\"},{\"id\":\"bba1fe1a-46b3-49b8-af8c-f4b7649f2a7b\",\"type\":\"Grid\"},{\"id\":\"44266f99-dfe7-4f46-a771-e518c289ceb8\",\"type\":\"LinearAxis\"},{\"id\":\"0698e95f-c3b5-4815-bda7-e374b3fb2b2d\",\"type\":\"Grid\"},{\"id\":\"f32dd8da-2559-445e-a9d3-393fe1da69ce\",\"type\":\"BoxAnnotation\"},{\"id\":\"7d62a1e7-5a9e-4430-a9f8-c5763b15b54a\",\"type\":\"GlyphRenderer\"},{\"id\":\"e857d41b-4e18-49a1-9e05-58ab9c71d3b6\",\"type\":\"GlyphRenderer\"}],\"title\":{\"id\":\"22161ab2-6b63-4161-a868-c0ec4fa86067\",\"type\":\"Title\"},\"tool_events\":{\"id\":\"8dd9d383-8d3f-4aae-9ae4-295fb76bbcf6\",\"type\":\"ToolEvents\"},\"toolbar\":{\"id\":\"9c038ce4-9464-4880-8684-aba5f0663efd\",\"type\":\"Toolbar\"},\"x_range\":{\"id\":\"df48b4a0-02e5-41b4-8c66-a0ab7d2bba78\",\"type\":\"DataRange1d\"},\"y_range\":{\"id\":\"2d28a965-5b20-4c2f-9c4a-784eee00d6f7\",\"type\":\"DataRange1d\"}},\"id\":\"be75834d-8665-4a42-bb88-87785cdb714d\",\"subtype\":\"Figure\",\"type\":\"Plot\"},{\"attributes\":{},\"id\":\"170dd388-668a-41ea-aa72-5ee4389887f7\",\"type\":\"BasicTickFormatter\"},{\"attributes\":{},\"id\":\"8258735b-fcb6-4473-bb50-991b5b60b4c6\",\"type\":\"BasicTicker\"},{\"attributes\":{\"active_drag\":\"auto\",\"active_scroll\":\"auto\",\"active_tap\":\"auto\",\"tools\":[{\"id\":\"5eb0b631-de16-40d0-92f9-b0741a1afa66\",\"type\":\"PanTool\"},{\"id\":\"d1dfd4b2-1a49-4bbe-82c4-3ee8757a693b\",\"type\":\"WheelZoomTool\"},{\"id\":\"006634ed-6b7d-4c19-b511-b90160fbdf54\",\"type\":\"BoxZoomTool\"},{\"id\":\"72749545-8e8b-43fc-a031-f561d6945603\",\"type\":\"SaveTool\"},{\"id\":\"6e3a60dd-11b1-4c5f-bd74-65e2f0e4bca8\",\"type\":\"ResetTool\"},{\"id\":\"4e3dd8fc-3028-4916-b5cf-04346f40470a\",\"type\":\"HelpTool\"}]},\"id\":\"9c038ce4-9464-4880-8684-aba5f0663efd\",\"type\":\"Toolbar\"},{\"attributes\":{\"line_alpha\":{\"value\":0.1},\"line_color\":{\"value\":\"#1f77b4\"},\"line_width\":{\"value\":3},\"x\":{\"field\":\"v\"},\"y\":{\"field\":\"x\"}},\"id\":\"7af5cfef-14cf-4bcc-a91b-8cd9ebebe0aa\",\"type\":\"Line\"},{\"attributes\":{\"callback\":null},\"id\":\"2d28a965-5b20-4c2f-9c4a-784eee00d6f7\",\"type\":\"DataRange1d\"},{\"attributes\":{\"plot\":{\"id\":\"be75834d-8665-4a42-bb88-87785cdb714d\",\"subtype\":\"Figure\",\"type\":\"Plot\"}},\"id\":\"4e3dd8fc-3028-4916-b5cf-04346f40470a\",\"type\":\"HelpTool\"},{\"attributes\":{\"plot\":{\"id\":\"be75834d-8665-4a42-bb88-87785cdb714d\",\"subtype\":\"Figure\",\"type\":\"Plot\"}},\"id\":\"5eb0b631-de16-40d0-92f9-b0741a1afa66\",\"type\":\"PanTool\"},{\"attributes\":{\"plot\":null,\"text\":null},\"id\":\"22161ab2-6b63-4161-a868-c0ec4fa86067\",\"type\":\"Title\"},{\"attributes\":{\"dimension\":1,\"plot\":{\"id\":\"be75834d-8665-4a42-bb88-87785cdb714d\",\"subtype\":\"Figure\",\"type\":\"Plot\"},\"ticker\":{\"id\":\"8258735b-fcb6-4473-bb50-991b5b60b4c6\",\"type\":\"BasicTicker\"}},\"id\":\"0698e95f-c3b5-4815-bda7-e374b3fb2b2d\",\"type\":\"Grid\"},{\"attributes\":{\"callback\":null},\"id\":\"df48b4a0-02e5-41b4-8c66-a0ab7d2bba78\",\"type\":\"DataRange1d\"},{\"attributes\":{\"line_alpha\":{\"value\":0.6},\"line_color\":{\"value\":\"blue\"},\"line_width\":{\"value\":3},\"x\":{\"field\":\"x\"},\"y\":{\"field\":\"u\"}},\"id\":\"efca7a40-8c64-43e7-af40-cb1a150d18ea\",\"type\":\"Line\"},{\"attributes\":{},\"id\":\"da71fecd-f955-4471-b14a-deb2942bb6b0\",\"type\":\"BasicTicker\"},{\"attributes\":{\"line_alpha\":{\"value\":0.6},\"line_color\":{\"value\":\"green\"},\"line_width\":{\"value\":3},\"x\":{\"field\":\"v\"},\"y\":{\"field\":\"x\"}},\"id\":\"c5d1956d-32d6-49ce-a85f-1c21c9cbcd2c\",\"type\":\"Line\"},{\"attributes\":{\"plot\":{\"id\":\"be75834d-8665-4a42-bb88-87785cdb714d\",\"subtype\":\"Figure\",\"type\":\"Plot\"},\"ticker\":{\"id\":\"da71fecd-f955-4471-b14a-deb2942bb6b0\",\"type\":\"BasicTicker\"}},\"id\":\"bba1fe1a-46b3-49b8-af8c-f4b7649f2a7b\",\"type\":\"Grid\"},{\"attributes\":{\"callback\":null,\"column_names\":[\"v\",\"u\",\"x\"],\"data\":{\"u\":[8.656170245325123,8.656170245333781,8.65508835928887,8.64752272261117,8.627053938292047,8.587470481481926,8.522998395405569,8.42859809672228,8.300295093212302,8.135498350877613,7.9332526019784915,7.694373551407805,7.42142985346375,7.11856105701791,6.791150530810067,6.445398544552331,6.087855996718263,5.72498032098795,5.3627632589382985,5.006460523616993,4.660432193463237,4.328085122666891,4.011897454531617,3.71350074874894,3.4337959023488986,3.173082934506517,2.931189924345831,2.7075915687625214,2.501512190249259,2.312011283475903,2.1380518683093097,1.9785531989334357,1.8324299955722323,1.6986205347986223,1.5761058325026795,1.4639219085631285,1.3611668199050664,1.2670038415301201,1.1806618921908554,1.101434055901995,1.0286748460712463,0.9617966939259757,0.9002660126970559,0.8435990883280168,0.7913579709356995,0.7431464839743971,0.6986064258529155,0.6574140081517262,0.6192765527903047,0.5839294552977453,0.5511334110312874,0.5206718944561672,0.4923488774532014,0.4659867703129727,0.4414245680544007,0.41851618456383405,0.39712895749201577,0.377142307656578,0.3584465377248153,0.34094175608861227,0.324536913017074,0.3091489373333493,0.2947019629785822,0.2811266358784638,0.26835949250590097,0.2563424024322962,0.24502206797937284,0.234349574825616,0.22427998809012167,0.21477198901681668,0.2057875479189865,0.19729162952327706,0.18925192727922974,0.1816386235801112,0.17442417317815162,0.16758310737679863,0.16109185684831695,0.15492859116075633,0.14907307330732208,0.1435065277165367,0.13821152038597842,0.13317184992821202,0.12837244844694834,0.12379929127635157,0.11943931471845734,0.11528034100433865,0.1113110097852847,0.10752071553198829,0.10389955028359996,0.10043825124540261,0.09712815278458144,0.09396114241881987,0.09092962043285557,0.08802646279423385,0.0852449870717803,0.08257892108920542,0.08002237407213085,0.07756981007002094,0.07521602345530956,0.07295611632069195,0.07078547761233553,0.0686997638518554,0.06669488131348253,0.064766969535086,0.06291238605273626,0.0611276922584443,0.05940964028969029,0.05775516086746984,0.056161352006921274,0.05462546853123598,0.05314491232556622,0.05171722327309204,0.05034007082035096,0.049011246123419054,0.047728654730604746,0.04649030976102098,0.045294325541767794,0.044138911669524446,0.04302236746514238,0.041943076792376056,0.04089950321421098,0.03989018546236765,0.03891373319749659,0.0379688230393488,0.03705419484782504,0.036168648237288485,0.03531103930788208,0.03448027757883495,0.033675323109882846,0.03289518379797289,0.03213891283738407,0.03140560633227676,0.030694401051495804,0.030004472316197718,0.029335032011558848,0.028685326714453993,0.02805463592957725,0.02744227042701368,0.026847570674766206,0.026269905360198898,0.025708669994780345,0.025163285596900526,0.024633197447895494,0.024117873916747547,0.023616805349237022,0.023129503017608057,0.022655498127074875,0.022194340875740747,0.021745599564729233,0.021308859755538277,0.020883723471823674,0.020469808443000368,0.020066747387218836,0.01967418733143121,0.019291788966407528,0.018919226034698658,0.018556184749668796,0.01820236324383827,0.017857471044887063,0.017521228577771757,0.017193366691504026,0.01687362620922764,0.016561757500313953,0.016257520073273437,0.015960682188353052,0.01567102048875709,0.015388319649492013,0.01511237204289514,0.014842977419962444,0.014579942606641997,0.014323081214308614,0.014072213363680197,0.013827165421478892,0.013587769749180263,0.013353864463230492,0.013125293206147321,0.012901904927952724,0.012683553677416477,0.012470098402618843,0.012261402760367354,0.012057334934028833,0.011857767459361342,0.011662577057953559,0.011471644477900398,0.011284854341363428,0.011102094998683804,0.010923258388732811,0.010748239905202014,0.010576938268550747,0.010409255403343235,0.010245096320721993,0.01008436900577694,0.009926984309582304,0.009772855845685144,0.009621899890840136,0.009474035289795997,0.009329183363948636,0.009187267823685383,0.009048214684253625,0.00891195218499533,0.008778410711796887,0.00864752272261117,0.008519222675915601,0.008393446961976938,0.008270133836799465,0.00814922335863953,0.008030657326974878,0.00791437922382256,0.00780033415730442,0.007688468807363749,0.007578731373541461,0.007471071524724376,0.00736544035078222,0.007261790316014027,0.007160075214328123,0.007060250126083489,0.0069622713765236325,0.006866096495737155,0.006771684180082325,0.006678994255015729,0.006587987639267796,0.0064986263103106465,0.006410873271065998,0.006324692517803395,0.006240049009181042,0.0061569086363837825,0.006075238194314687,0.00599500535379863,0.005916178634758098,0.005838727380323134,0.005762621731839001,0.005687832604736776,0.00561433166523343,0.005542091307829572,0.005471084633574206,0.005401285429067266,0.005332668146171917,0.005265207882409697,0.00519888036201284,0.005133661917609063,0.00506952947251519],\"v\":[8.656170245325123,8.656170245333781,8.65508835928887,8.64752272261117,8.627053938292047,8.587470481481926,8.522998395405569,8.42859809672228,8.300295093212302,8.135498350877613,7.9332526019784915,7.694373551407805,7.42142985346375,7.11856105701791,6.791150530810067,6.445398544552331,6.087855996718263,5.72498032098795,5.3627632589382985,5.006460523616993,4.660432193463237,4.328085122666891,4.011897454531617,3.71350074874894,3.4337959023488986,3.173082934506517,2.931189924345831,2.7075915687625214,2.501512190249259,2.312011283475903,2.1380518683093097,1.9785531989334357,1.8324299955722323,1.6986205347986223,1.5761058325026795,1.4639219085631285,1.3611668199050664,1.2670038415301201,1.1806618921908554,1.101434055901995,1.0286748460712463,0.9617966939259757,0.9002660126970559,0.8435990883280168,0.7913579709356995,0.7431464839743971,0.6986064258529155,0.6574140081517262,0.6192765527903047,0.5839294552977453,0.5511334110312874,0.5206718944561672,0.4923488774532014,0.4659867703129727,0.4414245680544007,0.41851618456383405,0.39712895749201577,0.377142307656578,0.3584465377248153,0.34094175608861227,0.324536913017074,0.3091489373333493,0.2947019629785822,0.2811266358784638,0.26835949250590097,0.2563424024322962,0.24502206797937284,0.234349574825616,0.22427998809012167,0.21477198901681668,0.2057875479189865,0.19729162952327706,0.18925192727922974,0.1816386235801112,0.17442417317815162,0.16758310737679863,0.16109185684831695,0.15492859116075633,0.14907307330732208,0.1435065277165367,0.13821152038597842,0.13317184992821202,0.12837244844694834,0.12379929127635157,0.11943931471845734,0.11528034100433865,0.1113110097852847,0.10752071553198829,0.10389955028359996,0.10043825124540261,0.09712815278458144,0.09396114241881987,0.09092962043285557,0.08802646279423385,0.0852449870717803,0.08257892108920542,0.08002237407213085,0.07756981007002094,0.07521602345530956,0.07295611632069195,0.07078547761233553,0.0686997638518554,0.06669488131348253,0.064766969535086,0.06291238605273626,0.0611276922584443,0.05940964028969029,0.05775516086746984,0.056161352006921274,0.05462546853123598,0.05314491232556622,0.05171722327309204,0.05034007082035096,0.049011246123419054,0.047728654730604746,0.04649030976102098,0.045294325541767794,0.044138911669524446,0.04302236746514238,0.041943076792376056,0.04089950321421098,0.03989018546236765,0.03891373319749659,0.0379688230393488,0.03705419484782504,0.036168648237288485,0.03531103930788208,0.03448027757883495,0.033675323109882846,0.03289518379797289,0.03213891283738407,0.03140560633227676,0.030694401051495804,0.030004472316197718,0.029335032011558848,0.028685326714453993,0.02805463592957725,0.02744227042701368,0.026847570674766206,0.026269905360198898,0.025708669994780345,0.025163285596900526,0.024633197447895494,0.024117873916747547,0.023616805349237022,0.023129503017608057,0.022655498127074875,0.022194340875740747,0.021745599564729233,0.021308859755538277,0.020883723471823674,0.020469808443000368,0.020066747387218836,0.01967418733143121,0.019291788966407528,0.018919226034698658,0.018556184749668796,0.01820236324383827,0.017857471044887063,0.017521228577771757,0.017193366691504026,0.01687362620922764,0.016561757500313953,0.016257520073273437,0.015960682188353052,0.01567102048875709,0.015388319649492013,0.01511237204289514,0.014842977419962444,0.014579942606641997,0.014323081214308614,0.014072213363680197,0.013827165421478892,0.013587769749180263,0.013353864463230492,0.013125293206147321,0.012901904927952724,0.012683553677416477,0.012470098402618843,0.012261402760367354,0.012057334934028833,0.011857767459361342,0.011662577057953559,0.011471644477900398,0.011284854341363428,0.011102094998683804,0.010923258388732811,0.010748239905202014,0.010576938268550747,0.010409255403343235,0.010245096320721993,0.01008436900577694,0.009926984309582304,0.009772855845685144,0.009621899890840136,0.009474035289795997,0.009329183363948636,0.009187267823685383,0.009048214684253625,0.00891195218499533,0.008778410711796887,0.00864752272261117,0.008519222675915601,0.008393446961976938,0.008270133836799465,0.00814922335863953,0.008030657326974878,0.00791437922382256,0.00780033415730442,0.007688468807363749,0.007578731373541461,0.007471071524724376,0.00736544035078222,0.007261790316014027,0.007160075214328123,0.007060250126083489,0.0069622713765236325,0.006866096495737155,0.006771684180082325,0.006678994255015729,0.006587987639267796,0.0064986263103106465,0.006410873271065998,0.006324692517803395,0.006240049009181042,0.0061569086363837825,0.006075238194314687,0.00599500535379863,0.005916178634758098,0.005838727380323134,0.005762621731839001,0.005687832604736776,0.00561433166523343,0.005542091307829572,0.005471084633574206,0.005401285429067266,0.005332668146171917,0.005265207882409697,0.00519888036201284,0.005133661917609063,0.00506952947251519],\"x\":[0.0001,0.0,0.05,0.1,0.15000000000000002,0.2,0.25,0.30000000000000004,0.35000000000000003,0.4,0.45,0.5,0.55,0.6000000000000001,0.65,0.7000000000000001,0.75,0.8,0.8500000000000001,0.9,0.9500000000000001,1.0,1.05,1.1,1.1500000000000001,1.2000000000000002,1.25,1.3,1.35,1.4000000000000001,1.4500000000000002,1.5,1.55,1.6,1.6500000000000001,1.7000000000000002,1.75,1.8,1.85,1.9000000000000001,1.9500000000000002,2.0,2.0500000000000003,2.1,2.15,2.2,2.25,2.3000000000000003,2.35,2.4000000000000004,2.45,2.5,2.5500000000000003,2.6,2.6500000000000004,2.7,2.75,2.8000000000000003,2.85,2.9000000000000004,2.95,3.0,3.0500000000000003,3.1,3.1500000000000004,3.2,3.25,3.3000000000000003,3.35,3.4000000000000004,3.45,3.5,3.5500000000000003,3.6,3.6500000000000004,3.7,3.75,3.8000000000000003,3.85,3.9000000000000004,3.95,4.0,4.05,4.1000000000000005,4.15,4.2,4.25,4.3,4.3500000000000005,4.4,4.45,4.5,4.55,4.6000000000000005,4.65,4.7,4.75,4.800000000000001,4.8500000000000005,4.9,4.95,5.0,5.050000000000001,5.1000000000000005,5.15,5.2,5.25,5.300000000000001,5.3500000000000005,5.4,5.45,5.5,5.550000000000001,5.6000000000000005,5.65,5.7,5.75,5.800000000000001,5.8500000000000005,5.9,5.95,6.0,6.050000000000001,6.1000000000000005,6.15,6.2,6.25,6.300000000000001,6.3500000000000005,6.4,6.45,6.5,6.550000000000001,6.6000000000000005,6.65,6.7,6.75,6.800000000000001,6.8500000000000005,6.9,6.95,7.0,7.050000000000001,7.1000000000000005,7.15,7.2,7.25,7.300000000000001,7.3500000000000005,7.4,7.45,7.5,7.550000000000001,7.6000000000000005,7.65,7.7,7.75,7.800000000000001,7.8500000000000005,7.9,7.95,8.0,8.05,8.1,8.15,8.200000000000001,8.25,8.3,8.35,8.4,8.450000000000001,8.5,8.55,8.6,8.65,8.700000000000001,8.75,8.8,8.85,8.9,8.950000000000001,9.0,9.05,9.1,9.15,9.200000000000001,9.25,9.3,9.35,9.4,9.450000000000001,9.5,9.55,9.600000000000001,9.65,9.700000000000001,9.75,9.8,9.850000000000001,9.9,9.950000000000001,10.0,10.05,10.100000000000001,10.15,10.200000000000001,10.25,10.3,10.350000000000001,10.4,10.450000000000001,10.5,10.55,10.600000000000001,10.65,10.700000000000001,10.75,10.8,10.850000000000001,10.9,10.950000000000001,11.0,11.05,11.100000000000001,11.15,11.200000000000001,11.25,11.3,11.350000000000001,11.4,11.450000000000001,11.5,11.55,11.600000000000001,11.65,11.700000000000001,11.75,11.8,11.850000000000001,11.9,11.950000000000001]}},\"id\":\"f8c91aef-26a2-4108-a76c-d3162555b437\",\"type\":\"ColumnDataSource\"},{\"attributes\":{\"overlay\":{\"id\":\"f32dd8da-2559-445e-a9d3-393fe1da69ce\",\"type\":\"BoxAnnotation\"},\"plot\":{\"id\":\"be75834d-8665-4a42-bb88-87785cdb714d\",\"subtype\":\"Figure\",\"type\":\"Plot\"}},\"id\":\"006634ed-6b7d-4c19-b511-b90160fbdf54\",\"type\":\"BoxZoomTool\"},{\"attributes\":{\"line_alpha\":{\"value\":0.1},\"line_color\":{\"value\":\"#1f77b4\"},\"line_width\":{\"value\":3},\"x\":{\"field\":\"x\"},\"y\":{\"field\":\"u\"}},\"id\":\"860e4894-8798-4c1a-87cf-1ad66ecb942b\",\"type\":\"Line\"},{\"attributes\":{\"formatter\":{\"id\":\"170dd388-668a-41ea-aa72-5ee4389887f7\",\"type\":\"BasicTickFormatter\"},\"plot\":{\"id\":\"be75834d-8665-4a42-bb88-87785cdb714d\",\"subtype\":\"Figure\",\"type\":\"Plot\"},\"ticker\":{\"id\":\"da71fecd-f955-4471-b14a-deb2942bb6b0\",\"type\":\"BasicTicker\"}},\"id\":\"fc3103dc-cb17-4dca-b74b-3d771f5d9906\",\"type\":\"LinearAxis\"},{\"attributes\":{\"bottom_units\":\"screen\",\"fill_alpha\":{\"value\":0.5},\"fill_color\":{\"value\":\"lightgrey\"},\"left_units\":\"screen\",\"level\":\"overlay\",\"line_alpha\":{\"value\":1.0},\"line_color\":{\"value\":\"black\"},\"line_dash\":[4,4],\"line_width\":{\"value\":2},\"plot\":null,\"render_mode\":\"css\",\"right_units\":\"screen\",\"top_units\":\"screen\"},\"id\":\"f32dd8da-2559-445e-a9d3-393fe1da69ce\",\"type\":\"BoxAnnotation\"}],\"root_ids\":[\"be75834d-8665-4a42-bb88-87785cdb714d\"]},\"title\":\"Bokeh Application\",\"version\":\"0.12.3\"}};\n",
       "            var render_items = [{\"docid\":\"cc4a20fd-e8f2-4744-a6f1-f68efcd4d647\",\"elementid\":\"da3d5b76-4c03-4691-8ecc-367406d13646\",\"modelid\":\"be75834d-8665-4a42-bb88-87785cdb714d\"}];\n",
       "            \n",
       "            Bokeh.embed.embed_items(docs_json, render_items);\n",
       "        });\n",
       "      },\n",
       "      function(Bokeh) {\n",
       "      }\n",
       "    ];\n",
       "  \n",
       "    function run_inline_js() {\n",
       "      \n",
       "      if ((window.Bokeh !== undefined) || (force === \"1\")) {\n",
       "        for (var i = 0; i < inline_js.length; i++) {\n",
       "          inline_js[i](window.Bokeh);\n",
       "        }if (force === \"1\") {\n",
       "          display_loaded();\n",
       "        }} else if (Date.now() < window._bokeh_timeout) {\n",
       "        setTimeout(run_inline_js, 100);\n",
       "      } else if (!window._bokeh_failed_load) {\n",
       "        console.log(\"Bokeh: BokehJS failed to load within specified timeout.\");\n",
       "        window._bokeh_failed_load = true;\n",
       "      } else if (!force) {\n",
       "        var cell = $(\"#da3d5b76-4c03-4691-8ecc-367406d13646\").parents('.cell').data().cell;\n",
       "        cell.output_area.append_execute_result(NB_LOAD_WARNING)\n",
       "      }\n",
       "  \n",
       "    }\n",
       "  \n",
       "    if (window._bokeh_is_loading === 0) {\n",
       "      console.log(\"Bokeh: BokehJS loaded, going straight to plotting\");\n",
       "      run_inline_js();\n",
       "    } else {\n",
       "      load_libs(js_urls, function() {\n",
       "        console.log(\"Bokeh: BokehJS plotting callback run at\", now());\n",
       "        run_inline_js();\n",
       "      });\n",
       "    }\n",
       "  }(this));\n",
       "</script>"
      ]
     },
     "metadata": {},
     "output_type": "display_data"
    }
   ],
   "source": [
    "output_notebook()\n",
    "def plot_stability(a1_val=.1, a2_val=.1, div_time=60):\n",
    "    lf_ustable = lambdify(v, ustable.subs([(a1, a1_val), (gamma, ln(2)/div_time), (b1, 3)]))\n",
    "    lf_vstable = lambdify(u, vstable.subs([(a2, a2_val), (gamma, ln(2)/div_time), (b2, 3)]))\n",
    "    x_range = np.arange(0, 12, .05)\n",
    "    x_range = np.hstack((.0001, x_range))\n",
    "    source = ColumnDataSource(data=dict(x=x_range, u=lf_ustable(x_range), v=lf_vstable(x_range)))\n",
    "    plt = Figure(plot_width=400, plot_height=400)\n",
    "    plt.line('x', 'u', source=source, line_width=3, line_alpha=0.6, line_color=\"blue\")\n",
    "    plt.line('v', 'x', source=source, line_width=3, line_alpha=0.6, line_color=\"green\")\n",
    "    show(plt)\n",
    "interact(plot_stability, a1_val=(.001, .6, .01), a2_val=(.001, .6, .01), div_time=(20, 120, 5), __manual=True)\n",
    "plot_stability()"
   ]
  },
  {
   "cell_type": "code",
   "execution_count": 6,
   "metadata": {
    "collapsed": false
   },
   "outputs": [
    {
     "data": {
      "text/html": [
       "\n",
       "\n",
       "    <div class=\"bk-root\">\n",
       "        <div class=\"plotdiv\" id=\"ac0cf823-6458-4e74-bb88-64f64d8690b2\"></div>\n",
       "    </div>\n",
       "<script type=\"text/javascript\">\n",
       "  \n",
       "  (function(global) {\n",
       "    function now() {\n",
       "      return new Date();\n",
       "    }\n",
       "  \n",
       "    var force = \"\";\n",
       "  \n",
       "    if (typeof (window._bokeh_onload_callbacks) === \"undefined\" || force !== \"\") {\n",
       "      window._bokeh_onload_callbacks = [];\n",
       "      window._bokeh_is_loading = undefined;\n",
       "    }\n",
       "  \n",
       "  \n",
       "    \n",
       "    if (typeof (window._bokeh_timeout) === \"undefined\" || force !== \"\") {\n",
       "      window._bokeh_timeout = Date.now() + 0;\n",
       "      window._bokeh_failed_load = false;\n",
       "    }\n",
       "  \n",
       "    var NB_LOAD_WARNING = {'data': {'text/html':\n",
       "       \"<div style='background-color: #fdd'>\\n\"+\n",
       "       \"<p>\\n\"+\n",
       "       \"BokehJS does not appear to have successfully loaded. If loading BokehJS from CDN, this \\n\"+\n",
       "       \"may be due to a slow or bad network connection. Possible fixes:\\n\"+\n",
       "       \"</p>\\n\"+\n",
       "       \"<ul>\\n\"+\n",
       "       \"<li>re-rerun `output_notebook()` to attempt to load from CDN again, or</li>\\n\"+\n",
       "       \"<li>use INLINE resources instead, as so:</li>\\n\"+\n",
       "       \"</ul>\\n\"+\n",
       "       \"<code>\\n\"+\n",
       "       \"from bokeh.resources import INLINE\\n\"+\n",
       "       \"output_notebook(resources=INLINE)\\n\"+\n",
       "       \"</code>\\n\"+\n",
       "       \"</div>\"}};\n",
       "  \n",
       "    function display_loaded() {\n",
       "      if (window.Bokeh !== undefined) {\n",
       "        Bokeh.$(\"#ac0cf823-6458-4e74-bb88-64f64d8690b2\").text(\"BokehJS successfully loaded.\");\n",
       "      } else if (Date.now() < window._bokeh_timeout) {\n",
       "        setTimeout(display_loaded, 100)\n",
       "      }\n",
       "    }\n",
       "  \n",
       "    function run_callbacks() {\n",
       "      window._bokeh_onload_callbacks.forEach(function(callback) { callback() });\n",
       "      delete window._bokeh_onload_callbacks\n",
       "      console.info(\"Bokeh: all callbacks have finished\");\n",
       "    }\n",
       "  \n",
       "    function load_libs(js_urls, callback) {\n",
       "      window._bokeh_onload_callbacks.push(callback);\n",
       "      if (window._bokeh_is_loading > 0) {\n",
       "        console.log(\"Bokeh: BokehJS is being loaded, scheduling callback at\", now());\n",
       "        return null;\n",
       "      }\n",
       "      if (js_urls == null || js_urls.length === 0) {\n",
       "        run_callbacks();\n",
       "        return null;\n",
       "      }\n",
       "      console.log(\"Bokeh: BokehJS not loaded, scheduling load and callback at\", now());\n",
       "      window._bokeh_is_loading = js_urls.length;\n",
       "      for (var i = 0; i < js_urls.length; i++) {\n",
       "        var url = js_urls[i];\n",
       "        var s = document.createElement('script');\n",
       "        s.src = url;\n",
       "        s.async = false;\n",
       "        s.onreadystatechange = s.onload = function() {\n",
       "          window._bokeh_is_loading--;\n",
       "          if (window._bokeh_is_loading === 0) {\n",
       "            console.log(\"Bokeh: all BokehJS libraries loaded\");\n",
       "            run_callbacks()\n",
       "          }\n",
       "        };\n",
       "        s.onerror = function() {\n",
       "          console.warn(\"failed to load library \" + url);\n",
       "        };\n",
       "        console.log(\"Bokeh: injecting script tag for BokehJS library: \", url);\n",
       "        document.getElementsByTagName(\"head\")[0].appendChild(s);\n",
       "      }\n",
       "    };var element = document.getElementById(\"ac0cf823-6458-4e74-bb88-64f64d8690b2\");\n",
       "    if (element == null) {\n",
       "      console.log(\"Bokeh: ERROR: autoload.js configured with elementid 'ac0cf823-6458-4e74-bb88-64f64d8690b2' but no matching script tag was found. \")\n",
       "      return false;\n",
       "    }\n",
       "  \n",
       "    var js_urls = [];\n",
       "  \n",
       "    var inline_js = [\n",
       "      function(Bokeh) {\n",
       "        Bokeh.$(function() {\n",
       "            var docs_json = {\"bb389a6d-356e-48c2-9292-7d8c653b6439\":{\"roots\":{\"references\":[{\"attributes\":{\"callback\":null},\"id\":\"fd9f35af-16fc-4289-86ab-16c8e54c8561\",\"type\":\"DataRange1d\"},{\"attributes\":{\"plot\":null,\"text\":null},\"id\":\"e8979957-5258-459f-9f8a-189bd10d84b8\",\"type\":\"Title\"},{\"attributes\":{\"plot\":{\"id\":\"840c03e5-5e60-455c-9327-2321049e8831\",\"subtype\":\"Figure\",\"type\":\"Plot\"}},\"id\":\"25cc72cb-6324-45ce-b82a-0212c3fd76d8\",\"type\":\"PanTool\"},{\"attributes\":{\"bottom_units\":\"screen\",\"fill_alpha\":{\"value\":0.5},\"fill_color\":{\"value\":\"lightgrey\"},\"left_units\":\"screen\",\"level\":\"overlay\",\"line_alpha\":{\"value\":1.0},\"line_color\":{\"value\":\"black\"},\"line_dash\":[4,4],\"line_width\":{\"value\":2},\"plot\":null,\"render_mode\":\"css\",\"right_units\":\"screen\",\"top_units\":\"screen\"},\"id\":\"39a072b5-19c3-430d-9d6d-265766d0e1c9\",\"type\":\"BoxAnnotation\"},{\"attributes\":{\"formatter\":{\"id\":\"05b73175-1898-4a2a-adcf-6280a1e84d77\",\"type\":\"BasicTickFormatter\"},\"plot\":{\"id\":\"840c03e5-5e60-455c-9327-2321049e8831\",\"subtype\":\"Figure\",\"type\":\"Plot\"},\"ticker\":{\"id\":\"e4b158f8-23fc-4645-b665-9d14fd5d916e\",\"type\":\"BasicTicker\"}},\"id\":\"4bb42c8d-a15c-477b-8790-6b2ee57ff447\",\"type\":\"LinearAxis\"},{\"attributes\":{\"callback\":null,\"column_names\":[\"v\",\"u\",\"x\"],\"data\":{\"u\":[0.8656170245325123,0.8656170245333781,0.865508835928887,0.864752272261117,0.8627053938292046,0.8587470481481925,0.8522998395405568,0.842859809672228,0.8300295093212302,0.8135498350877614,0.7933252601978491,0.7694373551407805,0.742142985346375,0.711856105701791,0.6791150530810066,0.6445398544552331,0.6087855996718263,0.572498032098795,0.5362763258938298,0.5006460523616992,0.46604321934632364,0.43280851226668904,0.40118974545316166,0.371350074874894,0.3433795902348899,0.3173082934506517,0.29311899243458306,0.2707591568762521,0.2501512190249259,0.23120112834759024,0.21380518683093094,0.19785531989334357,0.18324299955722323,0.16986205347986222,0.15761058325026794,0.14639219085631283,0.13611668199050664,0.126700384153012,0.11806618921908554,0.1101434055901995,0.10286748460712462,0.09617966939259756,0.09002660126970558,0.08435990883280167,0.07913579709356994,0.0743146483974397,0.06986064258529155,0.06574140081517262,0.061927655279030464,0.05839294552977453,0.05511334110312874,0.052067189445616724,0.04923488774532014,0.04659867703129727,0.04414245680544007,0.0418516184563834,0.039712895749201574,0.037714230765657795,0.03584465377248153,0.03409417560886122,0.0324536913017074,0.03091489373333493,0.02947019629785822,0.028112663587846382,0.026835949250590095,0.02563424024322962,0.024502206797937284,0.023434957482561598,0.022427998809012167,0.021477198901681666,0.02057875479189865,0.019729162952327704,0.018925192727922972,0.01816386235801112,0.01744241731781516,0.016758310737679864,0.016109185684831693,0.015492859116075633,0.014907307330732207,0.014350652771653672,0.013821152038597842,0.0133171849928212,0.012837244844694833,0.012379929127635157,0.011943931471845732,0.011528034100433864,0.01113110097852847,0.010752071553198829,0.010389955028359996,0.010043825124540261,0.009712815278458143,0.009396114241881987,0.009092962043285557,0.008802646279423385,0.00852449870717803,0.008257892108920542,0.008002237407213085,0.007756981007002093,0.007521602345530955,0.007295611632069194,0.007078547761233553,0.0068699763851855404,0.006669488131348253,0.006476696953508599,0.006291238605273626,0.00611276922584443,0.005940964028969029,0.005775516086746984,0.005616135200692127,0.005462546853123598,0.005314491232556622,0.005171722327309204,0.005034007082035096,0.004901124612341905,0.004772865473060475,0.004649030976102099,0.00452943255417678,0.004413891166952445,0.0043022367465142385,0.004194307679237606,0.004089950321421097,0.003989018546236765,0.0038913733197496587,0.00379688230393488,0.0037054194847825034,0.0036168648237288486,0.003531103930788208,0.003448027757883495,0.0033675323109882845,0.003289518379797289,0.0032138912837384064,0.0031405606332276753,0.00306944010514958,0.003000447231619772,0.0029335032011558845,0.0028685326714453993,0.0028054635929577252,0.0027442270427013677,0.0026847570674766205,0.00262699053601989,0.0025708669994780344,0.0025163285596900525,0.0024633197447895493,0.0024117873916747546,0.0023616805349237022,0.002312950301760806,0.0022655498127074876,0.0022194340875740745,0.002174559956472923,0.0021308859755538273,0.0020883723471823673,0.002046980844300037,0.0020066747387218835,0.001967418733143121,0.0019291788966407527,0.0018919226034698658,0.0018556184749668797,0.0018202363243838273,0.0017857471044887062,0.0017521228577771755,0.0017193366691504028,0.0016873626209227641,0.0016561757500313952,0.0016257520073273436,0.001596068218835305,0.0015671020488757092,0.0015388319649492013,0.0015112372042895138,0.0014842977419962443,0.0014579942606641996,0.0014323081214308612,0.0014072213363680195,0.0013827165421478893,0.0013587769749180262,0.001335386446323049,0.001312529320614732,0.0012901904927952723,0.0012683553677416478,0.0012470098402618845,0.0012261402760367353,0.0012057334934028833,0.0011857767459361342,0.001166257705795356,0.0011471644477900396,0.0011284854341363428,0.0011102094998683804,0.001092325838873281,0.0010748239905202014,0.0010576938268550746,0.0010409255403343236,0.001024509632072199,0.001008436900577694,0.0009926984309582304,0.0009772855845685143,0.0009621899890840136,0.0009474035289795997,0.0009329183363948637,0.0009187267823685383,0.0009048214684253624,0.000891195218499533,0.0008778410711796887,0.0008647522722611169,0.0008519222675915601,0.0008393446961976937,0.0008270133836799465,0.000814922335863953,0.0008030657326974877,0.0007914379223822561,0.000780033415730442,0.0007688468807363749,0.000757873137354146,0.0007471071524724376,0.000736544035078222,0.0007261790316014027,0.0007160075214328124,0.0007060250126083488,0.0006962271376523632,0.0006866096495737155,0.0006771684180082325,0.0006678994255015728,0.0006587987639267796,0.0006498626310310646,0.0006410873271065998,0.0006324692517803394,0.0006240049009181043,0.0006156908636383783,0.0006075238194314686,0.0005995005353798629,0.0005916178634758099,0.0005838727380323135,0.0005762621731839001,0.0005687832604736776,0.000561433166523343,0.0005542091307829571,0.0005471084633574206,0.0005401285429067265,0.0005332668146171917,0.0005265207882409697,0.0005198880362012841,0.0005133661917609062,0.000506952947251519],\"v\":[8.656170245325123,8.656170245333781,8.65508835928887,8.64752272261117,8.627053938292047,8.587470481481926,8.522998395405569,8.42859809672228,8.300295093212302,8.135498350877613,7.9332526019784915,7.694373551407805,7.42142985346375,7.11856105701791,6.791150530810067,6.445398544552331,6.087855996718263,5.72498032098795,5.3627632589382985,5.006460523616993,4.660432193463237,4.328085122666891,4.011897454531617,3.71350074874894,3.4337959023488986,3.173082934506517,2.931189924345831,2.7075915687625214,2.501512190249259,2.312011283475903,2.1380518683093097,1.9785531989334357,1.8324299955722323,1.6986205347986223,1.5761058325026795,1.4639219085631285,1.3611668199050664,1.2670038415301201,1.1806618921908554,1.101434055901995,1.0286748460712463,0.9617966939259757,0.9002660126970559,0.8435990883280168,0.7913579709356995,0.7431464839743971,0.6986064258529155,0.6574140081517262,0.6192765527903047,0.5839294552977453,0.5511334110312874,0.5206718944561672,0.4923488774532014,0.4659867703129727,0.4414245680544007,0.41851618456383405,0.39712895749201577,0.377142307656578,0.3584465377248153,0.34094175608861227,0.324536913017074,0.3091489373333493,0.2947019629785822,0.2811266358784638,0.26835949250590097,0.2563424024322962,0.24502206797937284,0.234349574825616,0.22427998809012167,0.21477198901681668,0.2057875479189865,0.19729162952327706,0.18925192727922974,0.1816386235801112,0.17442417317815162,0.16758310737679863,0.16109185684831695,0.15492859116075633,0.14907307330732208,0.1435065277165367,0.13821152038597842,0.13317184992821202,0.12837244844694834,0.12379929127635157,0.11943931471845734,0.11528034100433865,0.1113110097852847,0.10752071553198829,0.10389955028359996,0.10043825124540261,0.09712815278458144,0.09396114241881987,0.09092962043285557,0.08802646279423385,0.0852449870717803,0.08257892108920542,0.08002237407213085,0.07756981007002094,0.07521602345530956,0.07295611632069195,0.07078547761233553,0.0686997638518554,0.06669488131348253,0.064766969535086,0.06291238605273626,0.0611276922584443,0.05940964028969029,0.05775516086746984,0.056161352006921274,0.05462546853123598,0.05314491232556622,0.05171722327309204,0.05034007082035096,0.049011246123419054,0.047728654730604746,0.04649030976102098,0.045294325541767794,0.044138911669524446,0.04302236746514238,0.041943076792376056,0.04089950321421098,0.03989018546236765,0.03891373319749659,0.0379688230393488,0.03705419484782504,0.036168648237288485,0.03531103930788208,0.03448027757883495,0.033675323109882846,0.03289518379797289,0.03213891283738407,0.03140560633227676,0.030694401051495804,0.030004472316197718,0.029335032011558848,0.028685326714453993,0.02805463592957725,0.02744227042701368,0.026847570674766206,0.026269905360198898,0.025708669994780345,0.025163285596900526,0.024633197447895494,0.024117873916747547,0.023616805349237022,0.023129503017608057,0.022655498127074875,0.022194340875740747,0.021745599564729233,0.021308859755538277,0.020883723471823674,0.020469808443000368,0.020066747387218836,0.01967418733143121,0.019291788966407528,0.018919226034698658,0.018556184749668796,0.01820236324383827,0.017857471044887063,0.017521228577771757,0.017193366691504026,0.01687362620922764,0.016561757500313953,0.016257520073273437,0.015960682188353052,0.01567102048875709,0.015388319649492013,0.01511237204289514,0.014842977419962444,0.014579942606641997,0.014323081214308614,0.014072213363680197,0.013827165421478892,0.013587769749180263,0.013353864463230492,0.013125293206147321,0.012901904927952724,0.012683553677416477,0.012470098402618843,0.012261402760367354,0.012057334934028833,0.011857767459361342,0.011662577057953559,0.011471644477900398,0.011284854341363428,0.011102094998683804,0.010923258388732811,0.010748239905202014,0.010576938268550747,0.010409255403343235,0.010245096320721993,0.01008436900577694,0.009926984309582304,0.009772855845685144,0.009621899890840136,0.009474035289795997,0.009329183363948636,0.009187267823685383,0.009048214684253625,0.00891195218499533,0.008778410711796887,0.00864752272261117,0.008519222675915601,0.008393446961976938,0.008270133836799465,0.00814922335863953,0.008030657326974878,0.00791437922382256,0.00780033415730442,0.007688468807363749,0.007578731373541461,0.007471071524724376,0.00736544035078222,0.007261790316014027,0.007160075214328123,0.007060250126083489,0.0069622713765236325,0.006866096495737155,0.006771684180082325,0.006678994255015729,0.006587987639267796,0.0064986263103106465,0.006410873271065998,0.006324692517803395,0.006240049009181042,0.0061569086363837825,0.006075238194314687,0.00599500535379863,0.005916178634758098,0.005838727380323134,0.005762621731839001,0.005687832604736776,0.00561433166523343,0.005542091307829572,0.005471084633574206,0.005401285429067266,0.005332668146171917,0.005265207882409697,0.00519888036201284,0.005133661917609063,0.00506952947251519],\"x\":[0.0001,0.0,0.05,0.1,0.15000000000000002,0.2,0.25,0.30000000000000004,0.35000000000000003,0.4,0.45,0.5,0.55,0.6000000000000001,0.65,0.7000000000000001,0.75,0.8,0.8500000000000001,0.9,0.9500000000000001,1.0,1.05,1.1,1.1500000000000001,1.2000000000000002,1.25,1.3,1.35,1.4000000000000001,1.4500000000000002,1.5,1.55,1.6,1.6500000000000001,1.7000000000000002,1.75,1.8,1.85,1.9000000000000001,1.9500000000000002,2.0,2.0500000000000003,2.1,2.15,2.2,2.25,2.3000000000000003,2.35,2.4000000000000004,2.45,2.5,2.5500000000000003,2.6,2.6500000000000004,2.7,2.75,2.8000000000000003,2.85,2.9000000000000004,2.95,3.0,3.0500000000000003,3.1,3.1500000000000004,3.2,3.25,3.3000000000000003,3.35,3.4000000000000004,3.45,3.5,3.5500000000000003,3.6,3.6500000000000004,3.7,3.75,3.8000000000000003,3.85,3.9000000000000004,3.95,4.0,4.05,4.1000000000000005,4.15,4.2,4.25,4.3,4.3500000000000005,4.4,4.45,4.5,4.55,4.6000000000000005,4.65,4.7,4.75,4.800000000000001,4.8500000000000005,4.9,4.95,5.0,5.050000000000001,5.1000000000000005,5.15,5.2,5.25,5.300000000000001,5.3500000000000005,5.4,5.45,5.5,5.550000000000001,5.6000000000000005,5.65,5.7,5.75,5.800000000000001,5.8500000000000005,5.9,5.95,6.0,6.050000000000001,6.1000000000000005,6.15,6.2,6.25,6.300000000000001,6.3500000000000005,6.4,6.45,6.5,6.550000000000001,6.6000000000000005,6.65,6.7,6.75,6.800000000000001,6.8500000000000005,6.9,6.95,7.0,7.050000000000001,7.1000000000000005,7.15,7.2,7.25,7.300000000000001,7.3500000000000005,7.4,7.45,7.5,7.550000000000001,7.6000000000000005,7.65,7.7,7.75,7.800000000000001,7.8500000000000005,7.9,7.95,8.0,8.05,8.1,8.15,8.200000000000001,8.25,8.3,8.35,8.4,8.450000000000001,8.5,8.55,8.6,8.65,8.700000000000001,8.75,8.8,8.85,8.9,8.950000000000001,9.0,9.05,9.1,9.15,9.200000000000001,9.25,9.3,9.35,9.4,9.450000000000001,9.5,9.55,9.600000000000001,9.65,9.700000000000001,9.75,9.8,9.850000000000001,9.9,9.950000000000001,10.0,10.05,10.100000000000001,10.15,10.200000000000001,10.25,10.3,10.350000000000001,10.4,10.450000000000001,10.5,10.55,10.600000000000001,10.65,10.700000000000001,10.75,10.8,10.850000000000001,10.9,10.950000000000001,11.0,11.05,11.100000000000001,11.15,11.200000000000001,11.25,11.3,11.350000000000001,11.4,11.450000000000001,11.5,11.55,11.600000000000001,11.65,11.700000000000001,11.75,11.8,11.850000000000001,11.9,11.950000000000001]}},\"id\":\"97c6b395-0bba-4cb3-a026-f888f27fce03\",\"type\":\"ColumnDataSource\"},{\"attributes\":{\"plot\":{\"id\":\"840c03e5-5e60-455c-9327-2321049e8831\",\"subtype\":\"Figure\",\"type\":\"Plot\"}},\"id\":\"3c344040-db12-4a77-bf15-2d39a017dcf6\",\"type\":\"WheelZoomTool\"},{\"attributes\":{\"overlay\":{\"id\":\"39a072b5-19c3-430d-9d6d-265766d0e1c9\",\"type\":\"BoxAnnotation\"},\"plot\":{\"id\":\"840c03e5-5e60-455c-9327-2321049e8831\",\"subtype\":\"Figure\",\"type\":\"Plot\"}},\"id\":\"f1836e09-3c9b-499e-8943-19667597a56f\",\"type\":\"BoxZoomTool\"},{\"attributes\":{},\"id\":\"05b73175-1898-4a2a-adcf-6280a1e84d77\",\"type\":\"BasicTickFormatter\"},{\"attributes\":{\"formatter\":{\"id\":\"1d50023d-8c3c-4a9c-8633-9134a163ccd3\",\"type\":\"BasicTickFormatter\"},\"plot\":{\"id\":\"840c03e5-5e60-455c-9327-2321049e8831\",\"subtype\":\"Figure\",\"type\":\"Plot\"},\"ticker\":{\"id\":\"7caf492d-c0c3-40d4-9ae3-b2277aa0de59\",\"type\":\"BasicTicker\"}},\"id\":\"3e46cba7-3bc7-413d-9bf1-bb13bd92fe13\",\"type\":\"LinearAxis\"},{\"attributes\":{\"plot\":{\"id\":\"840c03e5-5e60-455c-9327-2321049e8831\",\"subtype\":\"Figure\",\"type\":\"Plot\"}},\"id\":\"39bce52a-289c-412e-886a-5dad6da08900\",\"type\":\"SaveTool\"},{\"attributes\":{\"callback\":null},\"id\":\"fe32c5b1-f0ea-4188-9736-5808d4e9d161\",\"type\":\"DataRange1d\"},{\"attributes\":{\"data_source\":{\"id\":\"97c6b395-0bba-4cb3-a026-f888f27fce03\",\"type\":\"ColumnDataSource\"},\"glyph\":{\"id\":\"428dd59a-ac02-4d8e-8e50-e9efdd903f07\",\"type\":\"Line\"},\"hover_glyph\":null,\"nonselection_glyph\":{\"id\":\"2d4037bb-24f4-4a65-9936-ab5eff7a25ba\",\"type\":\"Line\"},\"selection_glyph\":null},\"id\":\"581cd0f8-79dc-408a-b832-a37a84d4373a\",\"type\":\"GlyphRenderer\"},{\"attributes\":{\"data_source\":{\"id\":\"97c6b395-0bba-4cb3-a026-f888f27fce03\",\"type\":\"ColumnDataSource\"},\"glyph\":{\"id\":\"1f32833c-e948-4579-8973-c98dbc449a8b\",\"type\":\"Line\"},\"hover_glyph\":null,\"nonselection_glyph\":{\"id\":\"c370e557-589e-48af-9f7e-a31586fb812a\",\"type\":\"Line\"},\"selection_glyph\":null},\"id\":\"3bebde6b-e4d1-4c95-b5e3-a515838db606\",\"type\":\"GlyphRenderer\"},{\"attributes\":{\"dimension\":1,\"plot\":{\"id\":\"840c03e5-5e60-455c-9327-2321049e8831\",\"subtype\":\"Figure\",\"type\":\"Plot\"},\"ticker\":{\"id\":\"e4b158f8-23fc-4645-b665-9d14fd5d916e\",\"type\":\"BasicTicker\"}},\"id\":\"98a8443a-4d80-4aa3-b6ba-9f5aabb57186\",\"type\":\"Grid\"},{\"attributes\":{\"plot\":{\"id\":\"840c03e5-5e60-455c-9327-2321049e8831\",\"subtype\":\"Figure\",\"type\":\"Plot\"}},\"id\":\"c964cd2c-7887-42ba-9f31-be1273255e08\",\"type\":\"ResetTool\"},{\"attributes\":{\"line_alpha\":{\"value\":0.6},\"line_color\":{\"value\":\"blue\"},\"line_width\":{\"value\":3},\"x\":{\"field\":\"x\"},\"y\":{\"field\":\"u\"}},\"id\":\"428dd59a-ac02-4d8e-8e50-e9efdd903f07\",\"type\":\"Line\"},{\"attributes\":{},\"id\":\"e4b158f8-23fc-4645-b665-9d14fd5d916e\",\"type\":\"BasicTicker\"},{\"attributes\":{\"plot\":{\"id\":\"840c03e5-5e60-455c-9327-2321049e8831\",\"subtype\":\"Figure\",\"type\":\"Plot\"},\"ticker\":{\"id\":\"7caf492d-c0c3-40d4-9ae3-b2277aa0de59\",\"type\":\"BasicTicker\"}},\"id\":\"6fc71969-4c14-4936-a47f-19c2dd3b994f\",\"type\":\"Grid\"},{\"attributes\":{},\"id\":\"7caf492d-c0c3-40d4-9ae3-b2277aa0de59\",\"type\":\"BasicTicker\"},{\"attributes\":{\"active_drag\":\"auto\",\"active_scroll\":\"auto\",\"active_tap\":\"auto\",\"tools\":[{\"id\":\"25cc72cb-6324-45ce-b82a-0212c3fd76d8\",\"type\":\"PanTool\"},{\"id\":\"3c344040-db12-4a77-bf15-2d39a017dcf6\",\"type\":\"WheelZoomTool\"},{\"id\":\"f1836e09-3c9b-499e-8943-19667597a56f\",\"type\":\"BoxZoomTool\"},{\"id\":\"39bce52a-289c-412e-886a-5dad6da08900\",\"type\":\"SaveTool\"},{\"id\":\"c964cd2c-7887-42ba-9f31-be1273255e08\",\"type\":\"ResetTool\"},{\"id\":\"22990ffc-69be-4e84-963c-9f3fcd5a0812\",\"type\":\"HelpTool\"}]},\"id\":\"2b6974bd-c67a-498a-8174-88dc5184684c\",\"type\":\"Toolbar\"},{\"attributes\":{},\"id\":\"1d50023d-8c3c-4a9c-8633-9134a163ccd3\",\"type\":\"BasicTickFormatter\"},{\"attributes\":{\"line_alpha\":{\"value\":0.1},\"line_color\":{\"value\":\"#1f77b4\"},\"line_width\":{\"value\":3},\"x\":{\"field\":\"x\"},\"y\":{\"field\":\"u\"}},\"id\":\"2d4037bb-24f4-4a65-9936-ab5eff7a25ba\",\"type\":\"Line\"},{\"attributes\":{\"line_alpha\":{\"value\":0.6},\"line_color\":{\"value\":\"green\"},\"line_width\":{\"value\":3},\"x\":{\"field\":\"v\"},\"y\":{\"field\":\"x\"}},\"id\":\"1f32833c-e948-4579-8973-c98dbc449a8b\",\"type\":\"Line\"},{\"attributes\":{\"plot\":{\"id\":\"840c03e5-5e60-455c-9327-2321049e8831\",\"subtype\":\"Figure\",\"type\":\"Plot\"}},\"id\":\"22990ffc-69be-4e84-963c-9f3fcd5a0812\",\"type\":\"HelpTool\"},{\"attributes\":{\"below\":[{\"id\":\"3e46cba7-3bc7-413d-9bf1-bb13bd92fe13\",\"type\":\"LinearAxis\"}],\"left\":[{\"id\":\"4bb42c8d-a15c-477b-8790-6b2ee57ff447\",\"type\":\"LinearAxis\"}],\"plot_height\":400,\"plot_width\":400,\"renderers\":[{\"id\":\"3e46cba7-3bc7-413d-9bf1-bb13bd92fe13\",\"type\":\"LinearAxis\"},{\"id\":\"6fc71969-4c14-4936-a47f-19c2dd3b994f\",\"type\":\"Grid\"},{\"id\":\"4bb42c8d-a15c-477b-8790-6b2ee57ff447\",\"type\":\"LinearAxis\"},{\"id\":\"98a8443a-4d80-4aa3-b6ba-9f5aabb57186\",\"type\":\"Grid\"},{\"id\":\"39a072b5-19c3-430d-9d6d-265766d0e1c9\",\"type\":\"BoxAnnotation\"},{\"id\":\"581cd0f8-79dc-408a-b832-a37a84d4373a\",\"type\":\"GlyphRenderer\"},{\"id\":\"3bebde6b-e4d1-4c95-b5e3-a515838db606\",\"type\":\"GlyphRenderer\"}],\"title\":{\"id\":\"e8979957-5258-459f-9f8a-189bd10d84b8\",\"type\":\"Title\"},\"tool_events\":{\"id\":\"958f12cf-3361-4216-a0d7-489a9977f0dc\",\"type\":\"ToolEvents\"},\"toolbar\":{\"id\":\"2b6974bd-c67a-498a-8174-88dc5184684c\",\"type\":\"Toolbar\"},\"x_range\":{\"id\":\"fd9f35af-16fc-4289-86ab-16c8e54c8561\",\"type\":\"DataRange1d\"},\"y_range\":{\"id\":\"fe32c5b1-f0ea-4188-9736-5808d4e9d161\",\"type\":\"DataRange1d\"}},\"id\":\"840c03e5-5e60-455c-9327-2321049e8831\",\"subtype\":\"Figure\",\"type\":\"Plot\"},{\"attributes\":{},\"id\":\"958f12cf-3361-4216-a0d7-489a9977f0dc\",\"type\":\"ToolEvents\"},{\"attributes\":{\"line_alpha\":{\"value\":0.1},\"line_color\":{\"value\":\"#1f77b4\"},\"line_width\":{\"value\":3},\"x\":{\"field\":\"v\"},\"y\":{\"field\":\"x\"}},\"id\":\"c370e557-589e-48af-9f7e-a31586fb812a\",\"type\":\"Line\"}],\"root_ids\":[\"840c03e5-5e60-455c-9327-2321049e8831\"]},\"title\":\"Bokeh Application\",\"version\":\"0.12.3\"}};\n",
       "            var render_items = [{\"docid\":\"bb389a6d-356e-48c2-9292-7d8c653b6439\",\"elementid\":\"ac0cf823-6458-4e74-bb88-64f64d8690b2\",\"modelid\":\"840c03e5-5e60-455c-9327-2321049e8831\"}];\n",
       "            \n",
       "            Bokeh.embed.embed_items(docs_json, render_items);\n",
       "        });\n",
       "      },\n",
       "      function(Bokeh) {\n",
       "      }\n",
       "    ];\n",
       "  \n",
       "    function run_inline_js() {\n",
       "      \n",
       "      if ((window.Bokeh !== undefined) || (force === \"1\")) {\n",
       "        for (var i = 0; i < inline_js.length; i++) {\n",
       "          inline_js[i](window.Bokeh);\n",
       "        }if (force === \"1\") {\n",
       "          display_loaded();\n",
       "        }} else if (Date.now() < window._bokeh_timeout) {\n",
       "        setTimeout(run_inline_js, 100);\n",
       "      } else if (!window._bokeh_failed_load) {\n",
       "        console.log(\"Bokeh: BokehJS failed to load within specified timeout.\");\n",
       "        window._bokeh_failed_load = true;\n",
       "      } else if (!force) {\n",
       "        var cell = $(\"#ac0cf823-6458-4e74-bb88-64f64d8690b2\").parents('.cell').data().cell;\n",
       "        cell.output_area.append_execute_result(NB_LOAD_WARNING)\n",
       "      }\n",
       "  \n",
       "    }\n",
       "  \n",
       "    if (window._bokeh_is_loading === 0) {\n",
       "      console.log(\"Bokeh: BokehJS loaded, going straight to plotting\");\n",
       "      run_inline_js();\n",
       "    } else {\n",
       "      load_libs(js_urls, function() {\n",
       "        console.log(\"Bokeh: BokehJS plotting callback run at\", now());\n",
       "        run_inline_js();\n",
       "      });\n",
       "    }\n",
       "  }(this));\n",
       "</script>"
      ]
     },
     "metadata": {},
     "output_type": "display_data"
    }
   ],
   "source": [
    "plot_stability(a1_val=.01)"
   ]
  },
  {
   "cell_type": "markdown",
   "metadata": {},
   "source": [
    "## Lambda Phage Switch Analysis\n",
    "\n",
    "In the following analysis we will focus in upon the behaviour of the Lambda Phage switch, as described by the below image. The cI repressor will typically/preferentially bind to two of the three positions on the shared Promoter/RBS regions in the Phage Lambda switch; for this simple analysis we will ignore all binding to the third position. Likewise the Cro protein will typically repress one of the three sites; we will only consider single-site repression for this case.\n",
    "\n",
    "\n",
    "<img src=\"http://www.nature.com/nchembio/journal/v7/n8/images/nchembio.611-F1.jpg\" width=700></img>"
   ]
  },
  {
   "cell_type": "code",
   "execution_count": 11,
   "metadata": {
    "collapsed": false
   },
   "outputs": [
    {
     "data": {
      "image/png": "[encoded data removed]",
      "text/latex": [
       "$$\\dot{[cro]} = - [cro] \\gamma + \\frac{\\alpha_{cro}}{\\frac{[cI]^{2}}{c_{cI}^{2}} + 1}$$"
      ],
      "text/plain": [
       "                           α_cro  \n",
       "\\dot{[cro]} = -[cro]⋅γ + ─────────\n",
       "                             2    \n",
       "                         [cI]     \n",
       "                         ───── + 1\n",
       "                             2    \n",
       "                         c_cI     "
      ]
     },
     "metadata": {},
     "output_type": "display_data"
    },
    {
     "data": {
      "image/png": "[encoded data removed]",
      "text/latex": [
       "$$\\dot{[cI]} = - [cI] \\gamma + \\frac{\\alpha_{cI}}{\\frac{[cro]}{c_{cro}} + 1}$$"
      ],
      "text/plain": [
       "                          α_cI  \n",
       "\\dot{[cI]} = -[cI]⋅γ + ─────────\n",
       "                       [cro]    \n",
       "                       ───── + 1\n",
       "                       c_cro    "
      ]
     },
     "metadata": {},
     "output_type": "display_data"
    }
   ],
   "source": [
    "cro, cI, a_cro, a_cI, c_cro, c_cI, gamma, t = symbols(\"[cro] [cI] alpha_cro alpha_cI c_cro c_cI gamma t\", positive=1)\n",
    "dot_cro = a_cro/(1+(cI/c_cI)**2) - gamma*cro\n",
    "dot_cI = a_cI/(1+(cro/c_cro)**1) - gamma*cI\n",
    "display(Eq(Symbol(\"\\dot{[cro]}\"), dot_cro), Eq(Symbol(\"\\dot{[cI]}\"), dot_cI))"
   ]
  },
  {
   "cell_type": "code",
   "execution_count": 12,
   "metadata": {
    "collapsed": false
   },
   "outputs": [
    {
     "data": {
      "image/png": "[encoded data removed]",
      "text/latex": [
       "$${[cro]}_s = \\frac{\\alpha_{cro} c_{cI}^{2}}{\\gamma \\left([cI]^{2} + c_{cI}^{2}\\right)}$$"
      ],
      "text/plain": [
       "                        2   \n",
       "              α_cro⋅c_cI    \n",
       "{[cro]}ₛ = ─────────────────\n",
       "             ⎛    2       2⎞\n",
       "           γ⋅⎝[cI]  + c_cI ⎠"
      ]
     },
     "metadata": {},
     "output_type": "display_data"
    },
    {
     "data": {
      "image/png": "[encoded data removed]",
      "text/latex": [
       "$${[cI]}_s = \\frac{\\alpha_{cI} c_{cro}}{\\gamma \\left([cro] + c_{cro}\\right)}$$"
      ],
      "text/plain": [
       "              α_cI⋅c_cro   \n",
       "{[cI]}ₛ = ─────────────────\n",
       "          γ⋅([cro] + c_cro)"
      ]
     },
     "metadata": {},
     "output_type": "display_data"
    }
   ],
   "source": [
    "cro_stable = solve(dot_cro, cro)[0]\n",
    "display(Eq(Symbol(\"{[cro]}_s\"), cro_stable))\n",
    "cI_stable = solve(dot_cI, cI)[0]\n",
    "display(Eq(Symbol(\"{[cI]}_s\"), cI_stable))"
   ]
  },
  {
   "cell_type": "code",
   "execution_count": 23,
   "metadata": {
    "collapsed": false
   },
   "outputs": [
    {
     "data": {
      "text/html": [
       "\n",
       "\n",
       "    <div class=\"bk-root\">\n",
       "        <div class=\"plotdiv\" id=\"91872063-7eab-45f7-ad36-089d085f9330\"></div>\n",
       "    </div>\n",
       "<script type=\"text/javascript\">\n",
       "  \n",
       "  (function(global) {\n",
       "    function now() {\n",
       "      return new Date();\n",
       "    }\n",
       "  \n",
       "    var force = \"\";\n",
       "  \n",
       "    if (typeof (window._bokeh_onload_callbacks) === \"undefined\" || force !== \"\") {\n",
       "      window._bokeh_onload_callbacks = [];\n",
       "      window._bokeh_is_loading = undefined;\n",
       "    }\n",
       "  \n",
       "  \n",
       "    \n",
       "    if (typeof (window._bokeh_timeout) === \"undefined\" || force !== \"\") {\n",
       "      window._bokeh_timeout = Date.now() + 0;\n",
       "      window._bokeh_failed_load = false;\n",
       "    }\n",
       "  \n",
       "    var NB_LOAD_WARNING = {'data': {'text/html':\n",
       "       \"<div style='background-color: #fdd'>\\n\"+\n",
       "       \"<p>\\n\"+\n",
       "       \"BokehJS does not appear to have successfully loaded. If loading BokehJS from CDN, this \\n\"+\n",
       "       \"may be due to a slow or bad network connection. Possible fixes:\\n\"+\n",
       "       \"</p>\\n\"+\n",
       "       \"<ul>\\n\"+\n",
       "       \"<li>re-rerun `output_notebook()` to attempt to load from CDN again, or</li>\\n\"+\n",
       "       \"<li>use INLINE resources instead, as so:</li>\\n\"+\n",
       "       \"</ul>\\n\"+\n",
       "       \"<code>\\n\"+\n",
       "       \"from bokeh.resources import INLINE\\n\"+\n",
       "       \"output_notebook(resources=INLINE)\\n\"+\n",
       "       \"</code>\\n\"+\n",
       "       \"</div>\"}};\n",
       "  \n",
       "    function display_loaded() {\n",
       "      if (window.Bokeh !== undefined) {\n",
       "        Bokeh.$(\"#91872063-7eab-45f7-ad36-089d085f9330\").text(\"BokehJS successfully loaded.\");\n",
       "      } else if (Date.now() < window._bokeh_timeout) {\n",
       "        setTimeout(display_loaded, 100)\n",
       "      }\n",
       "    }\n",
       "  \n",
       "    function run_callbacks() {\n",
       "      window._bokeh_onload_callbacks.forEach(function(callback) { callback() });\n",
       "      delete window._bokeh_onload_callbacks\n",
       "      console.info(\"Bokeh: all callbacks have finished\");\n",
       "    }\n",
       "  \n",
       "    function load_libs(js_urls, callback) {\n",
       "      window._bokeh_onload_callbacks.push(callback);\n",
       "      if (window._bokeh_is_loading > 0) {\n",
       "        console.log(\"Bokeh: BokehJS is being loaded, scheduling callback at\", now());\n",
       "        return null;\n",
       "      }\n",
       "      if (js_urls == null || js_urls.length === 0) {\n",
       "        run_callbacks();\n",
       "        return null;\n",
       "      }\n",
       "      console.log(\"Bokeh: BokehJS not loaded, scheduling load and callback at\", now());\n",
       "      window._bokeh_is_loading = js_urls.length;\n",
       "      for (var i = 0; i < js_urls.length; i++) {\n",
       "        var url = js_urls[i];\n",
       "        var s = document.createElement('script');\n",
       "        s.src = url;\n",
       "        s.async = false;\n",
       "        s.onreadystatechange = s.onload = function() {\n",
       "          window._bokeh_is_loading--;\n",
       "          if (window._bokeh_is_loading === 0) {\n",
       "            console.log(\"Bokeh: all BokehJS libraries loaded\");\n",
       "            run_callbacks()\n",
       "          }\n",
       "        };\n",
       "        s.onerror = function() {\n",
       "          console.warn(\"failed to load library \" + url);\n",
       "        };\n",
       "        console.log(\"Bokeh: injecting script tag for BokehJS library: \", url);\n",
       "        document.getElementsByTagName(\"head\")[0].appendChild(s);\n",
       "      }\n",
       "    };var element = document.getElementById(\"91872063-7eab-45f7-ad36-089d085f9330\");\n",
       "    if (element == null) {\n",
       "      console.log(\"Bokeh: ERROR: autoload.js configured with elementid '91872063-7eab-45f7-ad36-089d085f9330' but no matching script tag was found. \")\n",
       "      return false;\n",
       "    }\n",
       "  \n",
       "    var js_urls = [];\n",
       "  \n",
       "    var inline_js = [\n",
       "      function(Bokeh) {\n",
       "        Bokeh.$(function() {\n",
       "            var docs_json = {\"03976be2-212d-4bea-8768-f6e317f29f6d\":{\"roots\":{\"references\":[{\"attributes\":{\"callback\":null,\"column_names\":[\"v\",\"u\",\"x\"],\"data\":{\"u\":[17.31234031754416,17.312340490667562,17.269167571738215,17.140931178878773,16.931384342951162,16.6464812410265,16.293967520628293,15.882881184098679,15.42302048166375,14.924431457472034,14.396956748995892,13.84987239253405,13.291624177096017,12.729662125490853,12.170362383597581,11.619020463535275,11.079897914027239,10.556305177236316,10.050705654959396,9.564829000368817,9.099784751993461,8.656170245333781,8.234169079984571,7.833638231071294,7.454183203731995,7.0952215125686715,6.756035313431243,6.435814308798349,6.133690164984078,5.848763679279581,5.580125863228867,5.326873997128481,5.088123582856006,4.86301699176055,4.650729480367376,4.4504731338477015,4.2614991977027845,4.0830991723272545,3.914604972451681,3.7553883927695355,3.6048600709354632,3.4624680981335123,3.327696394169641,3.2000629372768135,3.079117917415307,2.9644418648403352,2.8556437922750617,2.752359378484509,2.654249212827529,2.5609971140040764,2.4723085313341744,2.3879090331955255,2.307542884460854,2.230971712714892,2.1579732615353766,2.0883402280660506,2.021879181391832,1.9584095577678233,1.8977627284919223,1.8397811360964462,1.7843174945289937,1.7312340490667562,1.680401891838637,1.631700328997885,1.585016295780962,1.5402438158956901,1.4972835018955728,1.4560420934119058,1.4164320303266567,1.3783710581741686,1.3417818632565441,1.3065917351447216,1.2727322544140827,1.2401390036294815,1.2087512997498733,1.1785119462673628,1.1493670035297967,1.1212655758204377,1.0941596138832397,1.0680037316883133,1.042755036329924,1.0183729700392683,0.9948191633769609,0.9720572987460727,0.950052983436277,0.9287736314735816,0.9081883536087901,0.8882678548315835,0.8689843388464078,0.8503114189915304,0.8322240351240264,0.8146983760314147,0.7977118069654447,0.7812428019254313,0.7652708803477759,0.7497765478851259,0.7347412409832388,0.7201472749861713,0.7059777955211565,0.6922167329335289,0.6788487595595553,0.6658592496410601,0.6532342417005021,0.6409604032087212,0.6290249973900466,0.6174158520209544,0.6061213300890175,0.5951303021886407,0.5844321205390348,0.5740165945181551,0.5638739676139586,0.553994895701362,0.5443704265597848,0.5349919805521495,0.5258513323917552,0.5169405939285625,0.5082521978911577,0.49977888252504493,0.49151367707197274,0.4834498880387479,0.4755810862074737,0.46790109434236654,0.4604039755512947,0.4530840222629562,0.4459357457831814,0.4389538663962363,0.4321333039792215,0.4254691690997187,0.41895675456875936,0.41259152742296373,0.40636912131136815,0.40028532926398985,0.39433609682062654,0.3885175154997208,0.38282581658836995,0.37725736523572806,0.37180865483312886,0.36647630166527434,0.3612570398177799,0.3561477163272487,0.3511452865608754,0.3462468098133512,0.3414494451095618,0.3367504472022478,0.33214716275442585,0.32763702669696365,0.3232175587522532,0.3188863601154459,0.3146411102852026,0.31047956403636223,0.3063995485273671,0.30239896053567794,0.29847576381479346,0.2946279865668407,0.29085371902503354,0.28715111114061304,0.28351837036917193,0.2799537595515453,0.2764555948847069,0.2730222439783561,0.2696521239931087,0.26634369985642403,0.2630954825526015,0.2599060274833743,0.2567739328958072,0.25369783837437804,0.2506764233942814,0.24770840593314575,0.24479254113849994,0.2419276200484567,0.23911246836321337,0.23634594526508615,0.2336269422849102,0.23095438221274764,0.22832721805094214,0.22574443200766148,0.2232050345291547,0.22070806336904078,0.2182525826930261,0.2158376822175235,0.21346247638072263,0.21112610354472636,0.20882772522743653,0.20656652536293477,0.20434170958915943,0.2021525045617417,0.19999815729291046,0.1978779345144309,0.19579112206358745,0.19373702429126632,0.19171496349123843,0.18972427934978148,0.18776432841482127,0.18583448358380802,0.1839341336095786,0.18206268262348888,0.18021954967513404,0.17840416828800038,0.17661598603042727,0.17485446410127825,0.1731190769297523,0.1714093117887877,0.16972466842153436,0.16806465868039563,0.16642880617815917,0.1648166459507574,0.1632277241312204,0.16166159763439686,0.16011783385204334,0.15859601035789261,0.15709571462233213,0.15561654373633763,0.15415810414432055,0.1527200113855642,0.1513018898439342,0.14990337250556376,0.14852410072422573,0.1471637239941139,0.1458218997297695,0.14449829305289674,0.1431925765858238,0.14190443025137345,0.14063354107891843,0.13937960301640412,0.1381423167481303,0.13692138951809205,0.1357165349586874,0.13452747292460612,0.1333539293317226,0.13219563600082132,0.13105233050599013,0.12992375602752393,0.12880966120918555,0.12770980001967805,0.1266239316181869,0.12555182022385641,0.1244932349890701,0.12344794987640872,0.12241574353916496,0.12139639920529809,0.1203897045647159],\"v\":[8.655304714862295,8.656170245333781,8.243971662222648,7.869245677576164,7.527104561159811,7.213475204444817,6.924936196267025,6.6585924964106,6.411977959506504,6.182978746666986,5.969772582988814,5.770780163555854,5.5846259647314715,5.4101064033336135,5.2461637850507765,5.091864850196341,4.946382997333589,4.8089834696298785,4.679010943423665,4.555879076491464,4.439061664273733,4.328085122666891,4.222522070894528,4.121985831111324,4.026125695504083,3.934622838788082,3.8471867757039027,3.7635522805799053,3.6834767001420343,3.6067376022224082,3.533130712381135,3.4624680981335123,3.3945765667975616,3.3292962482053,3.2664793378618033,3.205988979753252,3.1476982710304657,3.091489373333493,3.0372527176609756,2.9848862914944068,2.9342949984182303,2.885390081777927,2.8380886050274685,2.7923129823657358,2.7479905540742164,2.7050532016668067,2.6634369985642405,2.623081892525388,2.5839314165175464,2.5459324250981705,2.5090348537199363,2.4731914986667944,2.43835781558698,2.4044917348149393,2.3715534918722683,2.3395054717118327,2.3083120654223417,2.277939538245732,2.248355907878904,2.2195308321368663,2.1914355051477927,2.1640425613334453,2.1373259865021677,2.111261035447264,2.0858241555021153,2.060992915555662,2.0367459400785366,2.0130628477520416,1.989924194329605,1.967311419394041,1.9452067967042204,1.9235933878519513,1.902454998974457,1.8817761402899527,1.8615419882438238,1.8417383500710172,1.8223516305965854,1.8033688011112041,1.7847773701719138,1.7665653561905674,1.748721261683592,1.7312340490667562,1.7140931178878775,1.6972882833987804,1.6808097563754913,1.66464812410265,1.6487943324445296,1.633239668930902,1.617975746791361,1.602994489876626,1.588288118409868,1.5738491355152329,1.5596703144745552,1.5457446866667466,1.5320655301475716,1.5186263588304878,1.5054209122319617,1.4924431457472034,1.4796872214245778,1.4671474992091151,1.4548185286275261,1.4426950408889636,1.4307719413774844,1.4190443025137343,1.4075073569648424,1.3961564911828679,1.3849872392534048,1.3739952770371078,1.363176416587997,1.3525266008334034,1.3420418985013614,1.3317184992821203,1.3215527092112642,1.311540946262694,1.301679736140418,1.2919657082587732,1.2823955919013008,1.2729662125490853,1.263674488369895,1.2545174268599681,1.2454921216307597,1.2365957493333972,1.2278255667140114,1.21917890779349,1.2106531811655636,1.2022458674074696,1.1939545165977627,1.1857767459361341,1.1777102374603783,1.1697527358559163,1.1619020463535275,1.1541560327111708,1.1465126152759975,1.138969769122866,1.1315255222658536,1.124177953939452,1.1169251929462942,1.1097654160684332,1.102696846539335,1.0957177525738964,1.0888264459539345,1.0820212806667227,1.0753006515942585,1.0686629932510838,1.062106778568562,1.055630517723632,1.0492327570101554,1.0429120777510577,1.0366670952495542,1.030496457777831,1.0243988456016309,1.0183729700392683,1.0124175725536584,1.0065314238760208,1.0007133231599745,0.9949620971648026,0.9892765994667179,0.9836557096970205,0.9780983328060767,0.9726033983521102,0.9671698598138303,0.9617966939259757,0.9564829000368817,0.9512274994872286,0.9460295350091563,0.940888070144976,0.9358021886847331,0.9307709941219119,0.9257936091266076,0.9208691750355086,0.915996851358072,0.9111758152982927,0.9064052612914952,0.9016844005556022,0.8970124606563502,0.8923886850859566,0.8878123328547468,0.8832826780952837,0.8787990096785564,0.874360630841796,0.8699668588275156,0.8656170245333781,0.8613104721725154,0.8570465589439388,0.8528246547126876,0.8486441416993902,0.8445044141789054,0.8404048781877457,0.8363449512399789,0.832324062051325,0.8283416502711751,0.8243971662222648,0.8204900706477517,0.8166198344654508,0.8127859385289935,0.8089878733956805,0.8052251391008168,0.801497244938313,0.797803709247353,0.794144059204934,0.7905178306240895,0.7869245677576164,0.7833638231071294,0.7798351572372774,0.7763381385949579,0.7728723433333733,0.7694373551407805,0.7660327650737858,0.7626581713950467,0.7593131794152439,0.7559974013391948,0.7527104561159809,0.749451969292968,0.7462215728736017,0.7430189051788653,0.7398436107122889,0.7366953400284068,0.7335737496045576,0.7304785017159308,0.7274092643137631,0.7243657109065924,0.7213475204444818,0.7183543772061228,0.7153859706887422,0.7124419955007226,0.7095221512568671,0.706626142476227,0.7037536784824212,0.700904473306379,0.6980782455914339,0.6952747185007053,0.6924936196267024,0.68973468090309,0.6869976385185539,0.68428223283271,0.6815882082939985,0.6789153133595123,0.6762633004167017,0.6736319257069089,0.6710209492506807,0.6684301347748093],\"x\":[0.0001,0.0,0.05,0.1,0.15000000000000002,0.2,0.25,0.30000000000000004,0.35000000000000003,0.4,0.45,0.5,0.55,0.6000000000000001,0.65,0.7000000000000001,0.75,0.8,0.8500000000000001,0.9,0.9500000000000001,1.0,1.05,1.1,1.1500000000000001,1.2000000000000002,1.25,1.3,1.35,1.4000000000000001,1.4500000000000002,1.5,1.55,1.6,1.6500000000000001,1.7000000000000002,1.75,1.8,1.85,1.9000000000000001,1.9500000000000002,2.0,2.0500000000000003,2.1,2.15,2.2,2.25,2.3000000000000003,2.35,2.4000000000000004,2.45,2.5,2.5500000000000003,2.6,2.6500000000000004,2.7,2.75,2.8000000000000003,2.85,2.9000000000000004,2.95,3.0,3.0500000000000003,3.1,3.1500000000000004,3.2,3.25,3.3000000000000003,3.35,3.4000000000000004,3.45,3.5,3.5500000000000003,3.6,3.6500000000000004,3.7,3.75,3.8000000000000003,3.85,3.9000000000000004,3.95,4.0,4.05,4.1000000000000005,4.15,4.2,4.25,4.3,4.3500000000000005,4.4,4.45,4.5,4.55,4.6000000000000005,4.65,4.7,4.75,4.800000000000001,4.8500000000000005,4.9,4.95,5.0,5.050000000000001,5.1000000000000005,5.15,5.2,5.25,5.300000000000001,5.3500000000000005,5.4,5.45,5.5,5.550000000000001,5.6000000000000005,5.65,5.7,5.75,5.800000000000001,5.8500000000000005,5.9,5.95,6.0,6.050000000000001,6.1000000000000005,6.15,6.2,6.25,6.300000000000001,6.3500000000000005,6.4,6.45,6.5,6.550000000000001,6.6000000000000005,6.65,6.7,6.75,6.800000000000001,6.8500000000000005,6.9,6.95,7.0,7.050000000000001,7.1000000000000005,7.15,7.2,7.25,7.300000000000001,7.3500000000000005,7.4,7.45,7.5,7.550000000000001,7.6000000000000005,7.65,7.7,7.75,7.800000000000001,7.8500000000000005,7.9,7.95,8.0,8.05,8.1,8.15,8.200000000000001,8.25,8.3,8.35,8.4,8.450000000000001,8.5,8.55,8.6,8.65,8.700000000000001,8.75,8.8,8.85,8.9,8.950000000000001,9.0,9.05,9.1,9.15,9.200000000000001,9.25,9.3,9.35,9.4,9.450000000000001,9.5,9.55,9.600000000000001,9.65,9.700000000000001,9.75,9.8,9.850000000000001,9.9,9.950000000000001,10.0,10.05,10.100000000000001,10.15,10.200000000000001,10.25,10.3,10.350000000000001,10.4,10.450000000000001,10.5,10.55,10.600000000000001,10.65,10.700000000000001,10.75,10.8,10.850000000000001,10.9,10.950000000000001,11.0,11.05,11.100000000000001,11.15,11.200000000000001,11.25,11.3,11.350000000000001,11.4,11.450000000000001,11.5,11.55,11.600000000000001,11.65,11.700000000000001,11.75,11.8,11.850000000000001,11.9,11.950000000000001]}},\"id\":\"4c10a51d-e5cd-4cf8-8b7c-99258f0341b0\",\"type\":\"ColumnDataSource\"},{\"attributes\":{\"bottom_units\":\"screen\",\"fill_alpha\":{\"value\":0.5},\"fill_color\":{\"value\":\"lightgrey\"},\"left_units\":\"screen\",\"level\":\"overlay\",\"line_alpha\":{\"value\":1.0},\"line_color\":{\"value\":\"black\"},\"line_dash\":[4,4],\"line_width\":{\"value\":2},\"plot\":null,\"render_mode\":\"css\",\"right_units\":\"screen\",\"top_units\":\"screen\"},\"id\":\"e0efa9a5-3510-41e6-8cfa-c6d83e65332c\",\"type\":\"BoxAnnotation\"},{\"attributes\":{\"below\":[{\"id\":\"aecb7b79-1b08-4e09-9d33-982f3a243b66\",\"type\":\"LinearAxis\"}],\"left\":[{\"id\":\"eea8cd96-7332-4edd-a44c-2419184194a3\",\"type\":\"LinearAxis\"}],\"plot_height\":400,\"plot_width\":800,\"renderers\":[{\"id\":\"aecb7b79-1b08-4e09-9d33-982f3a243b66\",\"type\":\"LinearAxis\"},{\"id\":\"d32e7342-81d7-4af4-95da-5ab654cf90c7\",\"type\":\"Grid\"},{\"id\":\"eea8cd96-7332-4edd-a44c-2419184194a3\",\"type\":\"LinearAxis\"},{\"id\":\"20dab5b3-05a3-4736-aa2e-7b526e6c9cf5\",\"type\":\"Grid\"},{\"id\":\"e0efa9a5-3510-41e6-8cfa-c6d83e65332c\",\"type\":\"BoxAnnotation\"},{\"id\":\"92efd074-c11c-41fa-b789-43c6a636547b\",\"type\":\"GlyphRenderer\"},{\"id\":\"85a5b85e-1396-4f30-908c-f198963f0085\",\"type\":\"GlyphRenderer\"}],\"title\":{\"id\":\"16280019-0e0b-4f3a-89ff-65a4419fc9a7\",\"type\":\"Title\"},\"tool_events\":{\"id\":\"b901716a-b6cb-4d2e-b045-e4893cacb47d\",\"type\":\"ToolEvents\"},\"toolbar\":{\"id\":\"c02fec77-9886-484f-86ee-f21472343846\",\"type\":\"Toolbar\"},\"x_range\":{\"id\":\"58a80909-124d-47f9-b1e3-8fe63843275d\",\"type\":\"DataRange1d\"},\"y_range\":{\"id\":\"00c4d303-9873-46ff-b46a-a9c4aae103e4\",\"type\":\"DataRange1d\"}},\"id\":\"514dbc3b-b01e-4d33-8a8d-68c746bdd2c9\",\"subtype\":\"Figure\",\"type\":\"Plot\"},{\"attributes\":{\"callback\":null},\"id\":\"58a80909-124d-47f9-b1e3-8fe63843275d\",\"type\":\"DataRange1d\"},{\"attributes\":{},\"id\":\"4563a8de-64a2-42ca-945a-a8c507d76e4a\",\"type\":\"BasicTickFormatter\"},{\"attributes\":{\"plot\":null,\"text\":null},\"id\":\"16280019-0e0b-4f3a-89ff-65a4419fc9a7\",\"type\":\"Title\"},{\"attributes\":{\"plot\":{\"id\":\"514dbc3b-b01e-4d33-8a8d-68c746bdd2c9\",\"subtype\":\"Figure\",\"type\":\"Plot\"}},\"id\":\"33618418-0678-406f-8845-3ba189124c47\",\"type\":\"HelpTool\"},{\"attributes\":{\"formatter\":{\"id\":\"4563a8de-64a2-42ca-945a-a8c507d76e4a\",\"type\":\"BasicTickFormatter\"},\"plot\":{\"id\":\"514dbc3b-b01e-4d33-8a8d-68c746bdd2c9\",\"subtype\":\"Figure\",\"type\":\"Plot\"},\"ticker\":{\"id\":\"940f73ce-2676-4cae-a6ed-b42670010903\",\"type\":\"BasicTicker\"}},\"id\":\"eea8cd96-7332-4edd-a44c-2419184194a3\",\"type\":\"LinearAxis\"},{\"attributes\":{\"line_alpha\":{\"value\":0.6},\"line_color\":{\"value\":\"green\"},\"line_width\":{\"value\":3},\"x\":{\"field\":\"v\"},\"y\":{\"field\":\"x\"}},\"id\":\"3b13344c-1058-4f50-afc1-ffcdc6e27e54\",\"type\":\"Line\"},{\"attributes\":{\"active_drag\":\"auto\",\"active_scroll\":\"auto\",\"active_tap\":\"auto\",\"tools\":[{\"id\":\"30fa6f5a-d05e-4bb1-89ec-b7acaa9742ac\",\"type\":\"PanTool\"},{\"id\":\"f59f4be8-02ad-49a9-9c99-f473ac8ec263\",\"type\":\"WheelZoomTool\"},{\"id\":\"9ac8e4a0-5ed2-4487-81f9-4be2db878459\",\"type\":\"BoxZoomTool\"},{\"id\":\"0a6991b4-c445-4f21-bae0-c21a8f29be87\",\"type\":\"SaveTool\"},{\"id\":\"4b16187f-59a0-480f-9b18-a9bd1cb7e082\",\"type\":\"ResetTool\"},{\"id\":\"33618418-0678-406f-8845-3ba189124c47\",\"type\":\"HelpTool\"}]},\"id\":\"c02fec77-9886-484f-86ee-f21472343846\",\"type\":\"Toolbar\"},{\"attributes\":{\"overlay\":{\"id\":\"e0efa9a5-3510-41e6-8cfa-c6d83e65332c\",\"type\":\"BoxAnnotation\"},\"plot\":{\"id\":\"514dbc3b-b01e-4d33-8a8d-68c746bdd2c9\",\"subtype\":\"Figure\",\"type\":\"Plot\"}},\"id\":\"9ac8e4a0-5ed2-4487-81f9-4be2db878459\",\"type\":\"BoxZoomTool\"},{\"attributes\":{\"data_source\":{\"id\":\"4c10a51d-e5cd-4cf8-8b7c-99258f0341b0\",\"type\":\"ColumnDataSource\"},\"glyph\":{\"id\":\"3b13344c-1058-4f50-afc1-ffcdc6e27e54\",\"type\":\"Line\"},\"hover_glyph\":null,\"nonselection_glyph\":{\"id\":\"e8218887-ece1-4b36-8ae7-44c464083f2d\",\"type\":\"Line\"},\"selection_glyph\":null},\"id\":\"85a5b85e-1396-4f30-908c-f198963f0085\",\"type\":\"GlyphRenderer\"},{\"attributes\":{},\"id\":\"0ec22174-912c-4095-874a-9b84ff029ecd\",\"type\":\"BasicTicker\"},{\"attributes\":{\"plot\":{\"id\":\"514dbc3b-b01e-4d33-8a8d-68c746bdd2c9\",\"subtype\":\"Figure\",\"type\":\"Plot\"}},\"id\":\"f59f4be8-02ad-49a9-9c99-f473ac8ec263\",\"type\":\"WheelZoomTool\"},{\"attributes\":{\"formatter\":{\"id\":\"fec0186d-27a4-417e-9630-badd825b20b0\",\"type\":\"BasicTickFormatter\"},\"plot\":{\"id\":\"514dbc3b-b01e-4d33-8a8d-68c746bdd2c9\",\"subtype\":\"Figure\",\"type\":\"Plot\"},\"ticker\":{\"id\":\"0ec22174-912c-4095-874a-9b84ff029ecd\",\"type\":\"BasicTicker\"}},\"id\":\"aecb7b79-1b08-4e09-9d33-982f3a243b66\",\"type\":\"LinearAxis\"},{\"attributes\":{\"plot\":{\"id\":\"514dbc3b-b01e-4d33-8a8d-68c746bdd2c9\",\"subtype\":\"Figure\",\"type\":\"Plot\"},\"ticker\":{\"id\":\"0ec22174-912c-4095-874a-9b84ff029ecd\",\"type\":\"BasicTicker\"}},\"id\":\"d32e7342-81d7-4af4-95da-5ab654cf90c7\",\"type\":\"Grid\"},{\"attributes\":{\"plot\":{\"id\":\"514dbc3b-b01e-4d33-8a8d-68c746bdd2c9\",\"subtype\":\"Figure\",\"type\":\"Plot\"}},\"id\":\"0a6991b4-c445-4f21-bae0-c21a8f29be87\",\"type\":\"SaveTool\"},{\"attributes\":{},\"id\":\"940f73ce-2676-4cae-a6ed-b42670010903\",\"type\":\"BasicTicker\"},{\"attributes\":{\"plot\":{\"id\":\"514dbc3b-b01e-4d33-8a8d-68c746bdd2c9\",\"subtype\":\"Figure\",\"type\":\"Plot\"}},\"id\":\"30fa6f5a-d05e-4bb1-89ec-b7acaa9742ac\",\"type\":\"PanTool\"},{\"attributes\":{\"data_source\":{\"id\":\"4c10a51d-e5cd-4cf8-8b7c-99258f0341b0\",\"type\":\"ColumnDataSource\"},\"glyph\":{\"id\":\"9fce2cbf-0f8d-4429-9c52-72bac2cdc806\",\"type\":\"Line\"},\"hover_glyph\":null,\"nonselection_glyph\":{\"id\":\"52d921f9-73b6-4014-bbcd-42ef960e211a\",\"type\":\"Line\"},\"selection_glyph\":null},\"id\":\"92efd074-c11c-41fa-b789-43c6a636547b\",\"type\":\"GlyphRenderer\"},{\"attributes\":{\"line_alpha\":{\"value\":0.1},\"line_color\":{\"value\":\"#1f77b4\"},\"line_width\":{\"value\":3},\"x\":{\"field\":\"x\"},\"y\":{\"field\":\"u\"}},\"id\":\"52d921f9-73b6-4014-bbcd-42ef960e211a\",\"type\":\"Line\"},{\"attributes\":{\"callback\":null},\"id\":\"00c4d303-9873-46ff-b46a-a9c4aae103e4\",\"type\":\"DataRange1d\"},{\"attributes\":{\"plot\":{\"id\":\"514dbc3b-b01e-4d33-8a8d-68c746bdd2c9\",\"subtype\":\"Figure\",\"type\":\"Plot\"}},\"id\":\"4b16187f-59a0-480f-9b18-a9bd1cb7e082\",\"type\":\"ResetTool\"},{\"attributes\":{\"line_alpha\":{\"value\":0.1},\"line_color\":{\"value\":\"#1f77b4\"},\"line_width\":{\"value\":3},\"x\":{\"field\":\"v\"},\"y\":{\"field\":\"x\"}},\"id\":\"e8218887-ece1-4b36-8ae7-44c464083f2d\",\"type\":\"Line\"},{\"attributes\":{},\"id\":\"b901716a-b6cb-4d2e-b045-e4893cacb47d\",\"type\":\"ToolEvents\"},{\"attributes\":{\"line_alpha\":{\"value\":0.6},\"line_color\":{\"value\":\"blue\"},\"line_width\":{\"value\":3},\"x\":{\"field\":\"x\"},\"y\":{\"field\":\"u\"}},\"id\":\"9fce2cbf-0f8d-4429-9c52-72bac2cdc806\",\"type\":\"Line\"},{\"attributes\":{},\"id\":\"fec0186d-27a4-417e-9630-badd825b20b0\",\"type\":\"BasicTickFormatter\"},{\"attributes\":{\"dimension\":1,\"plot\":{\"id\":\"514dbc3b-b01e-4d33-8a8d-68c746bdd2c9\",\"subtype\":\"Figure\",\"type\":\"Plot\"},\"ticker\":{\"id\":\"940f73ce-2676-4cae-a6ed-b42670010903\",\"type\":\"BasicTicker\"}},\"id\":\"20dab5b3-05a3-4736-aa2e-7b526e6c9cf5\",\"type\":\"Grid\"}],\"root_ids\":[\"514dbc3b-b01e-4d33-8a8d-68c746bdd2c9\"]},\"title\":\"Bokeh Application\",\"version\":\"0.12.3\"}};\n",
       "            var render_items = [{\"docid\":\"03976be2-212d-4bea-8768-f6e317f29f6d\",\"elementid\":\"91872063-7eab-45f7-ad36-089d085f9330\",\"modelid\":\"514dbc3b-b01e-4d33-8a8d-68c746bdd2c9\"}];\n",
       "            \n",
       "            Bokeh.embed.embed_items(docs_json, render_items);\n",
       "        });\n",
       "      },\n",
       "      function(Bokeh) {\n",
       "      }\n",
       "    ];\n",
       "  \n",
       "    function run_inline_js() {\n",
       "      \n",
       "      if ((window.Bokeh !== undefined) || (force === \"1\")) {\n",
       "        for (var i = 0; i < inline_js.length; i++) {\n",
       "          inline_js[i](window.Bokeh);\n",
       "        }if (force === \"1\") {\n",
       "          display_loaded();\n",
       "        }} else if (Date.now() < window._bokeh_timeout) {\n",
       "        setTimeout(run_inline_js, 100);\n",
       "      } else if (!window._bokeh_failed_load) {\n",
       "        console.log(\"Bokeh: BokehJS failed to load within specified timeout.\");\n",
       "        window._bokeh_failed_load = true;\n",
       "      } else if (!force) {\n",
       "        var cell = $(\"#91872063-7eab-45f7-ad36-089d085f9330\").parents('.cell').data().cell;\n",
       "        cell.output_area.append_execute_result(NB_LOAD_WARNING)\n",
       "      }\n",
       "  \n",
       "    }\n",
       "  \n",
       "    if (window._bokeh_is_loading === 0) {\n",
       "      console.log(\"Bokeh: BokehJS loaded, going straight to plotting\");\n",
       "      run_inline_js();\n",
       "    } else {\n",
       "      load_libs(js_urls, function() {\n",
       "        console.log(\"Bokeh: BokehJS plotting callback run at\", now());\n",
       "        run_inline_js();\n",
       "      });\n",
       "    }\n",
       "  }(this));\n",
       "</script>"
      ]
     },
     "metadata": {},
     "output_type": "display_data"
    },
    {
     "data": {
      "text/plain": [
       "<function __main__.plot_stability>"
      ]
     },
     "execution_count": 23,
     "metadata": {},
     "output_type": "execute_result"
    }
   ],
   "source": [
    "output_notebook()\n",
    "def plot_stability(alpha_cro=.2, alpha_cI=.1, rep_cro=1, rep_cI=1, div_time=60):\n",
    "    lf_cro_stable = lambdify(cI, cro_stable.subs([(a_cro, alpha_cro), (c_cI, rep_cI), (gamma, ln(2)/div_time)]))\n",
    "    lf_cI_stable = lambdify(cro, cI_stable.subs([(a_cI, alpha_cI), (c_cro, rep_cro), (gamma, ln(2)/div_time)]))\n",
    "    x_range = np.arange(0, 12, .05)\n",
    "    x_range = np.hstack((.0001, x_range))\n",
    "    source = ColumnDataSource(data=dict(x=x_range, u=lf_cro_stable(x_range), v=lf_cI_stable(x_range)))\n",
    "    plt = Figure(plot_width=800, plot_height=400)\n",
    "    plt.line('x', 'u', source=source, line_width=3, line_alpha=0.6, line_color=\"blue\")\n",
    "    plt.line('v', 'x', source=source, line_width=3, line_alpha=0.6, line_color=\"green\")\n",
    "    show(plt)\n",
    "interact(plot_stability, \n",
    "         alpha_cro=(.01, .6, .01), alpha_cI=(.001, .6, .01),\n",
    "         rep_cro=(.01, 4, .2), rep_cI=(.01, 4, .2),\n",
    "         div_time=(20, 120, 5), __manual=0\n",
    ")\n",
    "#plot_stability()"
   ]
  }
 ],
 "metadata": {
  "kernelspec": {
   "display_name": "Python 3",
   "language": "python",
   "name": "python3"
  },
  "language_info": {
   "codemirror_mode": {
    "name": "ipython",
    "version": 3
   },
   "file_extension": ".py",
   "mimetype": "text/x-python",
   "name": "python",
   "nbconvert_exporter": "python",
   "pygments_lexer": "ipython3",
   "version": "3.5.2"
  },
  "widgets": {
   "state": {
    "002d75efb855436bb3c3b955d5e3f155": {
     "views": []
    },
    "008612a3622f4db89caf035d743b9c96": {
     "views": []
    },
    "009d7062fb204dd3946b0c61f5535fcb": {
     "views": []
    },
    "00d5ae7dbe7048909b17c3decfde19ae": {
     "views": []
    },
    "0128e9ae277048f890573a6ac40be926": {
     "views": []
    },
    "0218fdbd97b645d8bcfb37c922686bad": {
     "views": []
    },
    "02632d352c6e4173b806f1b98699c819": {
     "views": []
    },
    "0287d4adef8545b799b0b1284ced8843": {
     "views": []
    },
    "03023bccab7b42fdbb7dc6a4810ab781": {
     "views": []
    },
    "03276ae67436410caf75ce4028bbaf7f": {
     "views": []
    },
    "044fda179c7c4f8eb12b733c0c3b462e": {
     "views": []
    },
    "04a2085a3484461fac8085d4bdc918e3": {
     "views": []
    },
    "051b2fd2a959489a9b5eb6fd0c543f74": {
     "views": []
    },
    "053f6b86f55f473d81001b66c8233f47": {
     "views": []
    },
    "07985811dc0b4c0484c976ed62e1a2bb": {
     "views": []
    },
    "081182bd0e0d41d8bb58b2c08822e3d7": {
     "views": []
    },
    "0873cb83d7fd48e088437a11db5471c8": {
     "views": []
    },
    "0919a860f0534357a87441461fb4f408": {
     "views": []
    },
    "0951723458204a588d52a699f8b301e2": {
     "views": []
    },
    "09d7622196b34bd7843e10cb8c019a48": {
     "views": []
    },
    "0c5317afd0cf4268beee31e6ea72c1fb": {
     "views": []
    },
    "0cbb8633d7ad42438975604c3e147cc1": {
     "views": []
    },
    "0d4dbacd72bb44118678f6281ceca539": {
     "views": []
    },
    "0e16ff2880e74a4ab8da44baf68768fe": {
     "views": []
    },
    "0fbcfda90ec74cc0a50adf723f78a877": {
     "views": []
    },
    "0fccf7845b8d48e5903e9fc464b30392": {
     "views": []
    },
    "0fe499aea3624a6fb68d72ada8d0d7eb": {
     "views": []
    },
    "111410ffbddd447181d8c82a730f6628": {
     "views": []
    },
    "1149dfc461c444eeba0d39f913a73cc2": {
     "views": []
    },
    "130cc0f40c8b4e28b082f9f2d82529f2": {
     "views": []
    },
    "1508349d5eed47ada20b88d658babf9d": {
     "views": []
    },
    "154bfaf1e48844e9a81395a1c19ec67c": {
     "views": []
    },
    "168cd1569282401a87fd1f12dfca3d77": {
     "views": []
    },
    "170679f163b5413fa8acdf5c7bce5e40": {
     "views": []
    },
    "17d5d8dad82b4020be2e0e6de138a15b": {
     "views": []
    },
    "18cd93ef8b444d5894b8a97a2d59ffc4": {
     "views": []
    },
    "194f72cebdd14964b335377a71160002": {
     "views": []
    },
    "1959284f8d1d4052bf93a4ece3d834d0": {
     "views": []
    },
    "1985132dd4aa46fa9a09d6a06805315a": {
     "views": []
    },
    "1a032f2af4c64959b627bbc147fa2a58": {
     "views": []
    },
    "1a142a93a5d54589a3fe8b26b77979c5": {
     "views": []
    },
    "1a814d3b064744cab01e2ffddf907712": {
     "views": []
    },
    "1b883a0eda7c45b09e7e8a39ad56aebe": {
     "views": []
    },
    "1c19206f8e4d417e845dd62c41a16b6f": {
     "views": []
    },
    "1c811f7d8cfd4441a8cd762302c5f22b": {
     "views": []
    },
    "1c9620c41424447d8fabcd21b1c9ad42": {
     "views": []
    },
    "1d302a3f5d9a4d0fb46772b42a54d6a8": {
     "views": []
    },
    "1dad9d7fde8f440a91955461807770b9": {
     "views": []
    },
    "1df8cc2b9f084964992cbe655db49066": {
     "views": []
    },
    "1fd2e644f4bb4b9a9333dfa05699e271": {
     "views": []
    },
    "200f9c9de181433c95dc16488c5f1a9a": {
     "views": []
    },
    "201e1b59b62943cc8fb191326f4874d3": {
     "views": []
    },
    "203a748f73344ece9f1ba7dcfeb20b6f": {
     "views": []
    },
    "21504c64ac8b48b49608dd7333413a0f": {
     "views": []
    },
    "216f7f7b82114d239e6f1744426c59f0": {
     "views": []
    },
    "219fb5ce27704cb3a22e86f2426be3fe": {
     "views": []
    },
    "21fc5b5ae7db461bbc418cb619062e46": {
     "views": []
    },
    "22879155996849499e596aca4cc5a31e": {
     "views": []
    },
    "258ae9e515b2400b803642493b687bd7": {
     "views": []
    },
    "2733333a84eb46cd9f44bf79800aefa1": {
     "views": []
    },
    "27d118b2c103495eba38eea3e41c5a3d": {
     "views": []
    },
    "28090f26ed144a269e9120cbf51d43b6": {
     "views": []
    },
    "2983ff698ebd483baafdee4ee6906c5a": {
     "views": []
    },
    "29989d4b224a4b44ad32d5467631921b": {
     "views": []
    },
    "2ade099f972340dc8c89edab47fa45f8": {
     "views": []
    },
    "2b15143ac4f4403c939312adf5e717e6": {
     "views": []
    },
    "2b8b8103ba8f41e0996c548fb6359ae2": {
     "views": []
    },
    "2ba248bc895a4b7aa3a5bf4285779232": {
     "views": []
    },
    "2d9f7692994b41d1bb6f5f385ec5c5eb": {
     "views": []
    },
    "2f4de6e50ac649e79eec390961663519": {
     "views": []
    },
    "2f4f318b719f4f829ab428c01aee57bc": {
     "views": []
    },
    "2f5ceb8edbd9460fb240eaaabfc86674": {
     "views": []
    },
    "2f6e737a69414d00ac803086f7811ce1": {
     "views": []
    },
    "2f85ac7cab7c43dfb08550c7a03add8b": {
     "views": []
    },
    "2ffba93c260e417391d040a72bf82006": {
     "views": []
    },
    "300f217eacc2480f8865913b5791b31d": {
     "views": []
    },
    "309b8a5bac3f4281bca861dc3d36ae01": {
     "views": []
    },
    "31487fae01464e26bf1df45b643e2cce": {
     "views": []
    },
    "3173049c5b62443ea8f93751a6e36b25": {
     "views": []
    },
    "330a76bd6d034dd6a50ba95af25a9f8e": {
     "views": []
    },
    "36c7ebd116b1488f874a7029da72c23b": {
     "views": []
    },
    "384709fa94df4294bc5dfafcab3830cc": {
     "views": []
    },
    "38e7a87bae39488b9ecb28ca0cc20fcc": {
     "views": []
    },
    "39a0dc556f674d7cac7960b1248f9aac": {
     "views": []
    },
    "3aad320358f0489698b07300b095e8cc": {
     "views": []
    },
    "3add2e70faac4143983e2c77f305a080": {
     "views": []
    },
    "3b79ac5b2ee64dd18ff44868c8257675": {
     "views": []
    },
    "3bd4399953004ab8ad3543590682a463": {
     "views": []
    },
    "3c2fd46eb59245e5a3a5860ba39ba88e": {
     "views": []
    },
    "3c72e20833834695b466520bf4e8aa8e": {
     "views": []
    },
    "3cbf3bc8519941dbb2fd896467b3cc6e": {
     "views": []
    },
    "3df193ea5af94a7e9ff3f781bb8db677": {
     "views": []
    },
    "3e021018a25642cab02afbd45159e237": {
     "views": []
    },
    "3e123381669240318ac66bf5bdbbe088": {
     "views": []
    },
    "3e795cce4f6e410aa37337b5488bd428": {
     "views": []
    },
    "3f3a1ab387654c3e93edcce89b00e3ee": {
     "views": []
    },
    "403547d7144a4b36a034a5e41ab0ca09": {
     "views": []
    },
    "40b8927afdf740b98ade16fa586c71d2": {
     "views": []
    },
    "42277f41d02d4118bca21e8ec3985749": {
     "views": []
    },
    "4291b91a7c0946228e5a2e305087315d": {
     "views": []
    },
    "4316ea1b84e24672bf6cc32c39856e1f": {
     "views": []
    },
    "431ad240e08e45019dd9aa2e53a5f423": {
     "views": []
    },
    "433d2b68afe84d679e17a674fafb358e": {
     "views": []
    },
    "4345339535d0446f8cc3c49d77128aee": {
     "views": []
    },
    "43942810587c47648b759b168290aa74": {
     "views": []
    },
    "45a38b84c61c4814840ea69df9a367b9": {
     "views": []
    },
    "45b6e84b07db41c399d8f31dfed5d175": {
     "views": []
    },
    "4620106ac90b42ffaea619fe74ac62ff": {
     "views": [
      {
       "cell": {
        "cell_type": "code",
        "execution_count": 28,
        "metadata": {
         "collapsed": false,
         "scrolled": true,
         "trusted": true
        },
        "outputs": [
         {
          "data": {
           "image/png": "iVBORw0KGgoAAAANSUhEUgAAAYwAAAESCAYAAADuVeJ5AAAABHNCSVQICAgIfAhkiAAAAAlwSFlz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\nhCEiIjlRwhARkZz8fx+/Sac/X84VAAAAAElFTkSuQmCC\n",
           "text/plain": "<matplotlib.figure.Figure at 0x7fadc8800b38>"
          },
          "metadata": {},
          "output_type": "display_data"
         }
        ],
        "source": "t = symbols(\"t\", positive=1)\ndef plot_decay(duration=60):\n    plot((1/2)**(t/duration), (t, 0, 1000))\nplt=interact(plot_decay, duration=(1, 120, 5))"
       },
       "cell_index": 3,
       "root": true
      }
     ]
    },
    "462fb2a4b5374ee68d769441fe1e6001": {
     "views": []
    },
    "46e6b40818a6490481192fc00c9e56a4": {
     "views": []
    },
    "475e7322ba474a4c9cd0918cd8156a38": {
     "views": []
    },
    "4782a70023a24cd58455223b823133ec": {
     "views": []
    },
    "4786e14b7b0644e9a6c459ebb9d4cb09": {
     "views": []
    },
    "47a903d60a634687bbec29b5190f41c4": {
     "views": []
    },
    "4872a73d92644f3f9483ccc8fe177d34": {
     "views": []
    },
    "4885b7361b9547ae99e82191278ad884": {
     "views": []
    },
    "488a25de8a1548ef84390103f4385037": {
     "views": [
      {
       "cell": {
        "cell_type": "code",
        "execution_count": 5,
        "metadata": {
         "collapsed": false,
         "trusted": true
        },
        "outputs": [
         {
          "data": {
           "text/html": "\n    <div class=\"bk-root\">\n        <a href=\"http://bokeh.pydata.org\" target=\"_blank\" class=\"bk-logo bk-logo-small bk-logo-notebook\"></a>\n        <span id=\"c6d923c4-a9bf-43a3-9390-887803a960c0\">Loading BokehJS ...</span>\n    </div>"
          },
          "metadata": {},
          "output_type": "display_data"
         },
         {
          "data": {
           "application/javascript": "\n(function(global) {\n  function now() {\n    return new Date();\n  }\n\n  var force = \"1\";\n\n  if (typeof (window._bokeh_onload_callbacks) === \"undefined\" || force !== \"\") {\n    window._bokeh_onload_callbacks = [];\n    window._bokeh_is_loading = undefined;\n  }\n\n\n  \n  if (typeof (window._bokeh_timeout) === \"undefined\" || force !== \"\") {\n    window._bokeh_timeout = Date.now() + 5000;\n    window._bokeh_failed_load = false;\n  }\n\n  var NB_LOAD_WARNING = {'data': {'text/html':\n     \"<div style='background-color: #fdd'>\\n\"+\n     \"<p>\\n\"+\n     \"BokehJS does not appear to have successfully loaded. If loading BokehJS from CDN, this \\n\"+\n     \"may be due to a slow or bad network connection. Possible fixes:\\n\"+\n     \"</p>\\n\"+\n     \"<ul>\\n\"+\n     \"<li>re-rerun `output_notebook()` to attempt to load from CDN again, or</li>\\n\"+\n     \"<li>use INLINE resources instead, as so:</li>\\n\"+\n     \"</ul>\\n\"+\n     \"<code>\\n\"+\n     \"from bokeh.resources import INLINE\\n\"+\n     \"output_notebook(resources=INLINE)\\n\"+\n     \"</code>\\n\"+\n     \"</div>\"}};\n\n  function display_loaded() {\n    if (window.Bokeh !== undefined) {\n      Bokeh.$(\"#c6d923c4-a9bf-43a3-9390-887803a960c0\").text(\"BokehJS successfully loaded.\");\n    } else if (Date.now() < window._bokeh_timeout) {\n      setTimeout(display_loaded, 100)\n    }\n  }\n\n  function run_callbacks() {\n    window._bokeh_onload_callbacks.forEach(function(callback) { callback() });\n    delete window._bokeh_onload_callbacks\n    console.info(\"Bokeh: all callbacks have finished\");\n  }\n\n  function load_libs(js_urls, callback) {\n    window._bokeh_onload_callbacks.push(callback);\n    if (window._bokeh_is_loading > 0) {\n      console.log(\"Bokeh: BokehJS is being loaded, scheduling callback at\", now());\n      return null;\n    }\n    if (js_urls == null || js_urls.length === 0) {\n      run_callbacks();\n      return null;\n    }\n    console.log(\"Bokeh: BokehJS not loaded, scheduling load and callback at\", now());\n    window._bokeh_is_loading = js_urls.length;\n    for (var i = 0; i < js_urls.length; i++) {\n      var url = js_urls[i];\n      var s = document.createElement('script');\n      s.src = url;\n      s.async = false;\n      s.onreadystatechange = s.onload = function() {\n        window._bokeh_is_loading--;\n        if (window._bokeh_is_loading === 0) {\n          console.log(\"Bokeh: all BokehJS libraries loaded\");\n          run_callbacks()\n        }\n      };\n      s.onerror = function() {\n        console.warn(\"failed to load library \" + url);\n      };\n      console.log(\"Bokeh: injecting script tag for BokehJS library: \", url);\n      document.getElementsByTagName(\"head\")[0].appendChild(s);\n    }\n  };var element = document.getElementById(\"c6d923c4-a9bf-43a3-9390-887803a960c0\");\n  if (element == null) {\n    console.log(\"Bokeh: ERROR: autoload.js configured with elementid 'c6d923c4-a9bf-43a3-9390-887803a960c0' but no matching script tag was found. \")\n    return false;\n  }\n\n  var js_urls = ['https://cdn.pydata.org/bokeh/release/bokeh-0.12.3.min.js', 'https://cdn.pydata.org/bokeh/release/bokeh-widgets-0.12.3.min.js'];\n\n  var inline_js = [\n    function(Bokeh) {\n      Bokeh.set_log_level(\"info\");\n    },\n    \n    function(Bokeh) {\n      \n      Bokeh.$(\"#c6d923c4-a9bf-43a3-9390-887803a960c0\").text(\"BokehJS is loading...\");\n    },\n    function(Bokeh) {\n      console.log(\"Bokeh: injecting CSS: https://cdn.pydata.org/bokeh/release/bokeh-0.12.3.min.css\");\n      Bokeh.embed.inject_css(\"https://cdn.pydata.org/bokeh/release/bokeh-0.12.3.min.css\");\n      console.log(\"Bokeh: injecting CSS: https://cdn.pydata.org/bokeh/release/bokeh-widgets-0.12.3.min.css\");\n      Bokeh.embed.inject_css(\"https://cdn.pydata.org/bokeh/release/bokeh-widgets-0.12.3.min.css\");\n    }\n  ];\n\n  function run_inline_js() {\n    \n    if ((window.Bokeh !== undefined) || (force === \"1\")) {\n      for (var i = 0; i < inline_js.length; i++) {\n        inline_js[i](window.Bokeh);\n      }if (force === \"1\") {\n        display_loaded();\n      }} else if (Date.now() < window._bokeh_timeout) {\n      setTimeout(run_inline_js, 100);\n    } else if (!window._bokeh_failed_load) {\n      console.log(\"Bokeh: BokehJS failed to load within specified timeout.\");\n      window._bokeh_failed_load = true;\n    } else if (!force) {\n      var cell = $(\"#c6d923c4-a9bf-43a3-9390-887803a960c0\").parents('.cell').data().cell;\n      cell.output_area.append_execute_result(NB_LOAD_WARNING)\n    }\n\n  }\n\n  if (window._bokeh_is_loading === 0) {\n    console.log(\"Bokeh: BokehJS loaded, going straight to plotting\");\n    run_inline_js();\n  } else {\n    load_libs(js_urls, function() {\n      console.log(\"Bokeh: BokehJS plotting callback run at\", now());\n      run_inline_js();\n    });\n  }\n}(this));"
          },
          "metadata": {},
          "output_type": "display_data"
         },
         {
          "data": {
           "text/html": "\n\n    <div class=\"bk-root\">\n        <div class=\"plotdiv\" id=\"da3d5b76-4c03-4691-8ecc-367406d13646\"></div>\n    </div>\n<script type=\"text/javascript\">\n  \n  (function(global) {\n    function now() {\n      return new Date();\n    }\n  \n    var force = \"\";\n  \n    if (typeof (window._bokeh_onload_callbacks) === \"undefined\" || force !== \"\") {\n      window._bokeh_onload_callbacks = [];\n      window._bokeh_is_loading = undefined;\n    }\n  \n  \n    \n    if (typeof (window._bokeh_timeout) === \"undefined\" || force !== \"\") {\n      window._bokeh_timeout = Date.now() + 0;\n      window._bokeh_failed_load = false;\n    }\n  \n    var NB_LOAD_WARNING = {'data': {'text/html':\n       \"<div style='background-color: #fdd'>\\n\"+\n       \"<p>\\n\"+\n       \"BokehJS does not appear to have successfully loaded. If loading BokehJS from CDN, this \\n\"+\n       \"may be due to a slow or bad network connection. Possible fixes:\\n\"+\n       \"</p>\\n\"+\n       \"<ul>\\n\"+\n       \"<li>re-rerun `output_notebook()` to attempt to load from CDN again, or</li>\\n\"+\n       \"<li>use INLINE resources instead, as so:</li>\\n\"+\n       \"</ul>\\n\"+\n       \"<code>\\n\"+\n       \"from bokeh.resources import INLINE\\n\"+\n       \"output_notebook(resources=INLINE)\\n\"+\n       \"</code>\\n\"+\n       \"</div>\"}};\n  \n    function display_loaded() {\n      if (window.Bokeh !== undefined) {\n        Bokeh.$(\"#da3d5b76-4c03-4691-8ecc-367406d13646\").text(\"BokehJS successfully loaded.\");\n      } else if (Date.now() < window._bokeh_timeout) {\n        setTimeout(display_loaded, 100)\n      }\n    }\n  \n    function run_callbacks() {\n      window._bokeh_onload_callbacks.forEach(function(callback) { callback() });\n      delete window._bokeh_onload_callbacks\n      console.info(\"Bokeh: all callbacks have finished\");\n    }\n  \n    function load_libs(js_urls, callback) {\n      window._bokeh_onload_callbacks.push(callback);\n      if (window._bokeh_is_loading > 0) {\n        console.log(\"Bokeh: BokehJS is being loaded, scheduling callback at\", now());\n        return null;\n      }\n      if (js_urls == null || js_urls.length === 0) {\n        run_callbacks();\n        return null;\n      }\n      console.log(\"Bokeh: BokehJS not loaded, scheduling load and callback at\", now());\n      window._bokeh_is_loading = js_urls.length;\n      for (var i = 0; i < js_urls.length; i++) {\n        var url = js_urls[i];\n        var s = document.createElement('script');\n        s.src = url;\n        s.async = false;\n        s.onreadystatechange = s.onload = function() {\n          window._bokeh_is_loading--;\n          if (window._bokeh_is_loading === 0) {\n            console.log(\"Bokeh: all BokehJS libraries loaded\");\n            run_callbacks()\n          }\n        };\n        s.onerror = function() {\n          console.warn(\"failed to load library \" + url);\n        };\n        console.log(\"Bokeh: injecting script tag for BokehJS library: \", url);\n        document.getElementsByTagName(\"head\")[0].appendChild(s);\n      }\n    };var element = document.getElementById(\"da3d5b76-4c03-4691-8ecc-367406d13646\");\n    if (element == null) {\n      console.log(\"Bokeh: ERROR: autoload.js configured with elementid 'da3d5b76-4c03-4691-8ecc-367406d13646' but no matching script tag was found. \")\n      return false;\n    }\n  \n    var js_urls = [];\n  \n    var inline_js = [\n      function(Bokeh) {\n        Bokeh.$(function() {\n            var docs_json = {\"cc4a20fd-e8f2-4744-a6f1-f68efcd4d647\":{\"roots\":{\"references\":[{\"attributes\":{\"plot\":{\"id\":\"be75834d-8665-4a42-bb88-87785cdb714d\",\"subtype\":\"Figure\",\"type\":\"Plot\"}},\"id\":\"72749545-8e8b-43fc-a031-f561d6945603\",\"type\":\"SaveTool\"},{\"attributes\":{\"plot\":{\"id\":\"be75834d-8665-4a42-bb88-87785cdb714d\",\"subtype\":\"Figure\",\"type\":\"Plot\"}},\"id\":\"d1dfd4b2-1a49-4bbe-82c4-3ee8757a693b\",\"type\":\"WheelZoomTool\"},{\"attributes\":{\"formatter\":{\"id\":\"03ae94b7-7546-4c14-9d48-5aa0e062d022\",\"type\":\"BasicTickFormatter\"},\"plot\":{\"id\":\"be75834d-8665-4a42-bb88-87785cdb714d\",\"subtype\":\"Figure\",\"type\":\"Plot\"},\"ticker\":{\"id\":\"8258735b-fcb6-4473-bb50-991b5b60b4c6\",\"type\":\"BasicTicker\"}},\"id\":\"44266f99-dfe7-4f46-a771-e518c289ceb8\",\"type\":\"LinearAxis\"},{\"attributes\":{},\"id\":\"8dd9d383-8d3f-4aae-9ae4-295fb76bbcf6\",\"type\":\"ToolEvents\"},{\"attributes\":{},\"id\":\"03ae94b7-7546-4c14-9d48-5aa0e062d022\",\"type\":\"BasicTickFormatter\"},{\"attributes\":{\"plot\":{\"id\":\"be75834d-8665-4a42-bb88-87785cdb714d\",\"subtype\":\"Figure\",\"type\":\"Plot\"}},\"id\":\"6e3a60dd-11b1-4c5f-bd74-65e2f0e4bca8\",\"type\":\"ResetTool\"},{\"attributes\":{\"data_source\":{\"id\":\"f8c91aef-26a2-4108-a76c-d3162555b437\",\"type\":\"ColumnDataSource\"},\"glyph\":{\"id\":\"c5d1956d-32d6-49ce-a85f-1c21c9cbcd2c\",\"type\":\"Line\"},\"hover_glyph\":null,\"nonselection_glyph\":{\"id\":\"7af5cfef-14cf-4bcc-a91b-8cd9ebebe0aa\",\"type\":\"Line\"},\"selection_glyph\":null},\"id\":\"e857d41b-4e18-49a1-9e05-58ab9c71d3b6\",\"type\":\"GlyphRenderer\"},{\"attributes\":{\"data_source\":{\"id\":\"f8c91aef-26a2-4108-a76c-d3162555b437\",\"type\":\"ColumnDataSource\"},\"glyph\":{\"id\":\"efca7a40-8c64-43e7-af40-cb1a150d18ea\",\"type\":\"Line\"},\"hover_glyph\":null,\"nonselection_glyph\":{\"id\":\"860e4894-8798-4c1a-87cf-1ad66ecb942b\",\"type\":\"Line\"},\"selection_glyph\":null},\"id\":\"7d62a1e7-5a9e-4430-a9f8-c5763b15b54a\",\"type\":\"GlyphRenderer\"},{\"attributes\":{\"below\":[{\"id\":\"fc3103dc-cb17-4dca-b74b-3d771f5d9906\",\"type\":\"LinearAxis\"}],\"left\":[{\"id\":\"44266f99-dfe7-4f46-a771-e518c289ceb8\",\"type\":\"LinearAxis\"}],\"plot_height\":400,\"plot_width\":400,\"renderers\":[{\"id\":\"fc3103dc-cb17-4dca-b74b-3d771f5d9906\",\"type\":\"LinearAxis\"},{\"id\":\"bba1fe1a-46b3-49b8-af8c-f4b7649f2a7b\",\"type\":\"Grid\"},{\"id\":\"44266f99-dfe7-4f46-a771-e518c289ceb8\",\"type\":\"LinearAxis\"},{\"id\":\"0698e95f-c3b5-4815-bda7-e374b3fb2b2d\",\"type\":\"Grid\"},{\"id\":\"f32dd8da-2559-445e-a9d3-393fe1da69ce\",\"type\":\"BoxAnnotation\"},{\"id\":\"7d62a1e7-5a9e-4430-a9f8-c5763b15b54a\",\"type\":\"GlyphRenderer\"},{\"id\":\"e857d41b-4e18-49a1-9e05-58ab9c71d3b6\",\"type\":\"GlyphRenderer\"}],\"title\":{\"id\":\"22161ab2-6b63-4161-a868-c0ec4fa86067\",\"type\":\"Title\"},\"tool_events\":{\"id\":\"8dd9d383-8d3f-4aae-9ae4-295fb76bbcf6\",\"type\":\"ToolEvents\"},\"toolbar\":{\"id\":\"9c038ce4-9464-4880-8684-aba5f0663efd\",\"type\":\"Toolbar\"},\"x_range\":{\"id\":\"df48b4a0-02e5-41b4-8c66-a0ab7d2bba78\",\"type\":\"DataRange1d\"},\"y_range\":{\"id\":\"2d28a965-5b20-4c2f-9c4a-784eee00d6f7\",\"type\":\"DataRange1d\"}},\"id\":\"be75834d-8665-4a42-bb88-87785cdb714d\",\"subtype\":\"Figure\",\"type\":\"Plot\"},{\"attributes\":{},\"id\":\"170dd388-668a-41ea-aa72-5ee4389887f7\",\"type\":\"BasicTickFormatter\"},{\"attributes\":{},\"id\":\"8258735b-fcb6-4473-bb50-991b5b60b4c6\",\"type\":\"BasicTicker\"},{\"attributes\":{\"active_drag\":\"auto\",\"active_scroll\":\"auto\",\"active_tap\":\"auto\",\"tools\":[{\"id\":\"5eb0b631-de16-40d0-92f9-b0741a1afa66\",\"type\":\"PanTool\"},{\"id\":\"d1dfd4b2-1a49-4bbe-82c4-3ee8757a693b\",\"type\":\"WheelZoomTool\"},{\"id\":\"006634ed-6b7d-4c19-b511-b90160fbdf54\",\"type\":\"BoxZoomTool\"},{\"id\":\"72749545-8e8b-43fc-a031-f561d6945603\",\"type\":\"SaveTool\"},{\"id\":\"6e3a60dd-11b1-4c5f-bd74-65e2f0e4bca8\",\"type\":\"ResetTool\"},{\"id\":\"4e3dd8fc-3028-4916-b5cf-04346f40470a\",\"type\":\"HelpTool\"}]},\"id\":\"9c038ce4-9464-4880-8684-aba5f0663efd\",\"type\":\"Toolbar\"},{\"attributes\":{\"line_alpha\":{\"value\":0.1},\"line_color\":{\"value\":\"#1f77b4\"},\"line_width\":{\"value\":3},\"x\":{\"field\":\"v\"},\"y\":{\"field\":\"x\"}},\"id\":\"7af5cfef-14cf-4bcc-a91b-8cd9ebebe0aa\",\"type\":\"Line\"},{\"attributes\":{\"callback\":null},\"id\":\"2d28a965-5b20-4c2f-9c4a-784eee00d6f7\",\"type\":\"DataRange1d\"},{\"attributes\":{\"plot\":{\"id\":\"be75834d-8665-4a42-bb88-87785cdb714d\",\"subtype\":\"Figure\",\"type\":\"Plot\"}},\"id\":\"4e3dd8fc-3028-4916-b5cf-04346f40470a\",\"type\":\"HelpTool\"},{\"attributes\":{\"plot\":{\"id\":\"be75834d-8665-4a42-bb88-87785cdb714d\",\"subtype\":\"Figure\",\"type\":\"Plot\"}},\"id\":\"5eb0b631-de16-40d0-92f9-b0741a1afa66\",\"type\":\"PanTool\"},{\"attributes\":{\"plot\":null,\"text\":null},\"id\":\"22161ab2-6b63-4161-a868-c0ec4fa86067\",\"type\":\"Title\"},{\"attributes\":{\"dimension\":1,\"plot\":{\"id\":\"be75834d-8665-4a42-bb88-87785cdb714d\",\"subtype\":\"Figure\",\"type\":\"Plot\"},\"ticker\":{\"id\":\"8258735b-fcb6-4473-bb50-991b5b60b4c6\",\"type\":\"BasicTicker\"}},\"id\":\"0698e95f-c3b5-4815-bda7-e374b3fb2b2d\",\"type\":\"Grid\"},{\"attributes\":{\"callback\":null},\"id\":\"df48b4a0-02e5-41b4-8c66-a0ab7d2bba78\",\"type\":\"DataRange1d\"},{\"attributes\":{\"line_alpha\":{\"value\":0.6},\"line_color\":{\"value\":\"blue\"},\"line_width\":{\"value\":3},\"x\":{\"field\":\"x\"},\"y\":{\"field\":\"u\"}},\"id\":\"efca7a40-8c64-43e7-af40-cb1a150d18ea\",\"type\":\"Line\"},{\"attributes\":{},\"id\":\"da71fecd-f955-4471-b14a-deb2942bb6b0\",\"type\":\"BasicTicker\"},{\"attributes\":{\"line_alpha\":{\"value\":0.6},\"line_color\":{\"value\":\"green\"},\"line_width\":{\"value\":3},\"x\":{\"field\":\"v\"},\"y\":{\"field\":\"x\"}},\"id\":\"c5d1956d-32d6-49ce-a85f-1c21c9cbcd2c\",\"type\":\"Line\"},{\"attributes\":{\"plot\":{\"id\":\"be75834d-8665-4a42-bb88-87785cdb714d\",\"subtype\":\"Figure\",\"type\":\"Plot\"},\"ticker\":{\"id\":\"da71fecd-f955-4471-b14a-deb2942bb6b0\",\"type\":\"BasicTicker\"}},\"id\":\"bba1fe1a-46b3-49b8-af8c-f4b7649f2a7b\",\"type\":\"Grid\"},{\"attributes\":{\"callback\":null,\"column_names\":[\"v\",\"u\",\"x\"],\"data\":{\"u\":[8.656170245325123,8.656170245333781,8.65508835928887,8.64752272261117,8.627053938292047,8.587470481481926,8.522998395405569,8.42859809672228,8.300295093212302,8.135498350877613,7.9332526019784915,7.694373551407805,7.42142985346375,7.11856105701791,6.791150530810067,6.445398544552331,6.087855996718263,5.72498032098795,5.3627632589382985,5.006460523616993,4.660432193463237,4.328085122666891,4.011897454531617,3.71350074874894,3.4337959023488986,3.173082934506517,2.931189924345831,2.7075915687625214,2.501512190249259,2.312011283475903,2.1380518683093097,1.9785531989334357,1.8324299955722323,1.6986205347986223,1.5761058325026795,1.4639219085631285,1.3611668199050664,1.2670038415301201,1.1806618921908554,1.101434055901995,1.0286748460712463,0.9617966939259757,0.9002660126970559,0.8435990883280168,0.7913579709356995,0.7431464839743971,0.6986064258529155,0.6574140081517262,0.6192765527903047,0.5839294552977453,0.5511334110312874,0.5206718944561672,0.4923488774532014,0.4659867703129727,0.4414245680544007,0.41851618456383405,0.39712895749201577,0.377142307656578,0.3584465377248153,0.34094175608861227,0.324536913017074,0.3091489373333493,0.2947019629785822,0.2811266358784638,0.26835949250590097,0.2563424024322962,0.24502206797937284,0.234349574825616,0.22427998809012167,0.21477198901681668,0.2057875479189865,0.19729162952327706,0.18925192727922974,0.1816386235801112,0.17442417317815162,0.16758310737679863,0.16109185684831695,0.15492859116075633,0.14907307330732208,0.1435065277165367,0.13821152038597842,0.13317184992821202,0.12837244844694834,0.12379929127635157,0.11943931471845734,0.11528034100433865,0.1113110097852847,0.10752071553198829,0.10389955028359996,0.10043825124540261,0.09712815278458144,0.09396114241881987,0.09092962043285557,0.08802646279423385,0.0852449870717803,0.08257892108920542,0.08002237407213085,0.07756981007002094,0.07521602345530956,0.07295611632069195,0.07078547761233553,0.0686997638518554,0.06669488131348253,0.064766969535086,0.06291238605273626,0.0611276922584443,0.05940964028969029,0.05775516086746984,0.056161352006921274,0.05462546853123598,0.05314491232556622,0.05171722327309204,0.05034007082035096,0.049011246123419054,0.047728654730604746,0.04649030976102098,0.045294325541767794,0.044138911669524446,0.04302236746514238,0.041943076792376056,0.04089950321421098,0.03989018546236765,0.03891373319749659,0.0379688230393488,0.03705419484782504,0.036168648237288485,0.03531103930788208,0.03448027757883495,0.033675323109882846,0.03289518379797289,0.03213891283738407,0.03140560633227676,0.030694401051495804,0.030004472316197718,0.029335032011558848,0.028685326714453993,0.02805463592957725,0.02744227042701368,0.026847570674766206,0.026269905360198898,0.025708669994780345,0.025163285596900526,0.024633197447895494,0.024117873916747547,0.023616805349237022,0.023129503017608057,0.022655498127074875,0.022194340875740747,0.021745599564729233,0.021308859755538277,0.020883723471823674,0.020469808443000368,0.020066747387218836,0.01967418733143121,0.019291788966407528,0.018919226034698658,0.018556184749668796,0.01820236324383827,0.017857471044887063,0.017521228577771757,0.017193366691504026,0.01687362620922764,0.016561757500313953,0.016257520073273437,0.015960682188353052,0.01567102048875709,0.015388319649492013,0.01511237204289514,0.014842977419962444,0.014579942606641997,0.014323081214308614,0.014072213363680197,0.013827165421478892,0.013587769749180263,0.013353864463230492,0.013125293206147321,0.012901904927952724,0.012683553677416477,0.012470098402618843,0.012261402760367354,0.012057334934028833,0.011857767459361342,0.011662577057953559,0.011471644477900398,0.011284854341363428,0.011102094998683804,0.010923258388732811,0.010748239905202014,0.010576938268550747,0.010409255403343235,0.010245096320721993,0.01008436900577694,0.009926984309582304,0.009772855845685144,0.009621899890840136,0.009474035289795997,0.009329183363948636,0.009187267823685383,0.009048214684253625,0.00891195218499533,0.008778410711796887,0.00864752272261117,0.008519222675915601,0.008393446961976938,0.008270133836799465,0.00814922335863953,0.008030657326974878,0.00791437922382256,0.00780033415730442,0.007688468807363749,0.007578731373541461,0.007471071524724376,0.00736544035078222,0.007261790316014027,0.007160075214328123,0.007060250126083489,0.0069622713765236325,0.006866096495737155,0.006771684180082325,0.006678994255015729,0.006587987639267796,0.0064986263103106465,0.006410873271065998,0.006324692517803395,0.006240049009181042,0.0061569086363837825,0.006075238194314687,0.00599500535379863,0.005916178634758098,0.005838727380323134,0.005762621731839001,0.005687832604736776,0.00561433166523343,0.005542091307829572,0.005471084633574206,0.005401285429067266,0.005332668146171917,0.005265207882409697,0.00519888036201284,0.005133661917609063,0.00506952947251519],\"v\":[8.656170245325123,8.656170245333781,8.65508835928887,8.64752272261117,8.627053938292047,8.587470481481926,8.522998395405569,8.42859809672228,8.300295093212302,8.135498350877613,7.9332526019784915,7.694373551407805,7.42142985346375,7.11856105701791,6.791150530810067,6.445398544552331,6.087855996718263,5.72498032098795,5.3627632589382985,5.006460523616993,4.660432193463237,4.328085122666891,4.011897454531617,3.71350074874894,3.4337959023488986,3.173082934506517,2.931189924345831,2.7075915687625214,2.501512190249259,2.312011283475903,2.1380518683093097,1.9785531989334357,1.8324299955722323,1.6986205347986223,1.5761058325026795,1.4639219085631285,1.3611668199050664,1.2670038415301201,1.1806618921908554,1.101434055901995,1.0286748460712463,0.9617966939259757,0.9002660126970559,0.8435990883280168,0.7913579709356995,0.7431464839743971,0.6986064258529155,0.6574140081517262,0.6192765527903047,0.5839294552977453,0.5511334110312874,0.5206718944561672,0.4923488774532014,0.4659867703129727,0.4414245680544007,0.41851618456383405,0.39712895749201577,0.377142307656578,0.3584465377248153,0.34094175608861227,0.324536913017074,0.3091489373333493,0.2947019629785822,0.2811266358784638,0.26835949250590097,0.2563424024322962,0.24502206797937284,0.234349574825616,0.22427998809012167,0.21477198901681668,0.2057875479189865,0.19729162952327706,0.18925192727922974,0.1816386235801112,0.17442417317815162,0.16758310737679863,0.16109185684831695,0.15492859116075633,0.14907307330732208,0.1435065277165367,0.13821152038597842,0.13317184992821202,0.12837244844694834,0.12379929127635157,0.11943931471845734,0.11528034100433865,0.1113110097852847,0.10752071553198829,0.10389955028359996,0.10043825124540261,0.09712815278458144,0.09396114241881987,0.09092962043285557,0.08802646279423385,0.0852449870717803,0.08257892108920542,0.08002237407213085,0.07756981007002094,0.07521602345530956,0.07295611632069195,0.07078547761233553,0.0686997638518554,0.06669488131348253,0.064766969535086,0.06291238605273626,0.0611276922584443,0.05940964028969029,0.05775516086746984,0.056161352006921274,0.05462546853123598,0.05314491232556622,0.05171722327309204,0.05034007082035096,0.049011246123419054,0.047728654730604746,0.04649030976102098,0.045294325541767794,0.044138911669524446,0.04302236746514238,0.041943076792376056,0.04089950321421098,0.03989018546236765,0.03891373319749659,0.0379688230393488,0.03705419484782504,0.036168648237288485,0.03531103930788208,0.03448027757883495,0.033675323109882846,0.03289518379797289,0.03213891283738407,0.03140560633227676,0.030694401051495804,0.030004472316197718,0.029335032011558848,0.028685326714453993,0.02805463592957725,0.02744227042701368,0.026847570674766206,0.026269905360198898,0.025708669994780345,0.025163285596900526,0.024633197447895494,0.024117873916747547,0.023616805349237022,0.023129503017608057,0.022655498127074875,0.022194340875740747,0.021745599564729233,0.021308859755538277,0.020883723471823674,0.020469808443000368,0.020066747387218836,0.01967418733143121,0.019291788966407528,0.018919226034698658,0.018556184749668796,0.01820236324383827,0.017857471044887063,0.017521228577771757,0.017193366691504026,0.01687362620922764,0.016561757500313953,0.016257520073273437,0.015960682188353052,0.01567102048875709,0.015388319649492013,0.01511237204289514,0.014842977419962444,0.014579942606641997,0.014323081214308614,0.014072213363680197,0.013827165421478892,0.013587769749180263,0.013353864463230492,0.013125293206147321,0.012901904927952724,0.012683553677416477,0.012470098402618843,0.012261402760367354,0.012057334934028833,0.011857767459361342,0.011662577057953559,0.011471644477900398,0.011284854341363428,0.011102094998683804,0.010923258388732811,0.010748239905202014,0.010576938268550747,0.010409255403343235,0.010245096320721993,0.01008436900577694,0.009926984309582304,0.009772855845685144,0.009621899890840136,0.009474035289795997,0.009329183363948636,0.009187267823685383,0.009048214684253625,0.00891195218499533,0.008778410711796887,0.00864752272261117,0.008519222675915601,0.008393446961976938,0.008270133836799465,0.00814922335863953,0.008030657326974878,0.00791437922382256,0.00780033415730442,0.007688468807363749,0.007578731373541461,0.007471071524724376,0.00736544035078222,0.007261790316014027,0.007160075214328123,0.007060250126083489,0.0069622713765236325,0.006866096495737155,0.006771684180082325,0.006678994255015729,0.006587987639267796,0.0064986263103106465,0.006410873271065998,0.006324692517803395,0.006240049009181042,0.0061569086363837825,0.006075238194314687,0.00599500535379863,0.005916178634758098,0.005838727380323134,0.005762621731839001,0.005687832604736776,0.00561433166523343,0.005542091307829572,0.005471084633574206,0.005401285429067266,0.005332668146171917,0.005265207882409697,0.00519888036201284,0.005133661917609063,0.00506952947251519],\"x\":[0.0001,0.0,0.05,0.1,0.15000000000000002,0.2,0.25,0.30000000000000004,0.35000000000000003,0.4,0.45,0.5,0.55,0.6000000000000001,0.65,0.7000000000000001,0.75,0.8,0.8500000000000001,0.9,0.9500000000000001,1.0,1.05,1.1,1.1500000000000001,1.2000000000000002,1.25,1.3,1.35,1.4000000000000001,1.4500000000000002,1.5,1.55,1.6,1.6500000000000001,1.7000000000000002,1.75,1.8,1.85,1.9000000000000001,1.9500000000000002,2.0,2.0500000000000003,2.1,2.15,2.2,2.25,2.3000000000000003,2.35,2.4000000000000004,2.45,2.5,2.5500000000000003,2.6,2.6500000000000004,2.7,2.75,2.8000000000000003,2.85,2.9000000000000004,2.95,3.0,3.0500000000000003,3.1,3.1500000000000004,3.2,3.25,3.3000000000000003,3.35,3.4000000000000004,3.45,3.5,3.5500000000000003,3.6,3.6500000000000004,3.7,3.75,3.8000000000000003,3.85,3.9000000000000004,3.95,4.0,4.05,4.1000000000000005,4.15,4.2,4.25,4.3,4.3500000000000005,4.4,4.45,4.5,4.55,4.6000000000000005,4.65,4.7,4.75,4.800000000000001,4.8500000000000005,4.9,4.95,5.0,5.050000000000001,5.1000000000000005,5.15,5.2,5.25,5.300000000000001,5.3500000000000005,5.4,5.45,5.5,5.550000000000001,5.6000000000000005,5.65,5.7,5.75,5.800000000000001,5.8500000000000005,5.9,5.95,6.0,6.050000000000001,6.1000000000000005,6.15,6.2,6.25,6.300000000000001,6.3500000000000005,6.4,6.45,6.5,6.550000000000001,6.6000000000000005,6.65,6.7,6.75,6.800000000000001,6.8500000000000005,6.9,6.95,7.0,7.050000000000001,7.1000000000000005,7.15,7.2,7.25,7.300000000000001,7.3500000000000005,7.4,7.45,7.5,7.550000000000001,7.6000000000000005,7.65,7.7,7.75,7.800000000000001,7.8500000000000005,7.9,7.95,8.0,8.05,8.1,8.15,8.200000000000001,8.25,8.3,8.35,8.4,8.450000000000001,8.5,8.55,8.6,8.65,8.700000000000001,8.75,8.8,8.85,8.9,8.950000000000001,9.0,9.05,9.1,9.15,9.200000000000001,9.25,9.3,9.35,9.4,9.450000000000001,9.5,9.55,9.600000000000001,9.65,9.700000000000001,9.75,9.8,9.850000000000001,9.9,9.950000000000001,10.0,10.05,10.100000000000001,10.15,10.200000000000001,10.25,10.3,10.350000000000001,10.4,10.450000000000001,10.5,10.55,10.600000000000001,10.65,10.700000000000001,10.75,10.8,10.850000000000001,10.9,10.950000000000001,11.0,11.05,11.100000000000001,11.15,11.200000000000001,11.25,11.3,11.350000000000001,11.4,11.450000000000001,11.5,11.55,11.600000000000001,11.65,11.700000000000001,11.75,11.8,11.850000000000001,11.9,11.950000000000001]}},\"id\":\"f8c91aef-26a2-4108-a76c-d3162555b437\",\"type\":\"ColumnDataSource\"},{\"attributes\":{\"overlay\":{\"id\":\"f32dd8da-2559-445e-a9d3-393fe1da69ce\",\"type\":\"BoxAnnotation\"},\"plot\":{\"id\":\"be75834d-8665-4a42-bb88-87785cdb714d\",\"subtype\":\"Figure\",\"type\":\"Plot\"}},\"id\":\"006634ed-6b7d-4c19-b511-b90160fbdf54\",\"type\":\"BoxZoomTool\"},{\"attributes\":{\"line_alpha\":{\"value\":0.1},\"line_color\":{\"value\":\"#1f77b4\"},\"line_width\":{\"value\":3},\"x\":{\"field\":\"x\"},\"y\":{\"field\":\"u\"}},\"id\":\"860e4894-8798-4c1a-87cf-1ad66ecb942b\",\"type\":\"Line\"},{\"attributes\":{\"formatter\":{\"id\":\"170dd388-668a-41ea-aa72-5ee4389887f7\",\"type\":\"BasicTickFormatter\"},\"plot\":{\"id\":\"be75834d-8665-4a42-bb88-87785cdb714d\",\"subtype\":\"Figure\",\"type\":\"Plot\"},\"ticker\":{\"id\":\"da71fecd-f955-4471-b14a-deb2942bb6b0\",\"type\":\"BasicTicker\"}},\"id\":\"fc3103dc-cb17-4dca-b74b-3d771f5d9906\",\"type\":\"LinearAxis\"},{\"attributes\":{\"bottom_units\":\"screen\",\"fill_alpha\":{\"value\":0.5},\"fill_color\":{\"value\":\"lightgrey\"},\"left_units\":\"screen\",\"level\":\"overlay\",\"line_alpha\":{\"value\":1.0},\"line_color\":{\"value\":\"black\"},\"line_dash\":[4,4],\"line_width\":{\"value\":2},\"plot\":null,\"render_mode\":\"css\",\"right_units\":\"screen\",\"top_units\":\"screen\"},\"id\":\"f32dd8da-2559-445e-a9d3-393fe1da69ce\",\"type\":\"BoxAnnotation\"}],\"root_ids\":[\"be75834d-8665-4a42-bb88-87785cdb714d\"]},\"title\":\"Bokeh Application\",\"version\":\"0.12.3\"}};\n            var render_items = [{\"docid\":\"cc4a20fd-e8f2-4744-a6f1-f68efcd4d647\",\"elementid\":\"da3d5b76-4c03-4691-8ecc-367406d13646\",\"modelid\":\"be75834d-8665-4a42-bb88-87785cdb714d\"}];\n            \n            Bokeh.embed.embed_items(docs_json, render_items);\n        });\n      },\n      function(Bokeh) {\n      }\n    ];\n  \n    function run_inline_js() {\n      \n      if ((window.Bokeh !== undefined) || (force === \"1\")) {\n        for (var i = 0; i < inline_js.length; i++) {\n          inline_js[i](window.Bokeh);\n        }if (force === \"1\") {\n          display_loaded();\n        }} else if (Date.now() < window._bokeh_timeout) {\n        setTimeout(run_inline_js, 100);\n      } else if (!window._bokeh_failed_load) {\n        console.log(\"Bokeh: BokehJS failed to load within specified timeout.\");\n        window._bokeh_failed_load = true;\n      } else if (!force) {\n        var cell = $(\"#da3d5b76-4c03-4691-8ecc-367406d13646\").parents('.cell').data().cell;\n        cell.output_area.append_execute_result(NB_LOAD_WARNING)\n      }\n  \n    }\n  \n    if (window._bokeh_is_loading === 0) {\n      console.log(\"Bokeh: BokehJS loaded, going straight to plotting\");\n      run_inline_js();\n    } else {\n      load_libs(js_urls, function() {\n        console.log(\"Bokeh: BokehJS plotting callback run at\", now());\n        run_inline_js();\n      });\n    }\n  }(this));\n</script>"
          },
          "metadata": {},
          "output_type": "display_data"
         }
        ],
        "source": "output_notebook()\ndef plot_stability(a1_val=.1, a2_val=.1, div_time=60):\n    lf_ustable = lambdify(v, ustable.subs([(a1, a1_val), (gamma, ln(2)/div_time), (b1, 3)]))\n    lf_vstable = lambdify(u, vstable.subs([(a2, a2_val), (gamma, ln(2)/div_time), (b2, 3)]))\n    x_range = np.arange(0, 12, .05)\n    x_range = np.hstack((.0001, x_range))\n    source = ColumnDataSource(data=dict(x=x_range, u=lf_ustable(x_range), v=lf_vstable(x_range)))\n    plt = Figure(plot_width=400, plot_height=400)\n    plt.line('x', 'u', source=source, line_width=3, line_alpha=0.6, line_color=\"blue\")\n    plt.line('v', 'x', source=source, line_width=3, line_alpha=0.6, line_color=\"green\")\n    show(plt)\ninteract(plot_stability, a1_val=(.001, .6, .01), a2_val=(.001, .6, .01), div_time=(20, 120, 5), __manual=True)\nplot_stability()"
       },
       "cell_index": 7,
       "root": true
      }
     ]
    },
    "48c4659623454b47b7b0ef13c16a257e": {
     "views": []
    },
    "48fbab70a7a64ffc814392d93accda1c": {
     "views": []
    },
    "49d27f2214874073a5ddd34197993ad2": {
     "views": []
    },
    "49f3582170ec4f9aa201b8293ffba57e": {
     "views": []
    },
    "4ac5396a48ca4ccc811369b1cc319c53": {
     "views": []
    },
    "4bac2b3c7837496e88d7b9c7f437d40b": {
     "views": []
    },
    "4c90137887134a3ca8e60e8dee3731af": {
     "views": []
    },
    "4e49d028d1404c2a885ffd33fd81a224": {
     "views": []
    },
    "4e69b3452d914d0083e5993c405702b7": {
     "views": []
    },
    "4ee0ac3e16f044bfaa158ba5b9702d51": {
     "views": []
    },
    "4fd75d84f1c5498bb77cefbffc9777c8": {
     "views": []
    },
    "500615ea872e4fed9fcce4f9ead5f95e": {
     "views": []
    },
    "5097123234994fae8891d8df87a2f440": {
     "views": []
    },
    "51656be2651e4417be1da4c6775abefa": {
     "views": []
    },
    "52ac253a3932449e94ea70a4aa7acc96": {
     "views": []
    },
    "5333637cbdb640839d5de4fb5946ca3d": {
     "views": []
    },
    "54d909ae2c9f4d04b0d18013f48e12ea": {
     "views": []
    },
    "56089daacb5c419b828a12cbb4c63f11": {
     "views": []
    },
    "56d61a87127c48748eb559e3fbaa1110": {
     "views": []
    },
    "56d6cef0c75e43dab7fd1e51c80ccf17": {
     "views": []
    },
    "56fcbcbaef7e4991ad2b1399913aefbe": {
     "views": []
    },
    "57deec01c6f34c3b856e102ddb847d3d": {
     "views": []
    },
    "5877114806624fbba2f0e53b80b9c558": {
     "views": []
    },
    "58baaa3f914245b6a0da973cf40a88b0": {
     "views": []
    },
    "58cf9cb818684282897ee162b3890e29": {
     "views": []
    },
    "58f992cefcb44cdbaf79ca458ce354d2": {
     "views": []
    },
    "5908d7e072714e9e81a6a7aef5e48dbc": {
     "views": []
    },
    "591373f0aae74787995f56ba13a32f80": {
     "views": []
    },
    "591f0f3e23d94312af1411066a843bfb": {
     "views": []
    },
    "5b0ef417973644dc8790083ad636d9a6": {
     "views": []
    },
    "5b6dcc5a6b3549fb9ea7534b8bb28d0e": {
     "views": []
    },
    "5b802ebd244144bc8615f0624cfcdfe7": {
     "views": []
    },
    "5ba6612b6c204561bb97004bdb3977bf": {
     "views": []
    },
    "5bb21358253247cbba392942d7091826": {
     "views": []
    },
    "5c21ab7407df4850b94a5200c8df7459": {
     "views": []
    },
    "60cb347971d246e293191df71eefa5ea": {
     "views": []
    },
    "61f5d5acf022468f9760a6458a1332f0": {
     "views": []
    },
    "647e085444ec43ad8dea8edfc9fda1a3": {
     "views": []
    },
    "655146af52784fbb84f5ab67c1b6eb1e": {
     "views": []
    },
    "663b62b22e7a4f9e86f131ea50be675d": {
     "views": []
    },
    "665804285eb14d3f959f6a99fd921546": {
     "views": []
    },
    "676f337e7616438f9c3b94d81342ec22": {
     "views": []
    },
    "68502f082d814ceea68dc13c62d3b926": {
     "views": []
    },
    "6949f08191cb466eb41339a3be1f0111": {
     "views": []
    },
    "69948ad26c9b4873a0f7f1d6332f21e4": {
     "views": []
    },
    "69ef8e13f45140cba314c1a83da6199d": {
     "views": []
    },
    "6a3b4cf103e24d3c9b6420d585d8da07": {
     "views": []
    },
    "6a51ef19d9474308a9e403ddf0618f06": {
     "views": []
    },
    "6acd4fc089384504b96b9bd623bd31ff": {
     "views": []
    },
    "6aeffce529e64d8681f04bc90a819860": {
     "views": []
    },
    "6b0ab99c0a5643c18beb691eb7b721d0": {
     "views": []
    },
    "6b1572690a8e4fbdbe6619468ff3216c": {
     "views": []
    },
    "6c5c4a4778394a428f7d3cf96e0b50c9": {
     "views": []
    },
    "6c5e24fb2043429f9e74b439fd541fc2": {
     "views": []
    },
    "6c707761485446e499ecc8dab2526dff": {
     "views": []
    },
    "6c8573f5a8094c6286a7ae7193fa7dee": {
     "views": []
    },
    "6c88debe130d444094b85f52cc298ed7": {
     "views": []
    },
    "6ccb58d4818e49f8a942b84cf7688807": {
     "views": []
    },
    "6d9aa1c79fc247bdabc9e470e0d3eb09": {
     "views": []
    },
    "6e775cd660774b6cb8c9e3c90ec0092b": {
     "views": []
    },
    "6ee72a76a90b419f92c58e4a1888c938": {
     "views": []
    },
    "6f0d174d121a4ee68a582d019f3d5afd": {
     "views": []
    },
    "6f63ca77b8634a4ca27d88d0ce0b98b5": {
     "views": []
    },
    "6fd2926110df4bf69da22145923b970a": {
     "views": []
    },
    "721fba2c95c74b3e8185f414df67152e": {
     "views": []
    },
    "7269c895c25d4714a61204f4068a93ed": {
     "views": []
    },
    "732763ff9d154a999430b10bf55645ce": {
     "views": []
    },
    "7353c3cde7ff4a1da78cae32265d6f73": {
     "views": []
    },
    "73e2ab4ba8f547559647442cd9ad748e": {
     "views": []
    },
    "740f67245af84be7ac17c7c7525f9596": {
     "views": []
    },
    "7430b06f9c1942af9f033bd68d723484": {
     "views": []
    },
    "743e04df36ed4edbbce11e2b9b934432": {
     "views": []
    },
    "7444eb51f4724c71844283c1f2e0b20f": {
     "views": []
    },
    "7529145819934c4d893b215696de7d98": {
     "views": []
    },
    "75d64ae0e80446858e7e88c2252e9913": {
     "views": []
    },
    "75dbd5a7764d4974b56463e0321561f6": {
     "views": []
    },
    "768941602feb46c58b28e6132f81eb76": {
     "views": []
    },
    "76bbf10b08814b289448f8e433a0f33a": {
     "views": []
    },
    "7844f6f2654349ed837c9bbaa22c10be": {
     "views": []
    },
    "788237058b0345cf801db1adba3c8ff7": {
     "views": []
    },
    "7a28b883e5fa4d86b3fe47b8e1ed9150": {
     "views": []
    },
    "7a433b2c842f4f828d8722933b9bd11f": {
     "views": []
    },
    "7c0756ec776b4799b6aeef73b0296687": {
     "views": []
    },
    "7eb1411c24b9473282e218bb118e3b99": {
     "views": []
    },
    "7ec3a431c46048c9838063fc394ea1b9": {
     "views": []
    },
    "7f3a4936736849aa95e0ab2acdbe9239": {
     "views": []
    },
    "7f632d3d46114f25a5916652f6c08c61": {
     "views": []
    },
    "7fa378157b124498939afaeb2b15829c": {
     "views": []
    },
    "7fc2e465713942779c7a32df648859ed": {
     "views": []
    },
    "8008c085fc084004ab8d2cddddc76032": {
     "views": []
    },
    "809cf0cb1f8e45609617663b7a41b30f": {
     "views": []
    },
    "80e40f5846d5482eb0e60de77c61c1f8": {
     "views": []
    },
    "80e827e972a54565a15ad1bbd99b4336": {
     "views": []
    },
    "80f81c1ed377412b856d2654149612ba": {
     "views": []
    },
    "826f3ced48fa42c48b17ff0faf50a320": {
     "views": []
    },
    "830e3fd87be54554a91f07d2c0cb8c00": {
     "views": []
    },
    "85605b28f5db4f4b968618c086c27aa7": {
     "views": []
    },
    "860537aaf92c4799ae0288e0a3123809": {
     "views": []
    },
    "8795bce5800c4d51819eaaafd246abb9": {
     "views": []
    },
    "87e6fee972624556910dd9a491cd7602": {
     "views": []
    },
    "87eeb0e7add040fd81bda56661bfced8": {
     "views": []
    },
    "88fe6af238524287b0229b3f3d19ce4a": {
     "views": []
    },
    "89692bee57be4e3f88e7a5da0182f6c3": {
     "views": []
    },
    "89ab0be9dd88434097d44b343577908a": {
     "views": []
    },
    "89f71ba400e0431a9298bf23556d65a9": {
     "views": []
    },
    "8a78ceab7b714e13b82ba56d2c657405": {
     "views": []
    },
    "8b2cf0efc0594767b9588dab764ad370": {
     "views": []
    },
    "8b56864b6a7447e3acf9ac3fc63990c5": {
     "views": []
    },
    "8b9d0d9bee6643e18e28acdad1acb0a9": {
     "views": []
    },
    "8e62867a328443e7964215bd642d0663": {
     "views": []
    },
    "8f99090453d9472aab22bbe220140511": {
     "views": []
    },
    "9157d76d38894c268b13a41499523415": {
     "views": []
    },
    "915a906033e0432bbd3f3f2e0170e020": {
     "views": []
    },
    "91d0af3a42b542efb1a74c6430edce5c": {
     "views": []
    },
    "94db7a1d319a4aceb41890311757c122": {
     "views": []
    },
    "95731f77d56c4ef3b92f9a5774647b55": {
     "views": []
    },
    "95a2a0801557453ba660bc6858fda63f": {
     "views": []
    },
    "9605de1516bf4774a69004043ac378aa": {
     "views": []
    },
    "974a24acfe0a4d3c87f2db737c6ac726": {
     "views": []
    },
    "975db046165746a0a81da9fb87ca380b": {
     "views": []
    },
    "97c3b4c2c52641a5ba29aabcca7e0ee0": {
     "views": []
    },
    "9818b95ba31c4fe79596bec8a2450bd2": {
     "views": []
    },
    "99ded991408b45ce948bb382a9ee9db0": {
     "views": []
    },
    "9a0cc2eae60a4bf2aa2e4e6214d4265b": {
     "views": []
    },
    "9aa8d919e0d8477b91dc2df9cb2461ec": {
     "views": []
    },
    "9abb2b7414d74de397824f518c1c588e": {
     "views": []
    },
    "9b7c751197cd4745879b714f2ef466ac": {
     "views": []
    },
    "9c1091c75b744ee8b2ca5d5d1357f78d": {
     "views": []
    },
    "9c4d1aec3f15465fb9fbc2c109a8eddc": {
     "views": []
    },
    "9cd0dc09dbe641d98d296030a4ac5cde": {
     "views": []
    },
    "9e46e5a7233443ddabb26aacca5b38d7": {
     "views": []
    },
    "9ed265e3f31140b59e8be584f1b4cc7f": {
     "views": []
    },
    "9ef8b28023244a4ab7559c2d54ab37f4": {
     "views": []
    },
    "9f11ebd903834ec68e6c2743c22acebb": {
     "views": []
    },
    "9ffa96d42ba34590aef8abfaf011a62a": {
     "views": []
    },
    "a124b04522cf432caf7ac26860d2e0e4": {
     "views": []
    },
    "a256cfb688b0423390914022e7228b6b": {
     "views": []
    },
    "a388cc29d85642d2be716ee970e67076": {
     "views": []
    },
    "a455b7df8e7443c8babfe025e9b099fe": {
     "views": []
    },
    "a4a1b700d19b47f08a8f71c948921e74": {
     "views": []
    },
    "a4b24af5713f434b8a5accec150266f8": {
     "views": []
    },
    "a4b99614910145a88ff489a0473c0a15": {
     "views": []
    },
    "a4ce7248873f4c5bb9d4405960120048": {
     "views": []
    },
    "a56e5501a9214cb097e6a2055b7b4509": {
     "views": []
    },
    "a5c9d6e043f4416bb7afffaf01c3ac12": {
     "views": []
    },
    "a6066861f32e4d0bb05389200a26fd92": {
     "views": []
    },
    "a61d1758855c436e8c8e9f65d5de9379": {
     "views": []
    },
    "a65042fa418243fab41fe30c07995015": {
     "views": []
    },
    "a6b520e1bac94b9aa534fc2394fde2b6": {
     "views": []
    },
    "a78437e00b41489ea1d278040911602e": {
     "views": []
    },
    "a7f571dfa93e4e2a947c370699fb3f1d": {
     "views": []
    },
    "a81061cb338f45a5aad357dfb2faa55b": {
     "views": []
    },
    "a870b37cbea0401abf03d235cb40ff35": {
     "views": []
    },
    "a913d7bf55a94f16881d5a3bb9d01ed3": {
     "views": []
    },
    "a91de02c9bd348c8bed097db14741552": {
     "views": []
    },
    "a9560cdb29d4492a8533bc5d7c36e9bf": {
     "views": []
    },
    "ac0cc5e2298f415f86550ab25ac3c840": {
     "views": []
    },
    "acd427231615411e8b49dbc4c549d817": {
     "views": []
    },
    "ad04d6442c74407cae6483ee101267c4": {
     "views": []
    },
    "ad3baf85ac8b4a21b2a458510d426431": {
     "views": []
    },
    "ad6f7b32956549049f806bb19d107a5a": {
     "views": []
    },
    "ae43ead883af4e359b6f37e2360a0b10": {
     "views": []
    },
    "af7fceffd01344cd8a4fe5d0ae063024": {
     "views": [
      {
       "cell": {
        "cell_type": "code",
        "execution_count": 23,
        "metadata": {
         "collapsed": false,
         "trusted": true
        },
        "outputs": [
         {
          "data": {
           "text/html": "\n\n    <div class=\"bk-root\">\n        <div class=\"plotdiv\" id=\"91872063-7eab-45f7-ad36-089d085f9330\"></div>\n    </div>\n<script type=\"text/javascript\">\n  \n  (function(global) {\n    function now() {\n      return new Date();\n    }\n  \n    var force = \"\";\n  \n    if (typeof (window._bokeh_onload_callbacks) === \"undefined\" || force !== \"\") {\n      window._bokeh_onload_callbacks = [];\n      window._bokeh_is_loading = undefined;\n    }\n  \n  \n    \n    if (typeof (window._bokeh_timeout) === \"undefined\" || force !== \"\") {\n      window._bokeh_timeout = Date.now() + 0;\n      window._bokeh_failed_load = false;\n    }\n  \n    var NB_LOAD_WARNING = {'data': {'text/html':\n       \"<div style='background-color: #fdd'>\\n\"+\n       \"<p>\\n\"+\n       \"BokehJS does not appear to have successfully loaded. If loading BokehJS from CDN, this \\n\"+\n       \"may be due to a slow or bad network connection. Possible fixes:\\n\"+\n       \"</p>\\n\"+\n       \"<ul>\\n\"+\n       \"<li>re-rerun `output_notebook()` to attempt to load from CDN again, or</li>\\n\"+\n       \"<li>use INLINE resources instead, as so:</li>\\n\"+\n       \"</ul>\\n\"+\n       \"<code>\\n\"+\n       \"from bokeh.resources import INLINE\\n\"+\n       \"output_notebook(resources=INLINE)\\n\"+\n       \"</code>\\n\"+\n       \"</div>\"}};\n  \n    function display_loaded() {\n      if (window.Bokeh !== undefined) {\n        Bokeh.$(\"#91872063-7eab-45f7-ad36-089d085f9330\").text(\"BokehJS successfully loaded.\");\n      } else if (Date.now() < window._bokeh_timeout) {\n        setTimeout(display_loaded, 100)\n      }\n    }\n  \n    function run_callbacks() {\n      window._bokeh_onload_callbacks.forEach(function(callback) { callback() });\n      delete window._bokeh_onload_callbacks\n      console.info(\"Bokeh: all callbacks have finished\");\n    }\n  \n    function load_libs(js_urls, callback) {\n      window._bokeh_onload_callbacks.push(callback);\n      if (window._bokeh_is_loading > 0) {\n        console.log(\"Bokeh: BokehJS is being loaded, scheduling callback at\", now());\n        return null;\n      }\n      if (js_urls == null || js_urls.length === 0) {\n        run_callbacks();\n        return null;\n      }\n      console.log(\"Bokeh: BokehJS not loaded, scheduling load and callback at\", now());\n      window._bokeh_is_loading = js_urls.length;\n      for (var i = 0; i < js_urls.length; i++) {\n        var url = js_urls[i];\n        var s = document.createElement('script');\n        s.src = url;\n        s.async = false;\n        s.onreadystatechange = s.onload = function() {\n          window._bokeh_is_loading--;\n          if (window._bokeh_is_loading === 0) {\n            console.log(\"Bokeh: all BokehJS libraries loaded\");\n            run_callbacks()\n          }\n        };\n        s.onerror = function() {\n          console.warn(\"failed to load library \" + url);\n        };\n        console.log(\"Bokeh: injecting script tag for BokehJS library: \", url);\n        document.getElementsByTagName(\"head\")[0].appendChild(s);\n      }\n    };var element = document.getElementById(\"91872063-7eab-45f7-ad36-089d085f9330\");\n    if (element == null) {\n      console.log(\"Bokeh: ERROR: autoload.js configured with elementid '91872063-7eab-45f7-ad36-089d085f9330' but no matching script tag was found. \")\n      return false;\n    }\n  \n    var js_urls = [];\n  \n    var inline_js = [\n      function(Bokeh) {\n        Bokeh.$(function() {\n            var docs_json = {\"03976be2-212d-4bea-8768-f6e317f29f6d\":{\"roots\":{\"references\":[{\"attributes\":{\"callback\":null,\"column_names\":[\"v\",\"u\",\"x\"],\"data\":{\"u\":[17.31234031754416,17.312340490667562,17.269167571738215,17.140931178878773,16.931384342951162,16.6464812410265,16.293967520628293,15.882881184098679,15.42302048166375,14.924431457472034,14.396956748995892,13.84987239253405,13.291624177096017,12.729662125490853,12.170362383597581,11.619020463535275,11.079897914027239,10.556305177236316,10.050705654959396,9.564829000368817,9.099784751993461,8.656170245333781,8.234169079984571,7.833638231071294,7.454183203731995,7.0952215125686715,6.756035313431243,6.435814308798349,6.133690164984078,5.848763679279581,5.580125863228867,5.326873997128481,5.088123582856006,4.86301699176055,4.650729480367376,4.4504731338477015,4.2614991977027845,4.0830991723272545,3.914604972451681,3.7553883927695355,3.6048600709354632,3.4624680981335123,3.327696394169641,3.2000629372768135,3.079117917415307,2.9644418648403352,2.8556437922750617,2.752359378484509,2.654249212827529,2.5609971140040764,2.4723085313341744,2.3879090331955255,2.307542884460854,2.230971712714892,2.1579732615353766,2.0883402280660506,2.021879181391832,1.9584095577678233,1.8977627284919223,1.8397811360964462,1.7843174945289937,1.7312340490667562,1.680401891838637,1.631700328997885,1.585016295780962,1.5402438158956901,1.4972835018955728,1.4560420934119058,1.4164320303266567,1.3783710581741686,1.3417818632565441,1.3065917351447216,1.2727322544140827,1.2401390036294815,1.2087512997498733,1.1785119462673628,1.1493670035297967,1.1212655758204377,1.0941596138832397,1.0680037316883133,1.042755036329924,1.0183729700392683,0.9948191633769609,0.9720572987460727,0.950052983436277,0.9287736314735816,0.9081883536087901,0.8882678548315835,0.8689843388464078,0.8503114189915304,0.8322240351240264,0.8146983760314147,0.7977118069654447,0.7812428019254313,0.7652708803477759,0.7497765478851259,0.7347412409832388,0.7201472749861713,0.7059777955211565,0.6922167329335289,0.6788487595595553,0.6658592496410601,0.6532342417005021,0.6409604032087212,0.6290249973900466,0.6174158520209544,0.6061213300890175,0.5951303021886407,0.5844321205390348,0.5740165945181551,0.5638739676139586,0.553994895701362,0.5443704265597848,0.5349919805521495,0.5258513323917552,0.5169405939285625,0.5082521978911577,0.49977888252504493,0.49151367707197274,0.4834498880387479,0.4755810862074737,0.46790109434236654,0.4604039755512947,0.4530840222629562,0.4459357457831814,0.4389538663962363,0.4321333039792215,0.4254691690997187,0.41895675456875936,0.41259152742296373,0.40636912131136815,0.40028532926398985,0.39433609682062654,0.3885175154997208,0.38282581658836995,0.37725736523572806,0.37180865483312886,0.36647630166527434,0.3612570398177799,0.3561477163272487,0.3511452865608754,0.3462468098133512,0.3414494451095618,0.3367504472022478,0.33214716275442585,0.32763702669696365,0.3232175587522532,0.3188863601154459,0.3146411102852026,0.31047956403636223,0.3063995485273671,0.30239896053567794,0.29847576381479346,0.2946279865668407,0.29085371902503354,0.28715111114061304,0.28351837036917193,0.2799537595515453,0.2764555948847069,0.2730222439783561,0.2696521239931087,0.26634369985642403,0.2630954825526015,0.2599060274833743,0.2567739328958072,0.25369783837437804,0.2506764233942814,0.24770840593314575,0.24479254113849994,0.2419276200484567,0.23911246836321337,0.23634594526508615,0.2336269422849102,0.23095438221274764,0.22832721805094214,0.22574443200766148,0.2232050345291547,0.22070806336904078,0.2182525826930261,0.2158376822175235,0.21346247638072263,0.21112610354472636,0.20882772522743653,0.20656652536293477,0.20434170958915943,0.2021525045617417,0.19999815729291046,0.1978779345144309,0.19579112206358745,0.19373702429126632,0.19171496349123843,0.18972427934978148,0.18776432841482127,0.18583448358380802,0.1839341336095786,0.18206268262348888,0.18021954967513404,0.17840416828800038,0.17661598603042727,0.17485446410127825,0.1731190769297523,0.1714093117887877,0.16972466842153436,0.16806465868039563,0.16642880617815917,0.1648166459507574,0.1632277241312204,0.16166159763439686,0.16011783385204334,0.15859601035789261,0.15709571462233213,0.15561654373633763,0.15415810414432055,0.1527200113855642,0.1513018898439342,0.14990337250556376,0.14852410072422573,0.1471637239941139,0.1458218997297695,0.14449829305289674,0.1431925765858238,0.14190443025137345,0.14063354107891843,0.13937960301640412,0.1381423167481303,0.13692138951809205,0.1357165349586874,0.13452747292460612,0.1333539293317226,0.13219563600082132,0.13105233050599013,0.12992375602752393,0.12880966120918555,0.12770980001967805,0.1266239316181869,0.12555182022385641,0.1244932349890701,0.12344794987640872,0.12241574353916496,0.12139639920529809,0.1203897045647159],\"v\":[8.655304714862295,8.656170245333781,8.243971662222648,7.869245677576164,7.527104561159811,7.213475204444817,6.924936196267025,6.6585924964106,6.411977959506504,6.182978746666986,5.969772582988814,5.770780163555854,5.5846259647314715,5.4101064033336135,5.2461637850507765,5.091864850196341,4.946382997333589,4.8089834696298785,4.679010943423665,4.555879076491464,4.439061664273733,4.328085122666891,4.222522070894528,4.121985831111324,4.026125695504083,3.934622838788082,3.8471867757039027,3.7635522805799053,3.6834767001420343,3.6067376022224082,3.533130712381135,3.4624680981335123,3.3945765667975616,3.3292962482053,3.2664793378618033,3.205988979753252,3.1476982710304657,3.091489373333493,3.0372527176609756,2.9848862914944068,2.9342949984182303,2.885390081777927,2.8380886050274685,2.7923129823657358,2.7479905540742164,2.7050532016668067,2.6634369985642405,2.623081892525388,2.5839314165175464,2.5459324250981705,2.5090348537199363,2.4731914986667944,2.43835781558698,2.4044917348149393,2.3715534918722683,2.3395054717118327,2.3083120654223417,2.277939538245732,2.248355907878904,2.2195308321368663,2.1914355051477927,2.1640425613334453,2.1373259865021677,2.111261035447264,2.0858241555021153,2.060992915555662,2.0367459400785366,2.0130628477520416,1.989924194329605,1.967311419394041,1.9452067967042204,1.9235933878519513,1.902454998974457,1.8817761402899527,1.8615419882438238,1.8417383500710172,1.8223516305965854,1.8033688011112041,1.7847773701719138,1.7665653561905674,1.748721261683592,1.7312340490667562,1.7140931178878775,1.6972882833987804,1.6808097563754913,1.66464812410265,1.6487943324445296,1.633239668930902,1.617975746791361,1.602994489876626,1.588288118409868,1.5738491355152329,1.5596703144745552,1.5457446866667466,1.5320655301475716,1.5186263588304878,1.5054209122319617,1.4924431457472034,1.4796872214245778,1.4671474992091151,1.4548185286275261,1.4426950408889636,1.4307719413774844,1.4190443025137343,1.4075073569648424,1.3961564911828679,1.3849872392534048,1.3739952770371078,1.363176416587997,1.3525266008334034,1.3420418985013614,1.3317184992821203,1.3215527092112642,1.311540946262694,1.301679736140418,1.2919657082587732,1.2823955919013008,1.2729662125490853,1.263674488369895,1.2545174268599681,1.2454921216307597,1.2365957493333972,1.2278255667140114,1.21917890779349,1.2106531811655636,1.2022458674074696,1.1939545165977627,1.1857767459361341,1.1777102374603783,1.1697527358559163,1.1619020463535275,1.1541560327111708,1.1465126152759975,1.138969769122866,1.1315255222658536,1.124177953939452,1.1169251929462942,1.1097654160684332,1.102696846539335,1.0957177525738964,1.0888264459539345,1.0820212806667227,1.0753006515942585,1.0686629932510838,1.062106778568562,1.055630517723632,1.0492327570101554,1.0429120777510577,1.0366670952495542,1.030496457777831,1.0243988456016309,1.0183729700392683,1.0124175725536584,1.0065314238760208,1.0007133231599745,0.9949620971648026,0.9892765994667179,0.9836557096970205,0.9780983328060767,0.9726033983521102,0.9671698598138303,0.9617966939259757,0.9564829000368817,0.9512274994872286,0.9460295350091563,0.940888070144976,0.9358021886847331,0.9307709941219119,0.9257936091266076,0.9208691750355086,0.915996851358072,0.9111758152982927,0.9064052612914952,0.9016844005556022,0.8970124606563502,0.8923886850859566,0.8878123328547468,0.8832826780952837,0.8787990096785564,0.874360630841796,0.8699668588275156,0.8656170245333781,0.8613104721725154,0.8570465589439388,0.8528246547126876,0.8486441416993902,0.8445044141789054,0.8404048781877457,0.8363449512399789,0.832324062051325,0.8283416502711751,0.8243971662222648,0.8204900706477517,0.8166198344654508,0.8127859385289935,0.8089878733956805,0.8052251391008168,0.801497244938313,0.797803709247353,0.794144059204934,0.7905178306240895,0.7869245677576164,0.7833638231071294,0.7798351572372774,0.7763381385949579,0.7728723433333733,0.7694373551407805,0.7660327650737858,0.7626581713950467,0.7593131794152439,0.7559974013391948,0.7527104561159809,0.749451969292968,0.7462215728736017,0.7430189051788653,0.7398436107122889,0.7366953400284068,0.7335737496045576,0.7304785017159308,0.7274092643137631,0.7243657109065924,0.7213475204444818,0.7183543772061228,0.7153859706887422,0.7124419955007226,0.7095221512568671,0.706626142476227,0.7037536784824212,0.700904473306379,0.6980782455914339,0.6952747185007053,0.6924936196267024,0.68973468090309,0.6869976385185539,0.68428223283271,0.6815882082939985,0.6789153133595123,0.6762633004167017,0.6736319257069089,0.6710209492506807,0.6684301347748093],\"x\":[0.0001,0.0,0.05,0.1,0.15000000000000002,0.2,0.25,0.30000000000000004,0.35000000000000003,0.4,0.45,0.5,0.55,0.6000000000000001,0.65,0.7000000000000001,0.75,0.8,0.8500000000000001,0.9,0.9500000000000001,1.0,1.05,1.1,1.1500000000000001,1.2000000000000002,1.25,1.3,1.35,1.4000000000000001,1.4500000000000002,1.5,1.55,1.6,1.6500000000000001,1.7000000000000002,1.75,1.8,1.85,1.9000000000000001,1.9500000000000002,2.0,2.0500000000000003,2.1,2.15,2.2,2.25,2.3000000000000003,2.35,2.4000000000000004,2.45,2.5,2.5500000000000003,2.6,2.6500000000000004,2.7,2.75,2.8000000000000003,2.85,2.9000000000000004,2.95,3.0,3.0500000000000003,3.1,3.1500000000000004,3.2,3.25,3.3000000000000003,3.35,3.4000000000000004,3.45,3.5,3.5500000000000003,3.6,3.6500000000000004,3.7,3.75,3.8000000000000003,3.85,3.9000000000000004,3.95,4.0,4.05,4.1000000000000005,4.15,4.2,4.25,4.3,4.3500000000000005,4.4,4.45,4.5,4.55,4.6000000000000005,4.65,4.7,4.75,4.800000000000001,4.8500000000000005,4.9,4.95,5.0,5.050000000000001,5.1000000000000005,5.15,5.2,5.25,5.300000000000001,5.3500000000000005,5.4,5.45,5.5,5.550000000000001,5.6000000000000005,5.65,5.7,5.75,5.800000000000001,5.8500000000000005,5.9,5.95,6.0,6.050000000000001,6.1000000000000005,6.15,6.2,6.25,6.300000000000001,6.3500000000000005,6.4,6.45,6.5,6.550000000000001,6.6000000000000005,6.65,6.7,6.75,6.800000000000001,6.8500000000000005,6.9,6.95,7.0,7.050000000000001,7.1000000000000005,7.15,7.2,7.25,7.300000000000001,7.3500000000000005,7.4,7.45,7.5,7.550000000000001,7.6000000000000005,7.65,7.7,7.75,7.800000000000001,7.8500000000000005,7.9,7.95,8.0,8.05,8.1,8.15,8.200000000000001,8.25,8.3,8.35,8.4,8.450000000000001,8.5,8.55,8.6,8.65,8.700000000000001,8.75,8.8,8.85,8.9,8.950000000000001,9.0,9.05,9.1,9.15,9.200000000000001,9.25,9.3,9.35,9.4,9.450000000000001,9.5,9.55,9.600000000000001,9.65,9.700000000000001,9.75,9.8,9.850000000000001,9.9,9.950000000000001,10.0,10.05,10.100000000000001,10.15,10.200000000000001,10.25,10.3,10.350000000000001,10.4,10.450000000000001,10.5,10.55,10.600000000000001,10.65,10.700000000000001,10.75,10.8,10.850000000000001,10.9,10.950000000000001,11.0,11.05,11.100000000000001,11.15,11.200000000000001,11.25,11.3,11.350000000000001,11.4,11.450000000000001,11.5,11.55,11.600000000000001,11.65,11.700000000000001,11.75,11.8,11.850000000000001,11.9,11.950000000000001]}},\"id\":\"4c10a51d-e5cd-4cf8-8b7c-99258f0341b0\",\"type\":\"ColumnDataSource\"},{\"attributes\":{\"bottom_units\":\"screen\",\"fill_alpha\":{\"value\":0.5},\"fill_color\":{\"value\":\"lightgrey\"},\"left_units\":\"screen\",\"level\":\"overlay\",\"line_alpha\":{\"value\":1.0},\"line_color\":{\"value\":\"black\"},\"line_dash\":[4,4],\"line_width\":{\"value\":2},\"plot\":null,\"render_mode\":\"css\",\"right_units\":\"screen\",\"top_units\":\"screen\"},\"id\":\"e0efa9a5-3510-41e6-8cfa-c6d83e65332c\",\"type\":\"BoxAnnotation\"},{\"attributes\":{\"below\":[{\"id\":\"aecb7b79-1b08-4e09-9d33-982f3a243b66\",\"type\":\"LinearAxis\"}],\"left\":[{\"id\":\"eea8cd96-7332-4edd-a44c-2419184194a3\",\"type\":\"LinearAxis\"}],\"plot_height\":400,\"plot_width\":800,\"renderers\":[{\"id\":\"aecb7b79-1b08-4e09-9d33-982f3a243b66\",\"type\":\"LinearAxis\"},{\"id\":\"d32e7342-81d7-4af4-95da-5ab654cf90c7\",\"type\":\"Grid\"},{\"id\":\"eea8cd96-7332-4edd-a44c-2419184194a3\",\"type\":\"LinearAxis\"},{\"id\":\"20dab5b3-05a3-4736-aa2e-7b526e6c9cf5\",\"type\":\"Grid\"},{\"id\":\"e0efa9a5-3510-41e6-8cfa-c6d83e65332c\",\"type\":\"BoxAnnotation\"},{\"id\":\"92efd074-c11c-41fa-b789-43c6a636547b\",\"type\":\"GlyphRenderer\"},{\"id\":\"85a5b85e-1396-4f30-908c-f198963f0085\",\"type\":\"GlyphRenderer\"}],\"title\":{\"id\":\"16280019-0e0b-4f3a-89ff-65a4419fc9a7\",\"type\":\"Title\"},\"tool_events\":{\"id\":\"b901716a-b6cb-4d2e-b045-e4893cacb47d\",\"type\":\"ToolEvents\"},\"toolbar\":{\"id\":\"c02fec77-9886-484f-86ee-f21472343846\",\"type\":\"Toolbar\"},\"x_range\":{\"id\":\"58a80909-124d-47f9-b1e3-8fe63843275d\",\"type\":\"DataRange1d\"},\"y_range\":{\"id\":\"00c4d303-9873-46ff-b46a-a9c4aae103e4\",\"type\":\"DataRange1d\"}},\"id\":\"514dbc3b-b01e-4d33-8a8d-68c746bdd2c9\",\"subtype\":\"Figure\",\"type\":\"Plot\"},{\"attributes\":{\"callback\":null},\"id\":\"58a80909-124d-47f9-b1e3-8fe63843275d\",\"type\":\"DataRange1d\"},{\"attributes\":{},\"id\":\"4563a8de-64a2-42ca-945a-a8c507d76e4a\",\"type\":\"BasicTickFormatter\"},{\"attributes\":{\"plot\":null,\"text\":null},\"id\":\"16280019-0e0b-4f3a-89ff-65a4419fc9a7\",\"type\":\"Title\"},{\"attributes\":{\"plot\":{\"id\":\"514dbc3b-b01e-4d33-8a8d-68c746bdd2c9\",\"subtype\":\"Figure\",\"type\":\"Plot\"}},\"id\":\"33618418-0678-406f-8845-3ba189124c47\",\"type\":\"HelpTool\"},{\"attributes\":{\"formatter\":{\"id\":\"4563a8de-64a2-42ca-945a-a8c507d76e4a\",\"type\":\"BasicTickFormatter\"},\"plot\":{\"id\":\"514dbc3b-b01e-4d33-8a8d-68c746bdd2c9\",\"subtype\":\"Figure\",\"type\":\"Plot\"},\"ticker\":{\"id\":\"940f73ce-2676-4cae-a6ed-b42670010903\",\"type\":\"BasicTicker\"}},\"id\":\"eea8cd96-7332-4edd-a44c-2419184194a3\",\"type\":\"LinearAxis\"},{\"attributes\":{\"line_alpha\":{\"value\":0.6},\"line_color\":{\"value\":\"green\"},\"line_width\":{\"value\":3},\"x\":{\"field\":\"v\"},\"y\":{\"field\":\"x\"}},\"id\":\"3b13344c-1058-4f50-afc1-ffcdc6e27e54\",\"type\":\"Line\"},{\"attributes\":{\"active_drag\":\"auto\",\"active_scroll\":\"auto\",\"active_tap\":\"auto\",\"tools\":[{\"id\":\"30fa6f5a-d05e-4bb1-89ec-b7acaa9742ac\",\"type\":\"PanTool\"},{\"id\":\"f59f4be8-02ad-49a9-9c99-f473ac8ec263\",\"type\":\"WheelZoomTool\"},{\"id\":\"9ac8e4a0-5ed2-4487-81f9-4be2db878459\",\"type\":\"BoxZoomTool\"},{\"id\":\"0a6991b4-c445-4f21-bae0-c21a8f29be87\",\"type\":\"SaveTool\"},{\"id\":\"4b16187f-59a0-480f-9b18-a9bd1cb7e082\",\"type\":\"ResetTool\"},{\"id\":\"33618418-0678-406f-8845-3ba189124c47\",\"type\":\"HelpTool\"}]},\"id\":\"c02fec77-9886-484f-86ee-f21472343846\",\"type\":\"Toolbar\"},{\"attributes\":{\"overlay\":{\"id\":\"e0efa9a5-3510-41e6-8cfa-c6d83e65332c\",\"type\":\"BoxAnnotation\"},\"plot\":{\"id\":\"514dbc3b-b01e-4d33-8a8d-68c746bdd2c9\",\"subtype\":\"Figure\",\"type\":\"Plot\"}},\"id\":\"9ac8e4a0-5ed2-4487-81f9-4be2db878459\",\"type\":\"BoxZoomTool\"},{\"attributes\":{\"data_source\":{\"id\":\"4c10a51d-e5cd-4cf8-8b7c-99258f0341b0\",\"type\":\"ColumnDataSource\"},\"glyph\":{\"id\":\"3b13344c-1058-4f50-afc1-ffcdc6e27e54\",\"type\":\"Line\"},\"hover_glyph\":null,\"nonselection_glyph\":{\"id\":\"e8218887-ece1-4b36-8ae7-44c464083f2d\",\"type\":\"Line\"},\"selection_glyph\":null},\"id\":\"85a5b85e-1396-4f30-908c-f198963f0085\",\"type\":\"GlyphRenderer\"},{\"attributes\":{},\"id\":\"0ec22174-912c-4095-874a-9b84ff029ecd\",\"type\":\"BasicTicker\"},{\"attributes\":{\"plot\":{\"id\":\"514dbc3b-b01e-4d33-8a8d-68c746bdd2c9\",\"subtype\":\"Figure\",\"type\":\"Plot\"}},\"id\":\"f59f4be8-02ad-49a9-9c99-f473ac8ec263\",\"type\":\"WheelZoomTool\"},{\"attributes\":{\"formatter\":{\"id\":\"fec0186d-27a4-417e-9630-badd825b20b0\",\"type\":\"BasicTickFormatter\"},\"plot\":{\"id\":\"514dbc3b-b01e-4d33-8a8d-68c746bdd2c9\",\"subtype\":\"Figure\",\"type\":\"Plot\"},\"ticker\":{\"id\":\"0ec22174-912c-4095-874a-9b84ff029ecd\",\"type\":\"BasicTicker\"}},\"id\":\"aecb7b79-1b08-4e09-9d33-982f3a243b66\",\"type\":\"LinearAxis\"},{\"attributes\":{\"plot\":{\"id\":\"514dbc3b-b01e-4d33-8a8d-68c746bdd2c9\",\"subtype\":\"Figure\",\"type\":\"Plot\"},\"ticker\":{\"id\":\"0ec22174-912c-4095-874a-9b84ff029ecd\",\"type\":\"BasicTicker\"}},\"id\":\"d32e7342-81d7-4af4-95da-5ab654cf90c7\",\"type\":\"Grid\"},{\"attributes\":{\"plot\":{\"id\":\"514dbc3b-b01e-4d33-8a8d-68c746bdd2c9\",\"subtype\":\"Figure\",\"type\":\"Plot\"}},\"id\":\"0a6991b4-c445-4f21-bae0-c21a8f29be87\",\"type\":\"SaveTool\"},{\"attributes\":{},\"id\":\"940f73ce-2676-4cae-a6ed-b42670010903\",\"type\":\"BasicTicker\"},{\"attributes\":{\"plot\":{\"id\":\"514dbc3b-b01e-4d33-8a8d-68c746bdd2c9\",\"subtype\":\"Figure\",\"type\":\"Plot\"}},\"id\":\"30fa6f5a-d05e-4bb1-89ec-b7acaa9742ac\",\"type\":\"PanTool\"},{\"attributes\":{\"data_source\":{\"id\":\"4c10a51d-e5cd-4cf8-8b7c-99258f0341b0\",\"type\":\"ColumnDataSource\"},\"glyph\":{\"id\":\"9fce2cbf-0f8d-4429-9c52-72bac2cdc806\",\"type\":\"Line\"},\"hover_glyph\":null,\"nonselection_glyph\":{\"id\":\"52d921f9-73b6-4014-bbcd-42ef960e211a\",\"type\":\"Line\"},\"selection_glyph\":null},\"id\":\"92efd074-c11c-41fa-b789-43c6a636547b\",\"type\":\"GlyphRenderer\"},{\"attributes\":{\"line_alpha\":{\"value\":0.1},\"line_color\":{\"value\":\"#1f77b4\"},\"line_width\":{\"value\":3},\"x\":{\"field\":\"x\"},\"y\":{\"field\":\"u\"}},\"id\":\"52d921f9-73b6-4014-bbcd-42ef960e211a\",\"type\":\"Line\"},{\"attributes\":{\"callback\":null},\"id\":\"00c4d303-9873-46ff-b46a-a9c4aae103e4\",\"type\":\"DataRange1d\"},{\"attributes\":{\"plot\":{\"id\":\"514dbc3b-b01e-4d33-8a8d-68c746bdd2c9\",\"subtype\":\"Figure\",\"type\":\"Plot\"}},\"id\":\"4b16187f-59a0-480f-9b18-a9bd1cb7e082\",\"type\":\"ResetTool\"},{\"attributes\":{\"line_alpha\":{\"value\":0.1},\"line_color\":{\"value\":\"#1f77b4\"},\"line_width\":{\"value\":3},\"x\":{\"field\":\"v\"},\"y\":{\"field\":\"x\"}},\"id\":\"e8218887-ece1-4b36-8ae7-44c464083f2d\",\"type\":\"Line\"},{\"attributes\":{},\"id\":\"b901716a-b6cb-4d2e-b045-e4893cacb47d\",\"type\":\"ToolEvents\"},{\"attributes\":{\"line_alpha\":{\"value\":0.6},\"line_color\":{\"value\":\"blue\"},\"line_width\":{\"value\":3},\"x\":{\"field\":\"x\"},\"y\":{\"field\":\"u\"}},\"id\":\"9fce2cbf-0f8d-4429-9c52-72bac2cdc806\",\"type\":\"Line\"},{\"attributes\":{},\"id\":\"fec0186d-27a4-417e-9630-badd825b20b0\",\"type\":\"BasicTickFormatter\"},{\"attributes\":{\"dimension\":1,\"plot\":{\"id\":\"514dbc3b-b01e-4d33-8a8d-68c746bdd2c9\",\"subtype\":\"Figure\",\"type\":\"Plot\"},\"ticker\":{\"id\":\"940f73ce-2676-4cae-a6ed-b42670010903\",\"type\":\"BasicTicker\"}},\"id\":\"20dab5b3-05a3-4736-aa2e-7b526e6c9cf5\",\"type\":\"Grid\"}],\"root_ids\":[\"514dbc3b-b01e-4d33-8a8d-68c746bdd2c9\"]},\"title\":\"Bokeh Application\",\"version\":\"0.12.3\"}};\n            var render_items = [{\"docid\":\"03976be2-212d-4bea-8768-f6e317f29f6d\",\"elementid\":\"91872063-7eab-45f7-ad36-089d085f9330\",\"modelid\":\"514dbc3b-b01e-4d33-8a8d-68c746bdd2c9\"}];\n            \n            Bokeh.embed.embed_items(docs_json, render_items);\n        });\n      },\n      function(Bokeh) {\n      }\n    ];\n  \n    function run_inline_js() {\n      \n      if ((window.Bokeh !== undefined) || (force === \"1\")) {\n        for (var i = 0; i < inline_js.length; i++) {\n          inline_js[i](window.Bokeh);\n        }if (force === \"1\") {\n          display_loaded();\n        }} else if (Date.now() < window._bokeh_timeout) {\n        setTimeout(run_inline_js, 100);\n      } else if (!window._bokeh_failed_load) {\n        console.log(\"Bokeh: BokehJS failed to load within specified timeout.\");\n        window._bokeh_failed_load = true;\n      } else if (!force) {\n        var cell = $(\"#91872063-7eab-45f7-ad36-089d085f9330\").parents('.cell').data().cell;\n        cell.output_area.append_execute_result(NB_LOAD_WARNING)\n      }\n  \n    }\n  \n    if (window._bokeh_is_loading === 0) {\n      console.log(\"Bokeh: BokehJS loaded, going straight to plotting\");\n      run_inline_js();\n    } else {\n      load_libs(js_urls, function() {\n        console.log(\"Bokeh: BokehJS plotting callback run at\", now());\n        run_inline_js();\n      });\n    }\n  }(this));\n</script>"
          },
          "metadata": {},
          "output_type": "display_data"
         },
         {
          "data": {
           "text/plain": "<function __main__.plot_stability>"
          },
          "execution_count": 23,
          "metadata": {},
          "output_type": "execute_result"
         }
        ],
        "source": "output_notebook()\ndef plot_stability(alpha_cro=.2, alpha_cI=.1, rep_cro=1, rep_cI=1, div_time=60):\n    lf_cro_stable = lambdify(cI, cro_stable.subs([(a_cro, alpha_cro), (c_cI, rep_cI), (gamma, ln(2)/div_time)]))\n    lf_cI_stable = lambdify(cro, cI_stable.subs([(a_cI, alpha_cI), (c_cro, rep_cro), (gamma, ln(2)/div_time)]))\n    x_range = np.arange(0, 12, .05)\n    x_range = np.hstack((.0001, x_range))\n    source = ColumnDataSource(data=dict(x=x_range, u=lf_cro_stable(x_range), v=lf_cI_stable(x_range)))\n    plt = Figure(plot_width=800, plot_height=400)\n    plt.line('x', 'u', source=source, line_width=3, line_alpha=0.6, line_color=\"blue\")\n    plt.line('v', 'x', source=source, line_width=3, line_alpha=0.6, line_color=\"green\")\n    show(plt)\ninteract(plot_stability, \n         alpha_cro=(.01, .6, .01), alpha_cI=(.001, .6, .01),\n         rep_cro=(.01, 4, .2), rep_cI=(.01, 4, .2),\n         div_time=(20, 120, 5), __manual=0\n)\n#plot_stability()"
       },
       "cell_index": 12,
       "root": true
      }
     ]
    },
    "af888dd1acf141b0990cfe65531bf06b": {
     "views": []
    },
    "afaee71700a24035a30793211123705f": {
     "views": []
    },
    "b1d6d5b634864341bd3666b974495947": {
     "views": []
    },
    "b38ce6bc8e42412dbbdeca67ecd076a0": {
     "views": []
    },
    "b3cefa3fea50430e84657afe48e1d233": {
     "views": []
    },
    "b43f379377f842279697fb10eec39cb9": {
     "views": []
    },
    "b5252b250b4742d3910ff60a06b82048": {
     "views": []
    },
    "b5791613920840ddb8e2fe48c492cc5e": {
     "views": []
    },
    "b59bc51694934297a7a5ec99a07744c4": {
     "views": []
    },
    "b6981a92808a44f48460939704c8958d": {
     "views": []
    },
    "b6a1b0fea2444d16ab4415df09134dba": {
     "views": []
    },
    "b7051467b2eb4428a0b8e46b165c089d": {
     "views": []
    },
    "b7a736c335e546a59a8ddab8ccd99e58": {
     "views": []
    },
    "b822eb79f2d34914917e2363c3cabb11": {
     "views": []
    },
    "b85e183a4e834e54947a5addbe955e18": {
     "views": []
    },
    "b91563e9b04641e9a3e427cfe08c5da9": {
     "views": []
    },
    "bad7b4df38e04983810addb45bd38190": {
     "views": []
    },
    "bbfcf60782194359913d4dc26d7a1b2c": {
     "views": []
    },
    "bc5c358e9fff43adae176d08cd85f8fa": {
     "views": []
    },
    "bcd5e1e63da745da94fc810ed70c2eb6": {
     "views": []
    },
    "bd4bfc1c270f4486a6234ab22cec0e63": {
     "views": []
    },
    "bd87b5d293b04f369222f68ae2069dc7": {
     "views": []
    },
    "bda3b85e87484d618477adfe7db85e86": {
     "views": []
    },
    "be7c4f93374e4774967f317b85ac4628": {
     "views": []
    },
    "be9e8c8940db4be38be9ce407eb702c0": {
     "views": []
    },
    "becd43fc27504ba7acc7f7b00aed0c08": {
     "views": []
    },
    "bed1e29cb1c64f93b13933322a260550": {
     "views": []
    },
    "bedb15b28ca9423bbb76f967c2a8ce6b": {
     "views": []
    },
    "bf602927f8f543c9b2bb59094b04ab15": {
     "views": []
    },
    "bf61d36d0d6e47cbacfad8e44657f7b9": {
     "views": []
    },
    "bf8c9bda88874a8d8bdd6d0b9e68026f": {
     "views": []
    },
    "bfb78b6ca0394baba02ca9d00cf70d58": {
     "views": []
    },
    "c01c638e5f304d8badd8e031f114518a": {
     "views": []
    },
    "c2ae5445551f465ba2c02e7f214ba15a": {
     "views": []
    },
    "c2fe7482c1454425902e51048407c515": {
     "views": []
    },
    "c3c879810f2240b08d33d70af643f31a": {
     "views": []
    },
    "c3d91970a6164e499d0bffafc5024bc1": {
     "views": []
    },
    "c55f844608c642ec9b9f270d131ee29b": {
     "views": []
    },
    "c5c6d03f671d49c6804d240a150103f6": {
     "views": []
    },
    "c5fac22acc954942ab42edfd1a0d75a0": {
     "views": []
    },
    "c6b6a296772a4201b7297e72b110b937": {
     "views": []
    },
    "c6f80b21bdd94a9fa24043131603e7b9": {
     "views": []
    },
    "c7235ea8d3ff42d589ee8c79198ad206": {
     "views": []
    },
    "c8f5e9be8cad449aa19fbc8f076631f0": {
     "views": []
    },
    "ca359234f7264e4aad77322890fba991": {
     "views": []
    },
    "cac21b3cf6fc4756ad9675f1b95580ad": {
     "views": []
    },
    "caec9d1c0fce4ceaac31ea3e5f8c536c": {
     "views": []
    },
    "cb036e1b71f24ff490077dd0082e0cfa": {
     "views": []
    },
    "cd628f2da261433a84f0c0b9363d1697": {
     "views": []
    },
    "cdc195f3c5204ef49de8955f98a2a3dc": {
     "views": []
    },
    "ce8c03ffaae443b1a295453b588ddc66": {
     "views": []
    },
    "cee04716ef54476d84383693848d4dfa": {
     "views": []
    },
    "cf89ae8ee9d44cfb9836753c6ca9b34c": {
     "views": []
    },
    "d05ec209f1214604830f7845f170ce4d": {
     "views": []
    },
    "d13369f6292c452a8dbdbf9d62797c20": {
     "views": []
    },
    "d19b6f1cc81940979149ccd43242a381": {
     "views": []
    },
    "d1a71edbf5e54e4182f728a2dd8e67c7": {
     "views": []
    },
    "d3689cc0f2354d5db11059ef8a154d6e": {
     "views": []
    },
    "d4fbbc0319714b20a04491dca0112efe": {
     "views": []
    },
    "d5926bf9f4754ded837c789cb555dff2": {
     "views": []
    },
    "d609c2c6ded941c5b084c07c496bef72": {
     "views": []
    },
    "d88e6d029ff1491f9e5284a2591ffcdf": {
     "views": []
    },
    "d8dd3c5283924d1c9c070cdf9c455f2e": {
     "views": []
    },
    "d93c7256ae414954a6f210b9c39acaa0": {
     "views": []
    },
    "da0677ce7c4440b4ab347f457f794b8d": {
     "views": []
    },
    "da97d58c21534414a7e03b8b62133f10": {
     "views": []
    },
    "db57db28a40d464eafb1fbbb4bfccca8": {
     "views": []
    },
    "dc3e602a567b47fa93977ccc6570da34": {
     "views": []
    },
    "dce84615e3e84c5b877d8c11cf7c061c": {
     "views": []
    },
    "dcec5202fedb4b6cb1cf32cfeaa86e18": {
     "views": []
    },
    "de1de98a094b4d45a1b791da8922747a": {
     "views": []
    },
    "e0e6a526c812401aa88f3d4ab7d6273d": {
     "views": []
    },
    "e1712c79c6fa4c3098cb2f4026a8f2d7": {
     "views": []
    },
    "e2138db060e942b185a193d7be9743e4": {
     "views": []
    },
    "e238644ffe9c4f30b24a85fe12f471b7": {
     "views": []
    },
    "e25fde9cf3034b2798ad422ea9530027": {
     "views": []
    },
    "e29e1e4a1d394062bc0806e5ec7b716d": {
     "views": []
    },
    "e37b7f1f3e4447199858a698409f2996": {
     "views": []
    },
    "e3d6c23d19cd49f9b4a044cfff629edc": {
     "views": []
    },
    "e5590f0ca6354af994eb470bbf8585b1": {
     "views": []
    },
    "e59667023b484214a2a5b7ac0ee2f138": {
     "views": []
    },
    "e59d4f284b5f47c0ae45d46f3d9a421c": {
     "views": []
    },
    "e63928216ca04fba82a2b181e50d8371": {
     "views": []
    },
    "e69a091d74d94489ad32ded05823aea8": {
     "views": []
    },
    "e7f191a4f9594575b7d740f66a1b9860": {
     "views": []
    },
    "e87587d929c34ad0a2e4e7bedbfdc3a8": {
     "views": []
    },
    "e9aa045c3fe54366a65b8979a3c7eb4c": {
     "views": []
    },
    "ea328f403c35438c95874586e11ee94c": {
     "views": []
    },
    "eac8aa91a4bd4cbdb384a1637f6efce4": {
     "views": []
    },
    "eadd61b38398443e91807808dca4c027": {
     "views": []
    },
    "eb6da8035ded4a1bb96311263669eb42": {
     "views": []
    },
    "ebf69b06163b4e75929b461e8ed89273": {
     "views": []
    },
    "ee6b2a7f5bc54ba8b7e01674f35cb4bd": {
     "views": []
    },
    "eeb4d228fa894c1199145edf1061b3ef": {
     "views": []
    },
    "eebb2bbc2b3b4077aa1ce0105253ed40": {
     "views": []
    },
    "f01a75c6e8ed4015aa3a9a8b36bc23d2": {
     "views": []
    },
    "f1ef3cfef2494d63bcf3f82292cea0b9": {
     "views": []
    },
    "f22c95e499f04f62b189c0ce82aee7bb": {
     "views": []
    },
    "f2860cabf35b4d14a0ed15281429e78a": {
     "views": []
    },
    "f338d3307b1742449bd140fa845ac4f0": {
     "views": []
    },
    "f3b36bbaa39e4c848db600b6a504f5d3": {
     "views": []
    },
    "f5f40e4dc91f4f4fb111a4ba264844be": {
     "views": []
    },
    "f60a88061b904c6fb69b3ec9897c99ce": {
     "views": []
    },
    "f60c4b8c747b4f1580f1c67da858fce8": {
     "views": []
    },
    "f67c263c6cc5448b872ca62b173a539f": {
     "views": []
    },
    "f6ed90425fa943a9aa5f418a93fa421e": {
     "views": []
    },
    "f7103d4fa9a244e0992e4f0c4a6cfb7f": {
     "views": []
    },
    "f72c3897ec5b4d3c80e6a10c2feb6b84": {
     "views": []
    },
    "f7a0db1d0ad94c6daee09e8755734c5b": {
     "views": []
    },
    "f84131b2bdc94fb0b3a5d69a5e2d577c": {
     "views": []
    },
    "f868e233b3b844d2ac680eb01c5599d5": {
     "views": []
    },
    "f875625a57164dc9ba791f142b050e0b": {
     "views": []
    },
    "f928b9f368c248f6a426d456e54b024b": {
     "views": []
    },
    "fa96667227b542afbb4bccdce3d5fd51": {
     "views": []
    },
    "fb4355210a7c4a4eb3d8780567b85e49": {
     "views": []
    },
    "fbaac68c5a9b4b1b87302333071b2a6e": {
     "views": []
    },
    "fbab614012e247229711c8e9d39e1e9d": {
     "views": []
    },
    "fbec0b97b75145c395832b405ca2e88f": {
     "views": []
    },
    "fd93fbb3d3f4425480aac512dea459fe": {
     "views": []
    },
    "fe5a5cf0846d47a89585ea0d73715d2c": {
     "views": []
    },
    "fe6700e409504c5ba5436f1bb6c337f3": {
     "views": []
    },
    "ff6875120eb740489e1b00363ed6d55a": {
     "views": []
    },
    "ffae430161c34b58991ee14d87c6fd50": {
     "views": []
    },
    "ffd6a7a1252348cba34b953b3f83772b": {
     "views": []
    }
   },
   "version": "1.1.0"
  }
 },
 "nbformat": 4,
 "nbformat_minor": 0
}
