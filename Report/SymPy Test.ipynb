{
 "cells": [
  {
   "cell_type": "code",
   "execution_count": 2,
   "metadata": {
    "collapsed": false
   },
   "outputs": [],
   "source": [
    "from sympy import *\n",
    "from IPython.display import display\n",
    "init_printing()"
   ]
  },
  {
   "cell_type": "code",
   "execution_count": 3,
   "metadata": {
    "collapsed": false,
    "scrolled": false
   },
   "outputs": [
    {
     "data": {
      "image/png": "[encoded data removed]",
      "text/latex": [
       "$$\\frac{\\alpha}{1 + \\frac{x}{c}} - \\gamma x$$"
      ],
      "text/plain": [
       "  α        \n",
       "───── - γ⋅x\n",
       "    x      \n",
       "1 + ─      \n",
       "    c      "
      ]
     },
     "metadata": {},
     "output_type": "display_data"
    },
    {
     "data": {
      "image/png": "[encoded data removed]",
      "text/latex": [
       "$$\\left [ \\left \\{ x : \\frac{\\sqrt{c}}{2 \\sqrt{\\gamma}} \\sqrt{4 \\alpha + c \\gamma} - \\frac{c}{2}\\right \\}\\right ]$$"
      ],
      "text/plain": [
       "⎡⎧        ___________    ⎫⎤\n",
       "⎢⎪   √c⋅╲╱ 4⋅α + c⋅γ    c⎪⎥\n",
       "⎢⎨x: ──────────────── - ─⎬⎥\n",
       "⎢⎪         2⋅√γ         2⎪⎥\n",
       "⎣⎩                       ⎭⎦"
      ]
     },
     "execution_count": 3,
     "metadata": {},
     "output_type": "execute_result"
    }
   ],
   "source": [
    "x, alpha, beta, gamma, c = symbols(\"x alpha beta gamma c\", positive=1)\n",
    "dotx = alpha / (1+(x/c)**beta) - gamma*x\n",
    "dotx = dotx.subs(beta, 1)\n",
    "display(dotx)\n",
    "diff(dotx, x)\n",
    "xs = solve(dotx, x, set=1, positive=1, check=1, dict=1)\n",
    "xs"
   ]
  },
  {
   "cell_type": "code",
   "execution_count": 17,
   "metadata": {
    "collapsed": false
   },
   "outputs": [
    {
     "data": {
      "image/png": "[encoded data removed]",
      "text/latex": [
       "$$\\frac{\\sqrt{c}}{2 \\sqrt{\\gamma}} \\sqrt{4 \\alpha + c \\gamma} - \\frac{c}{2}$$"
      ],
      "text/plain": [
       "     ___________    \n",
       "√c⋅╲╱ 4⋅α + c⋅γ    c\n",
       "──────────────── - ─\n",
       "      2⋅√γ         2"
      ]
     },
     "execution_count": 17,
     "metadata": {},
     "output_type": "execute_result"
    }
   ],
   "source": [
    "xs_sym = Symbol(\"x_s\", positive=1)\n",
    "soltn = xs[0][x]\n",
    "soltn"
   ]
  },
  {
   "cell_type": "code",
   "execution_count": 5,
   "metadata": {
    "collapsed": false
   },
   "outputs": [
    {
     "data": {
      "image/png": "[encoded data removed]",
      "text/latex": [
       "$$\\dot{\\epsilon} = \\epsilon \\left(- \\frac{\\alpha}{c \\left(1 + \\frac{x_{s}}{c}\\right)^{2}} - \\gamma\\right)$$"
      ],
      "text/plain": [
       "                   ⎛       α         ⎞\n",
       "\\dot{\\epsilon} = ε⋅⎜- ─────────── - γ⎟\n",
       "                   ⎜            2    ⎟\n",
       "                   ⎜    ⎛    xₛ⎞     ⎟\n",
       "                   ⎜  c⋅⎜1 + ──⎟     ⎟\n",
       "                   ⎝    ⎝    c ⎠     ⎠"
      ]
     },
     "execution_count": 5,
     "metadata": {},
     "output_type": "execute_result"
    }
   ],
   "source": [
    "epsilon = Symbol(\"epsilon\")\n",
    "dotepsilon = Symbol(\"\\dot{\\epsilon}\")\n",
    "taylor_approx = dotx + epsilon*diff(dotx.subs(x, xs_sym+epsilon), epsilon).subs(epsilon, 0)\n",
    "taylor_approx = taylor_approx.subs(dotx, 0)\n",
    "Eq(dotepsilon, taylor_approx)"
   ]
  },
  {
   "cell_type": "code",
   "execution_count": 28,
   "metadata": {
    "collapsed": false
   },
   "outputs": [
    {
     "data": {
      "image/png": "[encoded data removed]",
      "text/latex": [
       "$$\\mathcal{O}\\left(1; \\epsilon\\rightarrow- \\frac{1}{2 \\sqrt{\\gamma}} \\left(- \\sqrt{c} \\sqrt{4 \\alpha + c \\gamma} + c \\sqrt{\\gamma}\\right)\\right)$$"
      ],
      "text/plain": [
       " ⎛        ⎛       ___________       ⎞ ⎞\n",
       " ⎜       -⎝- √c⋅╲╱ 4⋅α + c⋅γ  + c⋅√γ⎠ ⎟\n",
       "O⎜1; ε → ─────────────────────────────⎟\n",
       " ⎝                    2⋅√γ            ⎠"
      ]
     },
     "execution_count": 28,
     "metadata": {},
     "output_type": "execute_result"
    }
   ],
   "source": [
    "dotx.subs(x, xs_sym+epsilon).series(epsilon, soltn, 1)"
   ]
  },
  {
   "cell_type": "code",
   "execution_count": null,
   "metadata": {
    "collapsed": false
   },
   "outputs": [],
   "source": [
    "integrate(taylor_approx, epsilon)"
   ]
  },
  {
   "cell_type": "code",
   "execution_count": null,
   "metadata": {
    "collapsed": false
   },
   "outputs": [],
   "source": [
    "pert_eq = integrate(taylor_approx, epsilon).subs(gamma, .05).subs(alpha, 1).subs(c, 10).subs(xs_sym, soltn)"
   ]
  },
  {
   "cell_type": "code",
   "execution_count": null,
   "metadata": {
    "collapsed": true
   },
   "outputs": [],
   "source": []
  }
 ],
 "metadata": {
  "kernelspec": {
   "display_name": "Python 3",
   "language": "python",
   "name": "python3"
  },
  "language_info": {
   "codemirror_mode": {
    "name": "ipython",
    "version": 3
   },
   "file_extension": ".py",
   "mimetype": "text/x-python",
   "name": "python",
   "nbconvert_exporter": "python",
   "pygments_lexer": "ipython3",
   "version": "3.5.2"
  }
 },
 "nbformat": 4,
 "nbformat_minor": 0
}
