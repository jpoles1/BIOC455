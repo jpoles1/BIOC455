{
 "cells": [
  {
   "cell_type": "code",
   "execution_count": 6,
   "metadata": {
    "collapsed": true
   },
   "outputs": [],
   "source": [
    "from sympy import *\n",
    "from IPython.display import display\n",
    "init_printing()"
   ]
  },
  {
   "cell_type": "code",
   "execution_count": 31,
   "metadata": {
    "collapsed": true
   },
   "outputs": [],
   "source": [
    "l1, l2 = symbols(\"lambda_1 lambda_2\", positive=1)\n",
    "t, s = symbols(\"t s\", positive=1)"
   ]
  },
  {
   "cell_type": "code",
   "execution_count": 32,
   "metadata": {
    "collapsed": false
   },
   "outputs": [
    {
     "data": {
      "image/png": "[encoded data removed]",
      "text/latex": [
       "$$\\frac{\\lambda_{1}}{e^{\\lambda_{1} t}}$$"
      ],
      "text/plain": [
       "    -λ₁⋅t\n",
       "λ₁⋅ℯ     "
      ]
     },
     "metadata": {},
     "output_type": "display_data"
    },
    {
     "data": {
      "image/png": "[encoded data removed]",
      "text/latex": [
       "$$\\lambda_{2} e^{- \\lambda_{2} \\left(- s + t\\right)}$$"
      ],
      "text/plain": [
       "    -λ₂⋅(-s + t)\n",
       "λ₂⋅ℯ            "
      ]
     },
     "metadata": {},
     "output_type": "display_data"
    }
   ],
   "source": [
    "p_1 = l1*exp(-l1*t)\n",
    "p_2 = l2*exp(-l2*(t-s))\n",
    "display(p_1, p_2)"
   ]
  },
  {
   "cell_type": "code",
   "execution_count": 44,
   "metadata": {
    "collapsed": false
   },
   "outputs": [
    {
     "data": {
      "image/png": "[encoded data removed]",
      "text/latex": [
       "$$\\frac{\\lambda_{1}}{e^{\\lambda_{1} t}} - \\frac{\\lambda_{1}}{e^{\\lambda_{1} t} e^{\\lambda_{2} t}}$$"
      ],
      "text/plain": [
       "    -λ₁⋅t       -λ₁⋅t  -λ₂⋅t\n",
       "λ₁⋅ℯ      - λ₁⋅ℯ     ⋅ℯ     "
      ]
     },
     "metadata": {},
     "output_type": "display_data"
    }
   ],
   "source": [
    "oldp_t = integrate(p_1*p_2, (s, 0, t))\n",
    "display(oldp_t)\n",
    "#simplify(integrate(t*p_t, (t, 0, oo)))"
   ]
  },
  {
   "cell_type": "code",
   "execution_count": 69,
   "metadata": {
    "collapsed": false
   },
   "outputs": [
    {
     "data": {
      "image/png": "[encoded data removed]",
      "text/latex": [
       "$$\\frac{\\lambda_{1} \\lambda_{2}}{- \\lambda_{1} + \\lambda_{2}} \\left(- \\frac{1}{e^{\\lambda_{2} t}} + e^{- \\lambda_{1} t}\\right)$$"
      ],
      "text/plain": [
       "      ⎛   -λ₂⋅t    -λ₁⋅t⎞\n",
       "λ₁⋅λ₂⋅⎝- ℯ      + ℯ     ⎠\n",
       "─────────────────────────\n",
       "         -λ₁ + λ₂        "
      ]
     },
     "metadata": {},
     "output_type": "display_data"
    }
   ],
   "source": [
    "p_t = (l1*l2)/(l2-l1)*(exp(-l1*t)-exp(-l2*t))\n",
    "display(p_t)"
   ]
  },
  {
   "cell_type": "code",
   "execution_count": 70,
   "metadata": {
    "collapsed": false
   },
   "outputs": [
    {
     "data": {
      "image/png": "[encoded data removed]",
      "text/latex": [
       "$$\\frac{\\lambda_{1}^{2} t}{e^{\\lambda_{1} t}}$$"
      ],
      "text/plain": [
       "  2    -λ₁⋅t\n",
       "λ₁ ⋅t⋅ℯ     "
      ]
     },
     "execution_count": 70,
     "metadata": {},
     "output_type": "execute_result"
    }
   ],
   "source": [
    "limit(p_t, l2, l1)"
   ]
  },
  {
   "cell_type": "code",
   "execution_count": 75,
   "metadata": {
    "collapsed": false
   },
   "outputs": [
    {
     "data": {
      "image/png": "[encoded data removed]",
      "text/latex": [
       "$$\\frac{\\lambda_{1} \\lambda_{2} t}{e^{\\lambda_{2} t}} + \\lambda_{1} \\left(- \\frac{1}{e^{\\lambda_{2} t}} + e^{- \\lambda_{1} t}\\right)$$"
      ],
      "text/plain": [
       "         -λ₂⋅t      ⎛   -λ₂⋅t    -λ₁⋅t⎞\n",
       "λ₁⋅λ₂⋅t⋅ℯ      + λ₁⋅⎝- ℯ      + ℯ     ⎠"
      ]
     },
     "execution_count": 75,
     "metadata": {},
     "output_type": "execute_result"
    }
   ],
   "source": [
    "(diff(l1*l2*(exp(-l1*t)-exp(-l2*t)), l2))"
   ]
  },
  {
   "cell_type": "code",
   "execution_count": 63,
   "metadata": {
    "collapsed": false
   },
   "outputs": [
    {
     "data": {
      "image/png": "[encoded data removed]",
      "text/latex": [
       "$$\\frac{\\lambda_{2}}{e^{\\lambda_{2} t}}$$"
      ],
      "text/plain": [
       "    -λ₂⋅t\n",
       "λ₂⋅ℯ     "
      ]
     },
     "execution_count": 63,
     "metadata": {},
     "output_type": "execute_result"
    }
   ],
   "source": [
    "l2*exp(-l2*t)"
   ]
  }
 ],
 "metadata": {
  "kernelspec": {
   "display_name": "Python 3",
   "language": "python",
   "name": "python3"
  },
  "language_info": {
   "codemirror_mode": {
    "name": "ipython",
    "version": 3
   },
   "file_extension": ".py",
   "mimetype": "text/x-python",
   "name": "python",
   "nbconvert_exporter": "python",
   "pygments_lexer": "ipython3",
   "version": "3.5.2"
  }
 },
 "nbformat": 4,
 "nbformat_minor": 0
}
