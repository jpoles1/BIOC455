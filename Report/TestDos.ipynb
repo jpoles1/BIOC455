{
 "cells": [
  {
   "cell_type": "code",
   "execution_count": 6,
   "metadata": {
    "collapsed": true
   },
   "outputs": [],
   "source": [
    "from sympy import *\n",
    "from IPython.display import display\n",
    "init_printing()"
   ]
  },
  {
   "cell_type": "code",
   "execution_count": 22,
   "metadata": {
    "collapsed": true
   },
   "outputs": [],
   "source": [
    "l1, l2 = symbols(\"lambda_1 lambda_2\", positive=1)\n",
    "t, s = symbols(\"t s\", positive=1)"
   ]
  },
  {
   "cell_type": "code",
   "execution_count": 25,
   "metadata": {
    "collapsed": false
   },
   "outputs": [
    {
     "data": {
      "image/png": "[encoded data removed]",
      "text/latex": [
       "$$\\frac{\\lambda_{1} \\lambda_{2}}{e^{\\lambda_{1} t}} e^{- \\lambda_{2} \\left(- s + t\\right)}$$"
      ],
      "text/plain": [
       "       -λ₁⋅t  -λ₂⋅(-s + t)\n",
       "λ₁⋅λ₂⋅ℯ     ⋅ℯ            "
      ]
     },
     "metadata": {},
     "output_type": "display_data"
    }
   ],
   "source": [
    "p_1 = l1*exp(-l1*t)\n",
    "p_2 = l2*exp(-l2*(t-s))\n",
    "display(p_1*p_2)"
   ]
  },
  {
   "cell_type": "code",
   "execution_count": 24,
   "metadata": {
    "collapsed": false
   },
   "outputs": [
    {
     "data": {
      "image/png": "[encoded data removed]",
      "text/latex": [
       "$$\\frac{\\lambda_{1}}{e^{\\lambda_{1} t}} - \\frac{\\lambda_{1}}{e^{\\lambda_{1} t} e^{\\lambda_{2} t}}$$"
      ],
      "text/plain": [
       "    -λ₁⋅t       -λ₁⋅t  -λ₂⋅t\n",
       "λ₁⋅ℯ      - λ₁⋅ℯ     ⋅ℯ     "
      ]
     },
     "metadata": {},
     "output_type": "display_data"
    },
    {
     "data": {
      "image/png": "[encoded data removed]",
      "text/latex": [
       "$$- \\frac{\\lambda_{1}}{\\left(\\lambda_{1} + \\lambda_{2}\\right)^{2}} + \\frac{1}{\\lambda_{1}}$$"
      ],
      "text/plain": [
       "      λ₁       1 \n",
       "- ────────── + ──\n",
       "           2   λ₁\n",
       "  (λ₁ + λ₂)      "
      ]
     },
     "execution_count": 24,
     "metadata": {},
     "output_type": "execute_result"
    }
   ],
   "source": [
    "p_t = integrate(p_1*p_2, (s, 0, t))\n",
    "display(p_t)\n",
    "simplify(integrate(t*p_t, (t, 0, oo)))"
   ]
  },
  {
   "cell_type": "code",
   "execution_count": null,
   "metadata": {
    "collapsed": true
   },
   "outputs": [],
   "source": []
  }
 ],
 "metadata": {
  "kernelspec": {
   "display_name": "Python 3",
   "language": "python",
   "name": "python3"
  },
  "language_info": {
   "codemirror_mode": {
    "name": "ipython",
    "version": 3
   },
   "file_extension": ".py",
   "mimetype": "text/x-python",
   "name": "python",
   "nbconvert_exporter": "python",
   "pygments_lexer": "ipython3",
   "version": "3.5.2"
  }
 },
 "nbformat": 4,
 "nbformat_minor": 0
}
