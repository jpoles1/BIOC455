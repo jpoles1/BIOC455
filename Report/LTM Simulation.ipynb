{
 "cells": [
  {
   "cell_type": "markdown",
   "metadata": {},
   "source": [
    "# Modeling ODEs Via Simulation"
   ]
  },
  {
   "cell_type": "code",
   "execution_count": null,
   "metadata": {
    "collapsed": false
   },
   "outputs": [],
   "source": [
    "from math import *\n",
    "from time import time\n",
    "from datetime import timedelta\n",
    "from random import random\n",
    "import numpy as np\n",
    "#Sympy\n",
    "from sympy import *\n",
    "from sympy.plotting import plot3d\n",
    "%matplotlib inline\n",
    "from IPython.display import display\n",
    "init_printing()\n",
    "#visualization\n",
    "from ipywidgets import interact\n",
    "from bokeh.io import push_notebook, show, output_notebook\n",
    "from bokeh.plotting import figure\n",
    "from bokeh.models import Legend\n",
    "output_notebook()"
   ]
  },
  {
   "cell_type": "code",
   "execution_count": null,
   "metadata": {
    "collapsed": false,
    "scrolled": true
   },
   "outputs": [],
   "source": [
    "cro, cI, a_cro, a_cI, c_cro, c_cI, gamma, t = symbols(\"[cro] [cI] alpha_cro alpha_cI c_cro c_cI gamma t\", positive=1)\n",
    "dot_cro = a_cro/(1+(cI/c_cI)**2)**2 - gamma*cro\n",
    "dot_cI = a_cI/(1+(cro/c_cro)**2) - gamma*cI\n",
    "display(Eq(Symbol(\"\\dot{[cro]}\"), dot_cro), Eq(Symbol(\"\\dot{[cI]}\"), dot_cI))"
   ]
  },
  {
   "cell_type": "code",
   "execution_count": null,
   "metadata": {
    "collapsed": false
   },
   "outputs": [],
   "source": [
    "alpha_cro=.2\n",
    "alpha_cI=.15\n",
    "rep_cro=8\n",
    "rep_cI=2\n",
    "gamma_cro = .001\n",
    "gamma_cI = .004\n",
    "subs_cro = dot_cro.subs([(a_cro, alpha_cro), (c_cI, rep_cI), (gamma, gamma_cro)])\n",
    "subs_cI = dot_cI.subs([(a_cI, alpha_cI), (c_cro, rep_cro), (gamma, gamma_cI)])\n",
    "plot3d(subs_cro, (cro, 0, 40), (cI, 0, 40))\n",
    "plot3d(subs_cI, (cro, 0, 40), (cI, 0, 40))"
   ]
  },
  {
   "cell_type": "code",
   "execution_count": null,
   "metadata": {
    "collapsed": false
   },
   "outputs": [],
   "source": [
    "class Cell:\n",
    "    def __init__(self, plot_name=None, stochastic=0, continuous_plotting=1):\n",
    "        self.stochastic = stochastic; #bool indicating whether stochasticity should be modeled\n",
    "        self.age = 0; #seconds\n",
    "        self.sensor_cro = 0;\n",
    "        self.proteins = {\"cro\": 2, \"cI\": 100}\n",
    "        self.history = {\"age\": [], \"cro\": [], \"cI\": []}\n",
    "        self.repr_time = 60*60; #seconds for replication = 1 hr\n",
    "        #Prepping for plotting\n",
    "        self.plot = figure(title=plot_name, plot_height=400, plot_width=800);\n",
    "        self.plot.title.text_font_size = \"12pt\"\n",
    "        self.plot.title.align = \"center\"\n",
    "        self.plot.xaxis.axis_label = \"Minutes Elapsed\";\n",
    "        self.plot.xaxis.axis_label_text_font_size = \"11pt\"\n",
    "        self.plot.xaxis.major_label_text_font_size = \"10pt\"\n",
    "        self.plot.yaxis.axis_label = \"Protein Concentration\";\n",
    "        self.plot.yaxis.axis_label_text_font_size = \"11pt\"\n",
    "        self.plot.yaxis.major_label_text_font_size = \"10pt\"\n",
    "        self.cro_series = self.plot.line([0], [0], color=\"green\", legend=\"[cro]\", line_width=3)\n",
    "        self.cI_series = self.plot.line([0], [0], color=\"red\", legend=\"[cI]\", line_width=3)\n",
    "        self.plot.legend.label_text_font_size = \"11pt\"\n",
    "        self.render_plot()\n",
    "        self.continuous_plotting = continuous_plotting; #bool :: Should the plot render every minute of sim?\n",
    "    def render_plot(self):\n",
    "        show(self.plot, notebook_handle=True, )\n",
    "    def ff(self, nsteps, print_duration=1): #fastforward for nsteps\n",
    "        start_time = time()\n",
    "        [self.step() for s in range(nsteps)]\n",
    "        if(print_duration):\n",
    "            print(\"Computation time (nsteps=\"+str(nsteps)+\"):\", timedelta(seconds=time() - start_time))\n",
    "        self.plot_history()\n",
    "    def step(self):\n",
    "        self.age+=1;\n",
    "        self.history[\"age\"].append(self.age/60)\n",
    "        self.protein_behaviour()\n",
    "        [self.history[prot_name].append(prot_conc) for prot_name, prot_conc in self.proteins.items()]\n",
    "        if(self.age % self.repr_time == 0):\n",
    "            self.divide()\n",
    "        if(self.plot and self.age % 60 == 0 and self.continuous_plotting==1):\n",
    "            self.plot_history()\n",
    "    def plot_history(self):\n",
    "        self.cro_series.data_source.data['x'] = self.history['age']\n",
    "        self.cro_series.data_source.data['y'] = np.asarray(self.history['cro'], dtype=np.float32)\n",
    "        self.cI_series.data_source.data['x'] = self.history['age']\n",
    "        self.cI_series.data_source.data['y'] = np.asarray(self.history['cI'], dtype=np.float32)\n",
    "        push_notebook()\n",
    "    def protein_behaviour(self):\n",
    "        dx = 1\n",
    "        cro_form = subs_cro.subs([(cro, self.proteins[\"cro\"]*2), (cI, self.proteins[\"cI\"])]);\n",
    "        new_cro = self.proteins[\"cro\"] + dx*cro_form + self.sensor_cro*dx\n",
    "        cI_form = subs_cI.subs([(cro, self.proteins[\"cro\"]*1.8), (cI, self.proteins[\"cI\"])]);\n",
    "        new_cI = self.proteins[\"cI\"] + dx*cI_form\n",
    "        if(self.stochastic):\n",
    "            new_cro += dx*(random()*2 - 1)*.1\n",
    "            new_cI += dx*(random()*2 - 1)*.1\n",
    "        self.proteins[\"cro\"] = new_cro if new_cro > 0 else 0\n",
    "        self.proteins[\"cI\"] = new_cI if new_cI > 0 else 0\n",
    "    def divide(self):\n",
    "        self.proteins = {prot_name: prot_conc/2 for prot_name, prot_conc in self.proteins.items()}"
   ]
  },
  {
   "cell_type": "code",
   "execution_count": null,
   "metadata": {
    "collapsed": false,
    "scrolled": false
   },
   "outputs": [],
   "source": [
    "cell = Cell(\"Simulation Progress - Switching Failure\", 0, 0)\n",
    "cell.ff(60*10)\n",
    "cell.sensor_cro = alpha_cro\n",
    "cell.ff(60*10)\n",
    "cell.sensor_cro = 0\n",
    "cell.ff(60*30)\n",
    "cell.ff(60*30)"
   ]
  },
  {
   "cell_type": "code",
   "execution_count": null,
   "metadata": {
    "collapsed": false
   },
   "outputs": [],
   "source": [
    "cell = Cell(\"Simulation Progress - Successful Switching\", 0, 0)\n",
    "cell.ff(60*20)\n",
    "cell.proteins[\"cro\"] += 15\n",
    "cell.ff(60*80)\n",
    "cell.proteins[\"cI\"] += 15\n",
    "cell.ff(60*60)\n",
    "cell.plot_history()"
   ]
  },
  {
   "cell_type": "code",
   "execution_count": null,
   "metadata": {
    "collapsed": false
   },
   "outputs": [],
   "source": [
    "cell = Cell(\"Stochastic Simulation Progress - Incremental Switching Failure\", 1, 0)\n",
    "cell.ff(60*10)\n",
    "def incr():\n",
    "    cell.proteins[\"cro\"]+=6;\n",
    "    cell.ff(30, 0)\n",
    "[incr() for i in range(0, 4)]\n",
    "cell.ff(60*30)\n",
    "cell.plot_history()"
   ]
  },
  {
   "cell_type": "code",
   "execution_count": null,
   "metadata": {
    "collapsed": false
   },
   "outputs": [],
   "source": [
    "cell = Cell(\"Stochastic Simulation Progress - Incremental Switching\", 1, 0)\n",
    "cell.ff(60*90)\n",
    "def incr_cro():\n",
    "    cell.proteins[\"cro\"]+=6;\n",
    "    cell.ff(30, 0)\n",
    "[incr_cro() for i in range(0, 8)]\n",
    "cell.ff(60*30)\n",
    "cell.ff(60*30)\n",
    "cell.ff(60*60)\n",
    "def incr_cI():\n",
    "    cell.proteins[\"cI\"]+=6;\n",
    "    cell.ff(30, 0)\n",
    "[incr_cI() for i in range(0, 8)]\n",
    "cell.ff(60*60)\n",
    "cell.plot_history()"
   ]
  },
  {
   "cell_type": "code",
   "execution_count": null,
   "metadata": {
    "collapsed": false
   },
   "outputs": [],
   "source": [
    "cell = Cell(\"Stochastic Simulation Progress - Stability Testing\", 1, 0)\n",
    "cell.ff(60*60)\n",
    "def incr_cro():\n",
    "    cell.proteins[\"cro\"]+=6;\n",
    "    cell.ff(60, 0)\n",
    "    cell.plot_history()\n",
    "[incr_cro() for i in range(0, 4)]\n",
    "cell.ff(60*120)\n",
    "cell.plot_history()\n",
    "cell.ff(60*120)\n",
    "cell.plot_history()"
   ]
  },
  {
   "cell_type": "code",
   "execution_count": null,
   "metadata": {
    "collapsed": false
   },
   "outputs": [],
   "source": [
    "cell.ff(60*30)\n",
    "cell.plot_history()"
   ]
  },
  {
   "cell_type": "code",
   "execution_count": null,
   "metadata": {
    "collapsed": false
   },
   "outputs": [],
   "source": [
    "cell.render_plot()\n",
    "cell.plot_history()"
   ]
  }
 ],
 "metadata": {
  "kernelspec": {
   "display_name": "Python 3",
   "language": "python",
   "name": "python3"
  },
  "language_info": {
   "codemirror_mode": {
    "name": "ipython",
    "version": 3
   },
   "file_extension": ".py",
   "mimetype": "text/x-python",
   "name": "python",
   "nbconvert_exporter": "python",
   "pygments_lexer": "ipython3",
   "version": "3.4.3"
  },
  "widgets": {
   "state": {},
   "version": "1.1.0"
  }
 },
 "nbformat": 4,
 "nbformat_minor": 0
}
